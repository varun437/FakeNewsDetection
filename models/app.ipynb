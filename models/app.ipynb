{
 "cells": [
  {
   "cell_type": "code",
   "execution_count": 1,
   "id": "2f0e1a09-ddec-453f-9a97-1947bddeecc3",
   "metadata": {},
   "outputs": [],
   "source": [
    "from flask import Flask, render_template, request\n",
    "import numpy as np \n",
    "import pandas as pd\n",
    "from gensim.models import Doc2Vec\n",
    "from gensim.models.doc2vec import TaggedDocument\n",
    "import string\n",
    "import nltk\n",
    "from nltk.corpus import stopwords\n",
    "from nltk.stem import WordNetLemmatizer \n",
    "from nltk.tokenize import sent_tokenize\n",
    "import pickle"
   ]
  },
  {
   "cell_type": "code",
   "execution_count": 2,
   "id": "ae9f7eb9-6e3d-4760-9e15-da083657dae4",
   "metadata": {},
   "outputs": [],
   "source": [
    "import tensorflow as tf\n",
    "import tensorflow_hub as hub\n",
    "import ssl\n",
    "import tensorflow_text as text\n",
    "import joblib\n",
    "from flask_ngrok import run_with_ngrok"
   ]
  },
  {
   "cell_type": "code",
   "execution_count": 3,
   "id": "9257d4fd-94ba-408c-9273-ff6ff903eb31",
   "metadata": {},
   "outputs": [
    {
     "name": "stderr",
     "output_type": "stream",
     "text": [
      "[nltk_data] Downloading package punkt to\n",
      "[nltk_data]     C:\\Users\\astro\\AppData\\Roaming\\nltk_data...\n",
      "[nltk_data]   Package punkt is already up-to-date!\n",
      "[nltk_data] Downloading package wordnet to\n",
      "[nltk_data]     C:\\Users\\astro\\AppData\\Roaming\\nltk_data...\n",
      "[nltk_data]   Package wordnet is already up-to-date!\n",
      "[nltk_data] Downloading package stopwords to\n",
      "[nltk_data]     C:\\Users\\astro\\AppData\\Roaming\\nltk_data...\n",
      "[nltk_data]   Package stopwords is already up-to-date!\n"
     ]
    },
    {
     "data": {
      "text/plain": [
       "True"
      ]
     },
     "execution_count": 3,
     "metadata": {},
     "output_type": "execute_result"
    }
   ],
   "source": [
    "try:\n",
    "    _create_unverified_https_context = ssl._create_unverified_context\n",
    "except AttributeError:\n",
    "    pass\n",
    "else:\n",
    "    ssl._create_default_https_context = _create_unverified_https_context\n",
    "\n",
    "nltk.download('punkt')\n",
    "nltk.download('wordnet')\n",
    "nltk.download('stopwords')"
   ]
  },
  {
   "cell_type": "code",
   "execution_count": 4,
   "id": "17bcbb0a-6dee-4337-abea-73cabae03a72",
   "metadata": {},
   "outputs": [],
   "source": [
    "app = Flask(__name__,template_folder='template')\n",
    "#run_with_ngrok(app)"
   ]
  },
  {
   "cell_type": "code",
   "execution_count": 5,
   "id": "fac822c6-fc20-4e0c-8f42-1ab212645c7d",
   "metadata": {},
   "outputs": [],
   "source": [
    "from keras.models import load_model\n",
    "model = load_model('model(1).h5')\n",
    "lstm = load_model('lstm.h5')\n",
    "doc = pickle.load(open('doc.pkl','rb'))"
   ]
  },
  {
   "cell_type": "code",
   "execution_count": 6,
   "id": "cdf2ca2a",
   "metadata": {},
   "outputs": [],
   "source": [
    "bert = joblib.load(open('doc.pkl','rb'))"
   ]
  },
  {
   "cell_type": "code",
   "execution_count": 7,
   "id": "bc597b86-e09d-4f9f-8276-26e925b56977",
   "metadata": {},
   "outputs": [
    {
     "name": "stdout",
     "output_type": "stream",
     "text": [
      "WARNING:tensorflow:Please fix your imports. Module tensorflow.python.training.tracking.data_structures has been moved to tensorflow.python.trackable.data_structures. The old module will be deleted in version 2.11.\n"
     ]
    },
    {
     "name": "stderr",
     "output_type": "stream",
     "text": [
      "WARNING:tensorflow:Please fix your imports. Module tensorflow.python.training.tracking.data_structures has been moved to tensorflow.python.trackable.data_structures. The old module will be deleted in version 2.11.\n"
     ]
    }
   ],
   "source": [
    "word2vec = hub.load(\"https://tfhub.dev/google/Wiki-words-250/2\")\n",
    "bert_preprocess = hub.KerasLayer(\"https://tfhub.dev/tensorflow/bert_en_uncased_preprocess/3\")\n",
    "bert_encoder = hub.KerasLayer('https://tfhub.dev/tensorflow/bert_en_uncased_L-12_H-768_A-12/4')"
   ]
  },
  {
   "cell_type": "code",
   "execution_count": 12,
   "id": "3d86eb39-98b6-4ec1-8738-59471c0079c2",
   "metadata": {},
   "outputs": [],
   "source": [
    "@app.route(\"/\")\n",
    "\n",
    "# Displaying front end\n",
    "def hello():\n",
    "    return render_template('index.html')"
   ]
  },
  {
   "cell_type": "code",
   "execution_count": 13,
   "id": "3ff441ce-6629-45f1-bf11-d84f5280af02",
   "metadata": {},
   "outputs": [],
   "source": [
    "@app.route('/sub', methods=[\"POST\"])\n",
    "\n",
    "#Retrieving submission with 'POST' and storing the name and model_type\n",
    "def submit():\n",
    "    if request.method == 'POST':\n",
    "        name = request.form['news']\n",
    "        modelType = request.form['modelType']\n",
    "    #New sentence for the model\n",
    "    sentence = name\n",
    "    #Lowercase words\n",
    "    sentence = sentence.lower()\n",
    "    #Ensure that all necessary punctuations are in one list\n",
    "    #Include ' and \" as they are not default\n",
    "    punc = list(string.punctuation)\n",
    "    punc.append('\\'')\n",
    "    punc.append('\"')\n",
    "    print(punc)\n",
    "    #Loop through sentence and remove all punctuations\n",
    "    for i in string.punctuation:\n",
    "        sentence = sentence.replace(i, '')\n",
    "    \n",
    "    #Tokenize sentence -> all words in a new list\n",
    "    tok = sentence.split(' ')\n",
    "\n",
    "    #Define text lemmatization model (eg: walks will be changed to walk)\n",
    "    lemmatizer = WordNetLemmatizer()\n",
    "\n",
    "    #Lemmatize each word in the sentence\n",
    "    for w in sentence:\n",
    "        lemmatizer.lemmatize(sentence)\n",
    "\n",
    "    #Define all stopwords in the English language (it, was, for, etc.)\n",
    "    stop = stopwords.words('english')\n",
    "    #Remove them from our dataframe and store in a new list\n",
    "    minStop = []\n",
    "    for i in tok:\n",
    "        if i not in stop:\n",
    "            minStop.append(i)\n",
    "    #If the model is a dense network, infer Doc2Vec predictions and pass the vectors into the dense model. Store results in a variable\n",
    "    if modelType == 'dense':\n",
    "        #Doc2Vec tags\n",
    "        tag = [TaggedDocument(minStop,[0])]\n",
    "        predVec = [doc.infer_vector(minStop)]\n",
    "        predVec = np.array(predVec)\n",
    "        results = model.predict(predVec)\n",
    "    #If the model is an LSTM network, infer Word2Vec predictions and pass the vectors into the lstm model. Store results in a variable\n",
    "    elif modelType == 'lstm':\n",
    "        val = []\n",
    "        for i in minStop:\n",
    "            temp = np.array(word2vec([i]))\n",
    "            val.append(temp)\n",
    "        val = np.array(val)\n",
    "        results = lstm.predict(val)\n",
    "    #If the model is a BERT model, pass the raw text into the BERT pipeline, as preprocessing is included there. Store results in a variable\n",
    "    elif modelType == 'bert':\n",
    "        results = bert.predict([name])\n",
    "    #Index into results. If probability is greater than 0.5, fake news. Else, real news.\n",
    "    conVal = results[0][0]\n",
    "    \n",
    "    if results[0][0] >= 0.5:\n",
    "        results = \"Fake\"\n",
    "        \n",
    "    else:\n",
    "        results = \"True\"\n",
    "    #Convert probability to percentages and display on the front-end\n",
    "    conVal *=100 \n",
    "    conVal = round(conVal,3)\n",
    "    conVal = str(conVal) + ' %'\n",
    "    return render_template('index.html', official = results,con=conVal)"
   ]
  },
  {
   "cell_type": "code",
   "execution_count": 14,
   "id": "aa64a65f-06f3-4eff-98a5-d8bb36b6176d",
   "metadata": {},
   "outputs": [
    {
     "name": "stdout",
     "output_type": "stream",
     "text": [
      " * Serving Flask app \"__main__\" (lazy loading)\n",
      " * Environment: production\n",
      "   WARNING: This is a development server. Do not use it in a production deployment.\n",
      "   Use a production WSGI server instead.\n",
      " * Debug mode: off\n"
     ]
    },
    {
     "name": "stderr",
     "output_type": "stream",
     "text": [
      "INFO:werkzeug: * Running on http://127.0.0.1:5000/ (Press CTRL+C to quit)\n",
      "ERROR:__main__:Exception on / [GET]\n",
      "Traceback (most recent call last):\n",
      "  File \"C:\\Users\\astro\\AppData\\Roaming\\Python\\Python39\\site-packages\\flask\\app.py\", line 2447, in wsgi_app\n",
      "    response = self.full_dispatch_request()\n",
      "  File \"C:\\Users\\astro\\AppData\\Roaming\\Python\\Python39\\site-packages\\flask\\app.py\", line 1952, in full_dispatch_request\n",
      "    rv = self.handle_user_exception(e)\n",
      "  File \"C:\\Users\\astro\\AppData\\Roaming\\Python\\Python39\\site-packages\\flask\\app.py\", line 1821, in handle_user_exception\n",
      "    reraise(exc_type, exc_value, tb)\n",
      "  File \"C:\\Users\\astro\\AppData\\Roaming\\Python\\Python39\\site-packages\\flask\\_compat.py\", line 39, in reraise\n",
      "    raise value\n",
      "  File \"C:\\Users\\astro\\AppData\\Roaming\\Python\\Python39\\site-packages\\flask\\app.py\", line 1950, in full_dispatch_request\n",
      "    rv = self.dispatch_request()\n",
      "  File \"C:\\Users\\astro\\AppData\\Roaming\\Python\\Python39\\site-packages\\flask\\app.py\", line 1936, in dispatch_request\n",
      "    return self.view_functions[rule.endpoint](**req.view_args)\n",
      "  File \"C:\\Users\\astro\\AppData\\Local\\Temp/ipykernel_1332/2255779961.py\", line 5, in hello\n",
      "    return render_template('index.html')\n",
      "  File \"C:\\Users\\astro\\AppData\\Roaming\\Python\\Python39\\site-packages\\flask\\templating.py\", line 138, in render_template\n",
      "    ctx.app.jinja_env.get_or_select_template(template_name_or_list),\n",
      "  File \"D:\\Jupyter\\Python\\lib\\site-packages\\jinja2\\environment.py\", line 930, in get_or_select_template\n",
      "    return self.get_template(template_name_or_list, parent, globals)\n",
      "  File \"D:\\Jupyter\\Python\\lib\\site-packages\\jinja2\\environment.py\", line 883, in get_template\n",
      "    return self._load_template(name, self.make_globals(globals))\n",
      "  File \"D:\\Jupyter\\Python\\lib\\site-packages\\jinja2\\environment.py\", line 857, in _load_template\n",
      "    template = self.loader.load(self, name, globals)\n",
      "  File \"D:\\Jupyter\\Python\\lib\\site-packages\\jinja2\\loaders.py\", line 115, in load\n",
      "    source, filename, uptodate = self.get_source(environment, name)\n",
      "  File \"C:\\Users\\astro\\AppData\\Roaming\\Python\\Python39\\site-packages\\flask\\templating.py\", line 60, in get_source\n",
      "    return self._get_source_fast(environment, template)\n",
      "  File \"C:\\Users\\astro\\AppData\\Roaming\\Python\\Python39\\site-packages\\flask\\templating.py\", line 89, in _get_source_fast\n",
      "    raise TemplateNotFound(template)\n",
      "jinja2.exceptions.TemplateNotFound: index.html\n",
      "INFO:werkzeug:127.0.0.1 - - [16/Oct/2022 14:42:22] \"\u001b[35m\u001b[1mGET / HTTP/1.1\u001b[0m\" 500 -\n",
      "INFO:werkzeug:127.0.0.1 - - [16/Oct/2022 14:42:23] \"\u001b[33mGET /favicon.ico HTTP/1.1\u001b[0m\" 404 -\n",
      "INFO:werkzeug:127.0.0.1 - - [16/Oct/2022 14:42:41] \"\u001b[31m\u001b[1mGET /sub HTTP/1.1\u001b[0m\" 405 -\n",
      "ERROR:__main__:Exception on / [GET]\n",
      "Traceback (most recent call last):\n",
      "  File \"C:\\Users\\astro\\AppData\\Roaming\\Python\\Python39\\site-packages\\flask\\app.py\", line 2447, in wsgi_app\n",
      "    response = self.full_dispatch_request()\n",
      "  File \"C:\\Users\\astro\\AppData\\Roaming\\Python\\Python39\\site-packages\\flask\\app.py\", line 1952, in full_dispatch_request\n",
      "    rv = self.handle_user_exception(e)\n",
      "  File \"C:\\Users\\astro\\AppData\\Roaming\\Python\\Python39\\site-packages\\flask\\app.py\", line 1821, in handle_user_exception\n",
      "    reraise(exc_type, exc_value, tb)\n",
      "  File \"C:\\Users\\astro\\AppData\\Roaming\\Python\\Python39\\site-packages\\flask\\_compat.py\", line 39, in reraise\n",
      "    raise value\n",
      "  File \"C:\\Users\\astro\\AppData\\Roaming\\Python\\Python39\\site-packages\\flask\\app.py\", line 1950, in full_dispatch_request\n",
      "    rv = self.dispatch_request()\n",
      "  File \"C:\\Users\\astro\\AppData\\Roaming\\Python\\Python39\\site-packages\\flask\\app.py\", line 1936, in dispatch_request\n",
      "    return self.view_functions[rule.endpoint](**req.view_args)\n",
      "  File \"C:\\Users\\astro\\AppData\\Local\\Temp/ipykernel_1332/2255779961.py\", line 5, in hello\n",
      "    return render_template('index.html')\n",
      "  File \"C:\\Users\\astro\\AppData\\Roaming\\Python\\Python39\\site-packages\\flask\\templating.py\", line 138, in render_template\n",
      "    ctx.app.jinja_env.get_or_select_template(template_name_or_list),\n",
      "  File \"D:\\Jupyter\\Python\\lib\\site-packages\\jinja2\\environment.py\", line 930, in get_or_select_template\n",
      "    return self.get_template(template_name_or_list, parent, globals)\n",
      "  File \"D:\\Jupyter\\Python\\lib\\site-packages\\jinja2\\environment.py\", line 883, in get_template\n",
      "    return self._load_template(name, self.make_globals(globals))\n",
      "  File \"D:\\Jupyter\\Python\\lib\\site-packages\\jinja2\\environment.py\", line 857, in _load_template\n",
      "    template = self.loader.load(self, name, globals)\n",
      "  File \"D:\\Jupyter\\Python\\lib\\site-packages\\jinja2\\loaders.py\", line 115, in load\n",
      "    source, filename, uptodate = self.get_source(environment, name)\n",
      "  File \"C:\\Users\\astro\\AppData\\Roaming\\Python\\Python39\\site-packages\\flask\\templating.py\", line 60, in get_source\n",
      "    return self._get_source_fast(environment, template)\n",
      "  File \"C:\\Users\\astro\\AppData\\Roaming\\Python\\Python39\\site-packages\\flask\\templating.py\", line 89, in _get_source_fast\n",
      "    raise TemplateNotFound(template)\n",
      "jinja2.exceptions.TemplateNotFound: index.html\n",
      "INFO:werkzeug:127.0.0.1 - - [16/Oct/2022 14:42:46] \"\u001b[35m\u001b[1mGET / HTTP/1.1\u001b[0m\" 500 -\n",
      "ERROR:__main__:Exception on / [GET]\n",
      "Traceback (most recent call last):\n",
      "  File \"C:\\Users\\astro\\AppData\\Roaming\\Python\\Python39\\site-packages\\flask\\app.py\", line 2447, in wsgi_app\n",
      "    response = self.full_dispatch_request()\n",
      "  File \"C:\\Users\\astro\\AppData\\Roaming\\Python\\Python39\\site-packages\\flask\\app.py\", line 1952, in full_dispatch_request\n",
      "    rv = self.handle_user_exception(e)\n",
      "  File \"C:\\Users\\astro\\AppData\\Roaming\\Python\\Python39\\site-packages\\flask\\app.py\", line 1821, in handle_user_exception\n",
      "    reraise(exc_type, exc_value, tb)\n",
      "  File \"C:\\Users\\astro\\AppData\\Roaming\\Python\\Python39\\site-packages\\flask\\_compat.py\", line 39, in reraise\n",
      "    raise value\n",
      "  File \"C:\\Users\\astro\\AppData\\Roaming\\Python\\Python39\\site-packages\\flask\\app.py\", line 1950, in full_dispatch_request\n",
      "    rv = self.dispatch_request()\n",
      "  File \"C:\\Users\\astro\\AppData\\Roaming\\Python\\Python39\\site-packages\\flask\\app.py\", line 1936, in dispatch_request\n",
      "    return self.view_functions[rule.endpoint](**req.view_args)\n",
      "  File \"C:\\Users\\astro\\AppData\\Local\\Temp/ipykernel_1332/2255779961.py\", line 5, in hello\n",
      "    return render_template('index.html')\n",
      "  File \"C:\\Users\\astro\\AppData\\Roaming\\Python\\Python39\\site-packages\\flask\\templating.py\", line 138, in render_template\n",
      "    ctx.app.jinja_env.get_or_select_template(template_name_or_list),\n",
      "  File \"D:\\Jupyter\\Python\\lib\\site-packages\\jinja2\\environment.py\", line 930, in get_or_select_template\n",
      "    return self.get_template(template_name_or_list, parent, globals)\n",
      "  File \"D:\\Jupyter\\Python\\lib\\site-packages\\jinja2\\environment.py\", line 883, in get_template\n",
      "    return self._load_template(name, self.make_globals(globals))\n",
      "  File \"D:\\Jupyter\\Python\\lib\\site-packages\\jinja2\\environment.py\", line 857, in _load_template\n",
      "    template = self.loader.load(self, name, globals)\n",
      "  File \"D:\\Jupyter\\Python\\lib\\site-packages\\jinja2\\loaders.py\", line 115, in load\n",
      "    source, filename, uptodate = self.get_source(environment, name)\n",
      "  File \"C:\\Users\\astro\\AppData\\Roaming\\Python\\Python39\\site-packages\\flask\\templating.py\", line 60, in get_source\n",
      "    return self._get_source_fast(environment, template)\n",
      "  File \"C:\\Users\\astro\\AppData\\Roaming\\Python\\Python39\\site-packages\\flask\\templating.py\", line 89, in _get_source_fast\n",
      "    raise TemplateNotFound(template)\n",
      "jinja2.exceptions.TemplateNotFound: index.html\n",
      "INFO:werkzeug:127.0.0.1 - - [16/Oct/2022 14:43:35] \"\u001b[35m\u001b[1mGET / HTTP/1.1\u001b[0m\" 500 -\n"
     ]
    }
   ],
   "source": [
    "if __name__ == \"__main__\":\n",
    "    app.run()"
   ]
  }
 ],
 "metadata": {
  "kernelspec": {
   "display_name": "Python 3.9.10 64-bit",
   "language": "python",
   "name": "python3"
  },
  "language_info": {
   "codemirror_mode": {
    "name": "ipython",
    "version": 3
   },
   "file_extension": ".py",
   "mimetype": "text/x-python",
   "name": "python",
   "nbconvert_exporter": "python",
   "pygments_lexer": "ipython3",
   "version": "3.9.10"
  },
  "vscode": {
   "interpreter": {
    "hash": "f51df58419b4451633f1122dee53416a438e30ff6de9c36c325bc1a87ba5e597"
   }
  }
 },
 "nbformat": 4,
 "nbformat_minor": 5
}
