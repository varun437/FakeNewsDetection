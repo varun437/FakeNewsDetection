{
 "cells": [
  {
   "cell_type": "code",
   "execution_count": 1,
   "metadata": {
    "id": "uK3Ild0w5_Ou"
   },
   "outputs": [],
   "source": [
    "import numpy as np\n",
    "import pandas as pd\n",
    "import matplotlib.pyplot as plt"
   ]
  },
  {
   "cell_type": "code",
   "execution_count": 2,
   "metadata": {
    "colab": {
     "base_uri": "https://localhost:8080/"
    },
    "id": "JznPiyqH7E7U",
    "outputId": "9e83ef44-d094-460e-c6a2-da2e3e9dfbb6"
   },
   "outputs": [],
   "source": [
    "#from google.colab import drive\n",
    "#drive.mount(\"/content/drive/\")"
   ]
  },
  {
   "cell_type": "code",
   "execution_count": 3,
   "metadata": {
    "colab": {
     "base_uri": "https://localhost:8080/"
    },
    "id": "QpyoAzFd7lca",
    "outputId": "c172805a-25bb-477b-d8ff-ab076e3449bc"
   },
   "outputs": [],
   "source": [
    "#!ls \"/content/drive/My Drive/News\""
   ]
  },
  {
   "cell_type": "code",
   "execution_count": 4,
   "metadata": {
    "id": "esiF9cmK8QLF"
   },
   "outputs": [],
   "source": [
    "real = pd.read_csv(\"True.csv\")\n",
    "fake = pd.read_csv(\"Fake.csv\")"
   ]
  },
  {
   "cell_type": "code",
   "execution_count": 5,
   "metadata": {
    "colab": {
     "base_uri": "https://localhost:8080/",
     "height": 206
    },
    "id": "5TYdNAHT8gE-",
    "outputId": "83de1e17-02e2-497a-8ebb-fb6e4d55d908"
   },
   "outputs": [
    {
     "data": {
      "text/html": [
       "<div>\n",
       "<style scoped>\n",
       "    .dataframe tbody tr th:only-of-type {\n",
       "        vertical-align: middle;\n",
       "    }\n",
       "\n",
       "    .dataframe tbody tr th {\n",
       "        vertical-align: top;\n",
       "    }\n",
       "\n",
       "    .dataframe thead th {\n",
       "        text-align: right;\n",
       "    }\n",
       "</style>\n",
       "<table border=\"1\" class=\"dataframe\">\n",
       "  <thead>\n",
       "    <tr style=\"text-align: right;\">\n",
       "      <th></th>\n",
       "      <th>title</th>\n",
       "      <th>text</th>\n",
       "      <th>subject</th>\n",
       "      <th>date</th>\n",
       "    </tr>\n",
       "  </thead>\n",
       "  <tbody>\n",
       "    <tr>\n",
       "      <th>0</th>\n",
       "      <td>As U.S. budget fight looms, Republicans flip t...</td>\n",
       "      <td>WASHINGTON (Reuters) - The head of a conservat...</td>\n",
       "      <td>politicsNews</td>\n",
       "      <td>December 31, 2017</td>\n",
       "    </tr>\n",
       "    <tr>\n",
       "      <th>1</th>\n",
       "      <td>U.S. military to accept transgender recruits o...</td>\n",
       "      <td>WASHINGTON (Reuters) - Transgender people will...</td>\n",
       "      <td>politicsNews</td>\n",
       "      <td>December 29, 2017</td>\n",
       "    </tr>\n",
       "    <tr>\n",
       "      <th>2</th>\n",
       "      <td>Senior U.S. Republican senator: 'Let Mr. Muell...</td>\n",
       "      <td>WASHINGTON (Reuters) - The special counsel inv...</td>\n",
       "      <td>politicsNews</td>\n",
       "      <td>December 31, 2017</td>\n",
       "    </tr>\n",
       "    <tr>\n",
       "      <th>3</th>\n",
       "      <td>FBI Russia probe helped by Australian diplomat...</td>\n",
       "      <td>WASHINGTON (Reuters) - Trump campaign adviser ...</td>\n",
       "      <td>politicsNews</td>\n",
       "      <td>December 30, 2017</td>\n",
       "    </tr>\n",
       "    <tr>\n",
       "      <th>4</th>\n",
       "      <td>Trump wants Postal Service to charge 'much mor...</td>\n",
       "      <td>SEATTLE/WASHINGTON (Reuters) - President Donal...</td>\n",
       "      <td>politicsNews</td>\n",
       "      <td>December 29, 2017</td>\n",
       "    </tr>\n",
       "  </tbody>\n",
       "</table>\n",
       "</div>"
      ],
      "text/plain": [
       "                                               title  \\\n",
       "0  As U.S. budget fight looms, Republicans flip t...   \n",
       "1  U.S. military to accept transgender recruits o...   \n",
       "2  Senior U.S. Republican senator: 'Let Mr. Muell...   \n",
       "3  FBI Russia probe helped by Australian diplomat...   \n",
       "4  Trump wants Postal Service to charge 'much mor...   \n",
       "\n",
       "                                                text       subject  \\\n",
       "0  WASHINGTON (Reuters) - The head of a conservat...  politicsNews   \n",
       "1  WASHINGTON (Reuters) - Transgender people will...  politicsNews   \n",
       "2  WASHINGTON (Reuters) - The special counsel inv...  politicsNews   \n",
       "3  WASHINGTON (Reuters) - Trump campaign adviser ...  politicsNews   \n",
       "4  SEATTLE/WASHINGTON (Reuters) - President Donal...  politicsNews   \n",
       "\n",
       "                 date  \n",
       "0  December 31, 2017   \n",
       "1  December 29, 2017   \n",
       "2  December 31, 2017   \n",
       "3  December 30, 2017   \n",
       "4  December 29, 2017   "
      ]
     },
     "execution_count": 5,
     "metadata": {},
     "output_type": "execute_result"
    }
   ],
   "source": [
    "#Displayed the first 5 rows of the real news dataset\n",
    "real.head()"
   ]
  },
  {
   "cell_type": "code",
   "execution_count": 6,
   "metadata": {
    "colab": {
     "base_uri": "https://localhost:8080/",
     "height": 206
    },
    "id": "3eXvNTad8nx1",
    "outputId": "6c2ba67e-d45e-4c0c-eacb-a045adf08b19"
   },
   "outputs": [
    {
     "data": {
      "text/html": [
       "<div>\n",
       "<style scoped>\n",
       "    .dataframe tbody tr th:only-of-type {\n",
       "        vertical-align: middle;\n",
       "    }\n",
       "\n",
       "    .dataframe tbody tr th {\n",
       "        vertical-align: top;\n",
       "    }\n",
       "\n",
       "    .dataframe thead th {\n",
       "        text-align: right;\n",
       "    }\n",
       "</style>\n",
       "<table border=\"1\" class=\"dataframe\">\n",
       "  <thead>\n",
       "    <tr style=\"text-align: right;\">\n",
       "      <th></th>\n",
       "      <th>title</th>\n",
       "      <th>text</th>\n",
       "      <th>subject</th>\n",
       "      <th>date</th>\n",
       "    </tr>\n",
       "  </thead>\n",
       "  <tbody>\n",
       "    <tr>\n",
       "      <th>0</th>\n",
       "      <td>Donald Trump Sends Out Embarrassing New Year’...</td>\n",
       "      <td>Donald Trump just couldn t wish all Americans ...</td>\n",
       "      <td>News</td>\n",
       "      <td>December 31, 2017</td>\n",
       "    </tr>\n",
       "    <tr>\n",
       "      <th>1</th>\n",
       "      <td>Drunk Bragging Trump Staffer Started Russian ...</td>\n",
       "      <td>House Intelligence Committee Chairman Devin Nu...</td>\n",
       "      <td>News</td>\n",
       "      <td>December 31, 2017</td>\n",
       "    </tr>\n",
       "    <tr>\n",
       "      <th>2</th>\n",
       "      <td>Sheriff David Clarke Becomes An Internet Joke...</td>\n",
       "      <td>On Friday, it was revealed that former Milwauk...</td>\n",
       "      <td>News</td>\n",
       "      <td>December 30, 2017</td>\n",
       "    </tr>\n",
       "    <tr>\n",
       "      <th>3</th>\n",
       "      <td>Trump Is So Obsessed He Even Has Obama’s Name...</td>\n",
       "      <td>On Christmas day, Donald Trump announced that ...</td>\n",
       "      <td>News</td>\n",
       "      <td>December 29, 2017</td>\n",
       "    </tr>\n",
       "    <tr>\n",
       "      <th>4</th>\n",
       "      <td>Pope Francis Just Called Out Donald Trump Dur...</td>\n",
       "      <td>Pope Francis used his annual Christmas Day mes...</td>\n",
       "      <td>News</td>\n",
       "      <td>December 25, 2017</td>\n",
       "    </tr>\n",
       "  </tbody>\n",
       "</table>\n",
       "</div>"
      ],
      "text/plain": [
       "                                               title  \\\n",
       "0   Donald Trump Sends Out Embarrassing New Year’...   \n",
       "1   Drunk Bragging Trump Staffer Started Russian ...   \n",
       "2   Sheriff David Clarke Becomes An Internet Joke...   \n",
       "3   Trump Is So Obsessed He Even Has Obama’s Name...   \n",
       "4   Pope Francis Just Called Out Donald Trump Dur...   \n",
       "\n",
       "                                                text subject  \\\n",
       "0  Donald Trump just couldn t wish all Americans ...    News   \n",
       "1  House Intelligence Committee Chairman Devin Nu...    News   \n",
       "2  On Friday, it was revealed that former Milwauk...    News   \n",
       "3  On Christmas day, Donald Trump announced that ...    News   \n",
       "4  Pope Francis used his annual Christmas Day mes...    News   \n",
       "\n",
       "                date  \n",
       "0  December 31, 2017  \n",
       "1  December 31, 2017  \n",
       "2  December 30, 2017  \n",
       "3  December 29, 2017  \n",
       "4  December 25, 2017  "
      ]
     },
     "execution_count": 6,
     "metadata": {},
     "output_type": "execute_result"
    }
   ],
   "source": [
    "#Displayed the first 5 rows of the fake news dataset\n",
    "fake.head()"
   ]
  },
  {
   "cell_type": "code",
   "execution_count": 7,
   "metadata": {
    "colab": {
     "base_uri": "https://localhost:8080/"
    },
    "id": "nTK6nAm48yMd",
    "outputId": "364d08a8-7dba-4c3f-c6dc-a792e67cea33"
   },
   "outputs": [
    {
     "name": "stdout",
     "output_type": "stream",
     "text": [
      "Real news:  (21417, 4)\n",
      "Fake News:  (23481, 4)\n"
     ]
    }
   ],
   "source": [
    "#Shape of real news dataset\n",
    "print(\"Real news: \",real.shape)\n",
    "#Shape of fake news dataset\n",
    "print(\"Fake News: \", fake.shape)"
   ]
  },
  {
   "cell_type": "code",
   "execution_count": 8,
   "metadata": {
    "id": "tr7dUhF6iniE"
   },
   "outputs": [],
   "source": [
    "#Assigning a value of 0 for all real news data and placing it in the dataframe\n",
    "class0 = []\n",
    "\n",
    "for i in range(21417):\n",
    "  class0.append(0)\n",
    "\n",
    "real.insert(4, \"class\", class0, True)"
   ]
  },
  {
   "cell_type": "code",
   "execution_count": 9,
   "metadata": {
    "id": "hBYIBWmmipB3"
   },
   "outputs": [],
   "source": [
    "#Assigning a value of 1 for all fake news data and placing it in the dataframe\n",
    "class1 = []\n",
    "\n",
    "for i in range(23481):\n",
    "  class1.append(1)\n",
    "\n",
    "fake.insert(4, \"class\", class1, True)"
   ]
  },
  {
   "cell_type": "code",
   "execution_count": 10,
   "metadata": {
    "id": "Q9BUEQMmEcuI"
   },
   "outputs": [],
   "source": [
    "#Concactenating fake news and real news into 1 total dataset\n",
    "total = pd.concat([real,fake])\n",
    "total = total.sample(frac = 1)"
   ]
  },
  {
   "cell_type": "code",
   "execution_count": 11,
   "metadata": {
    "colab": {
     "base_uri": "https://localhost:8080/"
    },
    "id": "SCJ6e9bQvMI6",
    "outputId": "bf9254fc-3c8f-40e3-dcbc-7b1972856fb8"
   },
   "outputs": [
    {
     "data": {
      "text/plain": [
       "(44898, 5)"
      ]
     },
     "execution_count": 11,
     "metadata": {},
     "output_type": "execute_result"
    }
   ],
   "source": [
    "#Shape of total\n",
    "total.shape"
   ]
  },
  {
   "cell_type": "code",
   "execution_count": 12,
   "metadata": {
    "colab": {
     "base_uri": "https://localhost:8080/",
     "height": 206
    },
    "id": "sw06yP3yfzjO",
    "outputId": "7be2dd9c-75d8-473f-d86f-a324e4f145c0"
   },
   "outputs": [
    {
     "data": {
      "text/html": [
       "<div>\n",
       "<style scoped>\n",
       "    .dataframe tbody tr th:only-of-type {\n",
       "        vertical-align: middle;\n",
       "    }\n",
       "\n",
       "    .dataframe tbody tr th {\n",
       "        vertical-align: top;\n",
       "    }\n",
       "\n",
       "    .dataframe thead th {\n",
       "        text-align: right;\n",
       "    }\n",
       "</style>\n",
       "<table border=\"1\" class=\"dataframe\">\n",
       "  <thead>\n",
       "    <tr style=\"text-align: right;\">\n",
       "      <th></th>\n",
       "      <th>title</th>\n",
       "      <th>text</th>\n",
       "      <th>subject</th>\n",
       "      <th>date</th>\n",
       "      <th>class</th>\n",
       "    </tr>\n",
       "  </thead>\n",
       "  <tbody>\n",
       "    <tr>\n",
       "      <th>15309</th>\n",
       "      <td>Qatar retools after boycott by top auto parts ...</td>\n",
       "      <td>DOHA (Reuters) - In a dusty industrial zone in...</td>\n",
       "      <td>worldnews</td>\n",
       "      <td>November 9, 2017</td>\n",
       "      <td>0</td>\n",
       "    </tr>\n",
       "    <tr>\n",
       "      <th>23447</th>\n",
       "      <td>‘Zero Knowledge’ Systems Not Hostile to Data P...</td>\n",
       "      <td>21st Century Wire says It s been almost two ye...</td>\n",
       "      <td>Middle-east</td>\n",
       "      <td>February 16, 2016</td>\n",
       "      <td>1</td>\n",
       "    </tr>\n",
       "    <tr>\n",
       "      <th>12027</th>\n",
       "      <td>Belgian trial of Paris attack suspect postpone...</td>\n",
       "      <td>BRUSSELS (Reuters) - The Belgian trial of a ke...</td>\n",
       "      <td>worldnews</td>\n",
       "      <td>December 18, 2017</td>\n",
       "      <td>0</td>\n",
       "    </tr>\n",
       "    <tr>\n",
       "      <th>6957</th>\n",
       "      <td>Trump to nominate retired General Mattis for P...</td>\n",
       "      <td>WASHINGTON (Reuters) - U.S. President-elect Do...</td>\n",
       "      <td>politicsNews</td>\n",
       "      <td>December 1, 2016</td>\n",
       "      <td>0</td>\n",
       "    </tr>\n",
       "    <tr>\n",
       "      <th>17660</th>\n",
       "      <td>TWO NEW POLLS Offer BAD NEWS For Democrats….Wh...</td>\n",
       "      <td>Last week, the Washington Post reported that a...</td>\n",
       "      <td>left-news</td>\n",
       "      <td>Nov 12, 2017</td>\n",
       "      <td>1</td>\n",
       "    </tr>\n",
       "  </tbody>\n",
       "</table>\n",
       "</div>"
      ],
      "text/plain": [
       "                                                   title                                               text       subject                date  class\n",
       "15309  Qatar retools after boycott by top auto parts ...  DOHA (Reuters) - In a dusty industrial zone in...     worldnews   November 9, 2017       0\n",
       "23447  ‘Zero Knowledge’ Systems Not Hostile to Data P...  21st Century Wire says It s been almost two ye...   Middle-east   February 16, 2016      1\n",
       "12027  Belgian trial of Paris attack suspect postpone...  BRUSSELS (Reuters) - The Belgian trial of a ke...     worldnews  December 18, 2017       0\n",
       "6957   Trump to nominate retired General Mattis for P...  WASHINGTON (Reuters) - U.S. President-elect Do...  politicsNews   December 1, 2016       0\n",
       "17660  TWO NEW POLLS Offer BAD NEWS For Democrats….Wh...  Last week, the Washington Post reported that a...     left-news        Nov 12, 2017      1"
      ]
     },
     "execution_count": 12,
     "metadata": {},
     "output_type": "execute_result"
    }
   ],
   "source": [
    "#total = total.sample(frac=1)\n",
    "pd.set_option('display.width', total.shape[0])\n",
    "total.head()"
   ]
  },
  {
   "cell_type": "code",
   "execution_count": 13,
   "metadata": {
    "colab": {
     "base_uri": "https://localhost:8080/",
     "height": 206
    },
    "id": "bDr1m7hw82Z1",
    "outputId": "e67eea70-1d3b-4f50-8640-09413efe2977"
   },
   "outputs": [
    {
     "data": {
      "text/html": [
       "<div>\n",
       "<style scoped>\n",
       "    .dataframe tbody tr th:only-of-type {\n",
       "        vertical-align: middle;\n",
       "    }\n",
       "\n",
       "    .dataframe tbody tr th {\n",
       "        vertical-align: top;\n",
       "    }\n",
       "\n",
       "    .dataframe thead th {\n",
       "        text-align: right;\n",
       "    }\n",
       "</style>\n",
       "<table border=\"1\" class=\"dataframe\">\n",
       "  <thead>\n",
       "    <tr style=\"text-align: right;\">\n",
       "      <th></th>\n",
       "      <th>title</th>\n",
       "      <th>class</th>\n",
       "    </tr>\n",
       "  </thead>\n",
       "  <tbody>\n",
       "    <tr>\n",
       "      <th>15309</th>\n",
       "      <td>Qatar retools after boycott by top auto parts ...</td>\n",
       "      <td>0</td>\n",
       "    </tr>\n",
       "    <tr>\n",
       "      <th>23447</th>\n",
       "      <td>‘Zero Knowledge’ Systems Not Hostile to Data P...</td>\n",
       "      <td>1</td>\n",
       "    </tr>\n",
       "    <tr>\n",
       "      <th>12027</th>\n",
       "      <td>Belgian trial of Paris attack suspect postpone...</td>\n",
       "      <td>0</td>\n",
       "    </tr>\n",
       "    <tr>\n",
       "      <th>6957</th>\n",
       "      <td>Trump to nominate retired General Mattis for P...</td>\n",
       "      <td>0</td>\n",
       "    </tr>\n",
       "    <tr>\n",
       "      <th>17660</th>\n",
       "      <td>TWO NEW POLLS Offer BAD NEWS For Democrats….Wh...</td>\n",
       "      <td>1</td>\n",
       "    </tr>\n",
       "  </tbody>\n",
       "</table>\n",
       "</div>"
      ],
      "text/plain": [
       "                                                   title  class\n",
       "15309  Qatar retools after boycott by top auto parts ...      0\n",
       "23447  ‘Zero Knowledge’ Systems Not Hostile to Data P...      1\n",
       "12027  Belgian trial of Paris attack suspect postpone...      0\n",
       "6957   Trump to nominate retired General Mattis for P...      0\n",
       "17660  TWO NEW POLLS Offer BAD NEWS For Democrats….Wh...      1"
      ]
     },
     "execution_count": 13,
     "metadata": {},
     "output_type": "execute_result"
    }
   ],
   "source": [
    "#Extract only the values for title (input) and class (output)\n",
    "data = total[['title','class']]\n",
    "data.head()\n"
   ]
  },
  {
   "cell_type": "code",
   "execution_count": 14,
   "metadata": {
    "colab": {
     "base_uri": "https://localhost:8080/"
    },
    "id": "8x1FDiv1exdj",
    "outputId": "126abf7c-90e3-4064-ebec-2d9ed106272c"
   },
   "outputs": [
    {
     "name": "stdout",
     "output_type": "stream",
     "text": [
      "Mean Length 80.11171989843646\n",
      "Min Length 8\n",
      "Max Length 286\n"
     ]
    }
   ],
   "source": [
    "# Character Length of Titles - Min, Mean, Max\n",
    "print('Mean Length', data['title'].apply(len).mean())\n",
    "print('Min Length', data['title'].apply(len).min())\n",
    "print('Max Length', data['title'].apply(len).max())\n",
    "\n"
   ]
  },
  {
   "cell_type": "code",
   "execution_count": 15,
   "metadata": {
    "colab": {
     "base_uri": "https://localhost:8080/",
     "height": 265
    },
    "id": "F8hjRPYQfzPe",
    "outputId": "ae13bfac-e73a-490c-80db-177c997fa253"
   },
   "outputs": [
    {
     "data": {
      "image/png": "[encoded data removed]",
      "text/plain": [
       "<Figure size 432x288 with 1 Axes>"
      ]
     },
     "metadata": {
      "needs_background": "light"
     },
     "output_type": "display_data"
    }
   ],
   "source": [
    "#plotting the frequency of characters on a histogram\n",
    "import seaborn as sns\n",
    "\n",
    "x = data['title'].apply(len).plot.hist()"
   ]
  },
  {
   "cell_type": "code",
   "execution_count": 16,
   "metadata": {
    "colab": {
     "base_uri": "https://localhost:8080/",
     "height": 197
    },
    "id": "Db9A_aV5hgMd",
    "outputId": "194bd2ac-c14a-4871-caf1-2c8faa2c1f2c"
   },
   "outputs": [],
   "source": [
    "from wordcloud import WordCloud, STOPWORDS"
   ]
  },
  {
   "cell_type": "code",
   "execution_count": 17,
   "metadata": {},
   "outputs": [
    {
     "data": {
      "image/png": "[encoded data removed]",
      "text/plain": [
       "<Figure size 432x288 with 1 Axes>"
      ]
     },
     "metadata": {
      "needs_background": "light"
     },
     "output_type": "display_data"
    }
   ],
   "source": [
    "text = data[data[\"class\"] == 1].values\n",
    "wc = WordCloud(stopwords=STOPWORDS).generate(str(text))\n",
    "plt.imshow(wc)\n",
    "plt.axis(\"off\")\n",
    "plt.show()"
   ]
  },
  {
   "cell_type": "code",
   "execution_count": 18,
   "metadata": {
    "id": "2zzpnCjhTGhV"
   },
   "outputs": [],
   "source": [
    "#Extracting numpy arrays for the title and classes\n",
    "titles = data[\"title\"].values\n",
    "labels = data[\"class\"].values"
   ]
  },
  {
   "cell_type": "code",
   "execution_count": 19,
   "metadata": {
    "colab": {
     "base_uri": "https://localhost:8080/",
     "height": 796
    },
    "id": "nOws8bK9iFZy",
    "outputId": "5d9fcc4f-5472-4b19-a035-c6962c89b252"
   },
   "outputs": [
    {
     "name": "stderr",
     "output_type": "stream",
     "text": [
      "C:\\Users\\astro\\AppData\\Local\\Temp/ipykernel_11948/1705681334.py:5: SettingWithCopyWarning: \n",
      "A value is trying to be set on a copy of a slice from a DataFrame.\n",
      "Try using .loc[row_indexer,col_indexer] = value instead\n",
      "\n",
      "See the caveats in the documentation: https://pandas.pydata.org/pandas-docs/stable/user_guide/indexing.html#returning-a-view-versus-a-copy\n",
      "  data['title'] = data['title'].str.lower()\n",
      "C:\\Users\\astro\\AppData\\Local\\Temp/ipykernel_11948/1705681334.py:28: SettingWithCopyWarning: \n",
      "A value is trying to be set on a copy of a slice from a DataFrame.\n",
      "Try using .loc[row_indexer,col_indexer] = value instead\n",
      "\n",
      "See the caveats in the documentation: https://pandas.pydata.org/pandas-docs/stable/user_guide/indexing.html#returning-a-view-versus-a-copy\n",
      "  data['title'] = data['title'].apply(removePunc)\n"
     ]
    },
    {
     "name": "stdout",
     "output_type": "stream",
     "text": [
      "['!', '\"', '#', '$', '%', '&', \"'\", '(', ')', '*', '+', ',', '-', '.', '/', ':', ';', '<', '=', '>', '?', '@', '[', '\\\\', ']', '^', '_', '`', '{', '|', '}', '~', \"'\", '\"']\n"
     ]
    },
    {
     "name": "stderr",
     "output_type": "stream",
     "text": [
      "[nltk_data] Downloading package punkt to\n",
      "[nltk_data]     C:\\Users\\astro\\AppData\\Roaming\\nltk_data...\n",
      "[nltk_data]   Package punkt is already up-to-date!\n",
      "[nltk_data] Downloading package wordnet to\n",
      "[nltk_data]     C:\\Users\\astro\\AppData\\Roaming\\nltk_data...\n",
      "[nltk_data]   Package wordnet is already up-to-date!\n",
      "[nltk_data] Downloading package stopwords to\n",
      "[nltk_data]     C:\\Users\\astro\\AppData\\Roaming\\nltk_data...\n",
      "[nltk_data]   Package stopwords is already up-to-date!\n",
      "C:\\Users\\astro\\AppData\\Local\\Temp/ipykernel_11948/1705681334.py:41: SettingWithCopyWarning: \n",
      "A value is trying to be set on a copy of a slice from a DataFrame.\n",
      "Try using .loc[row_indexer,col_indexer] = value instead\n",
      "\n",
      "See the caveats in the documentation: https://pandas.pydata.org/pandas-docs/stable/user_guide/indexing.html#returning-a-view-versus-a-copy\n",
      "  data['title'] = data.apply(lambda row: nltk.word_tokenize(row['title']), axis=1)\n",
      "C:\\Users\\astro\\AppData\\Local\\Temp/ipykernel_11948/1705681334.py:54: SettingWithCopyWarning: \n",
      "A value is trying to be set on a copy of a slice from a DataFrame.\n",
      "Try using .loc[row_indexer,col_indexer] = value instead\n",
      "\n",
      "See the caveats in the documentation: https://pandas.pydata.org/pandas-docs/stable/user_guide/indexing.html#returning-a-view-versus-a-copy\n",
      "  data['title'] = data['title'].apply(lemma)\n"
     ]
    },
    {
     "name": "stdout",
     "output_type": "stream",
     "text": [
      "<WordListCorpusReader in 'C:\\\\Users\\\\astro\\\\AppData\\\\Roaming\\\\nltk_data\\\\corpora\\\\stopwords'>\n"
     ]
    },
    {
     "name": "stderr",
     "output_type": "stream",
     "text": [
      "C:\\Users\\astro\\AppData\\Local\\Temp/ipykernel_11948/1705681334.py:66: SettingWithCopyWarning: \n",
      "A value is trying to be set on a copy of a slice from a DataFrame.\n",
      "Try using .loc[row_indexer,col_indexer] = value instead\n",
      "\n",
      "See the caveats in the documentation: https://pandas.pydata.org/pandas-docs/stable/user_guide/indexing.html#returning-a-view-versus-a-copy\n",
      "  data['title'] = data['title'].apply(lambda x: [i for i in x if i not in stop])\n"
     ]
    },
    {
     "data": {
      "text/html": [
       "<div>\n",
       "<style scoped>\n",
       "    .dataframe tbody tr th:only-of-type {\n",
       "        vertical-align: middle;\n",
       "    }\n",
       "\n",
       "    .dataframe tbody tr th {\n",
       "        vertical-align: top;\n",
       "    }\n",
       "\n",
       "    .dataframe thead th {\n",
       "        text-align: right;\n",
       "    }\n",
       "</style>\n",
       "<table border=\"1\" class=\"dataframe\">\n",
       "  <thead>\n",
       "    <tr style=\"text-align: right;\">\n",
       "      <th></th>\n",
       "      <th>title</th>\n",
       "      <th>class</th>\n",
       "    </tr>\n",
       "  </thead>\n",
       "  <tbody>\n",
       "    <tr>\n",
       "      <th>15309</th>\n",
       "      <td>[qatar, retools, boycott, top, auto, part, sup...</td>\n",
       "      <td>0</td>\n",
       "    </tr>\n",
       "    <tr>\n",
       "      <th>23447</th>\n",
       "      <td>[‘, zero, knowledge, ’, system, hostile, data,...</td>\n",
       "      <td>1</td>\n",
       "    </tr>\n",
       "    <tr>\n",
       "      <th>12027</th>\n",
       "      <td>[belgian, trial, paris, attack, suspect, postp...</td>\n",
       "      <td>0</td>\n",
       "    </tr>\n",
       "    <tr>\n",
       "      <th>6957</th>\n",
       "      <td>[trump, nominate, retired, general, mattis, pe...</td>\n",
       "      <td>0</td>\n",
       "    </tr>\n",
       "    <tr>\n",
       "      <th>17660</th>\n",
       "      <td>[two, new, poll, offer, bad, news, democrats…w...</td>\n",
       "      <td>1</td>\n",
       "    </tr>\n",
       "  </tbody>\n",
       "</table>\n",
       "</div>"
      ],
      "text/plain": [
       "                                                   title  class\n",
       "15309  [qatar, retools, boycott, top, auto, part, sup...      0\n",
       "23447  [‘, zero, knowledge, ’, system, hostile, data,...      1\n",
       "12027  [belgian, trial, paris, attack, suspect, postp...      0\n",
       "6957   [trump, nominate, retired, general, mattis, pe...      0\n",
       "17660  [two, new, poll, offer, bad, news, democrats…w...      1"
      ]
     },
     "execution_count": 19,
     "metadata": {},
     "output_type": "execute_result"
    }
   ],
   "source": [
    "#Data Preprocessing\n",
    "\n",
    "\n",
    "#Lowercase letters\n",
    "data['title'] = data['title'].str.lower()\n",
    "data.head()\n",
    "\n",
    "\n",
    "#Ensure that all necessary punctuations are in one list\n",
    "#Include ' and \" as they are not default\n",
    "\n",
    "import string\n",
    "#Fix this (note to self)\n",
    "punc = list(string.punctuation)\n",
    "punc.append('\\'')\n",
    "punc.append('\"')\n",
    "print(punc)\n",
    "\n",
    "\n",
    "#Loop through dataframe and remove all punctuations\n",
    "def removePunc(text):\n",
    "    for i in string.punctuation:\n",
    "        text = text.replace(i, '')\n",
    "    return text\n",
    "\n",
    "\n",
    "# Apply to the DF series\n",
    "data['title'] = data['title'].apply(removePunc)\n",
    "data.head()\n",
    "\n",
    "\n",
    "#Import nltk preprocessing library to convert text into a readable format\n",
    "import nltk\n",
    "nltk.download('punkt')\n",
    "nltk.download('wordnet')\n",
    "nltk.download('stopwords')\n",
    "from nltk.tokenize import sent_tokenize\n",
    "\n",
    "\n",
    "#Tokenize the string (create a list -> each index is a word)\n",
    "data['title'] = data.apply(lambda row: nltk.word_tokenize(row['title']), axis=1)\n",
    "data.head()\n",
    "\n",
    "#Define text lemmatization model (eg: walks will be changed to walk)\n",
    "from nltk.stem import WordNetLemmatizer \n",
    "lemmatizer = WordNetLemmatizer()\n",
    "\n",
    "\n",
    "#Loop through title dataframe and lemmatize each word\n",
    "def lemma(data):\n",
    "  return [lemmatizer.lemmatize(w) for w in data]\n",
    "\n",
    "#Apply to dataframe\n",
    "data['title'] = data['title'].apply(lemma)\n",
    "\n",
    "data.head()\n",
    "\n",
    "\n",
    "\n",
    "#Define all stopwords in the English language (it, was, for, etc.)\n",
    "from nltk.corpus import stopwords\n",
    "\n",
    "stop = stopwords.words('english')\n",
    "print(stopwords)\n",
    "#Remove them from our dataframe\n",
    "data['title'] = data['title'].apply(lambda x: [i for i in x if i not in stop])\n",
    "\n",
    "\n",
    "\n",
    "\n",
    "\n",
    "data.head()"
   ]
  },
  {
   "cell_type": "code",
   "execution_count": 20,
   "metadata": {
    "id": "zv8yxuoS11p4"
   },
   "outputs": [],
   "source": [
    "from sklearn.model_selection import train_test_split\n",
    "\n",
    "#Split data into training and testing dataset\n",
    "#We teach our model based on the training set (including the labels)\n",
    "#We take the labels away to test our model with the testing set\n",
    "title_train, title_test, y_train, y_test = train_test_split(titles, labels, test_size=0.2, random_state=1000)"
   ]
  },
  {
   "cell_type": "code",
   "execution_count": 21,
   "metadata": {
    "colab": {
     "base_uri": "https://localhost:8080/"
    },
    "id": "S4lvpMYQyrNj",
    "outputId": "ab570947-1a61-48a4-b6ee-b2c909cb86d9"
   },
   "outputs": [
    {
     "name": "stdout",
     "output_type": "stream",
     "text": [
      "21264\n"
     ]
    },
    {
     "data": {
      "text/plain": [
       "(1617432, 1805630)"
      ]
     },
     "execution_count": 21,
     "metadata": {},
     "output_type": "execute_result"
    }
   ],
   "source": [
    "from gensim.models import Word2Vec\n",
    "#Create a word2vec model\n",
    "vec = Word2Vec(min_count=1)\n",
    "#Build its vocabulary by looping through the title dataset\n",
    "vec.build_vocab([x for x in title_train])\n",
    "#Print the vocabular size\n",
    "print(len(vec.wv.key_to_index))\n",
    "#Train our word2vec model on all titles for 5 epochs\n",
    "vec.train([x for x in title_train],total_examples=vec.corpus_count,epochs=5)"
   ]
  },
  {
   "cell_type": "code",
   "execution_count": 22,
   "metadata": {
    "id": "DhNLRjfc6c8L"
   },
   "outputs": [],
   "source": [
    "#For this project, we will use Tensorflow-hub words\n",
    "import tensorflow_hub as hub\n",
    "\n",
    "embed = hub.load(\"https://tfhub.dev/google/Wiki-words-250/2\")"
   ]
  },
  {
   "cell_type": "code",
   "execution_count": 23,
   "metadata": {
    "id": "-DlSKESTB-cZ"
   },
   "outputs": [],
   "source": [
    "#Convert each series of words to a word2vec embedding\n",
    "indiv = []\n",
    "for i in title_train:\n",
    "    temp = np.array(embed(i))\n",
    "    indiv.append(temp)"
   ]
  },
  {
   "cell_type": "code",
   "execution_count": 24,
   "metadata": {
    "id": "NoXsCnuGypOb"
   },
   "outputs": [],
   "source": [
    "#Accounts for different length of words\n",
    "import tensorflow as tf\n",
    "\n",
    "indiv = tf.keras.preprocessing.sequence.pad_sequences(indiv,dtype='float')"
   ]
  },
  {
   "cell_type": "code",
   "execution_count": 25,
   "metadata": {
    "colab": {
     "base_uri": "https://localhost:8080/"
    },
    "id": "5KT7rR-ZzHA5",
    "outputId": "73ca0e90-5513-46b4-b97c-d691a7c86f5b"
   },
   "outputs": [
    {
     "data": {
      "text/plain": [
       "(35918, 34, 250)"
      ]
     },
     "execution_count": 25,
     "metadata": {},
     "output_type": "execute_result"
    }
   ],
   "source": [
    "# (35918 entries, maximum is 34 words, 250 is the vector size)\n",
    "indiv.shape"
   ]
  },
  {
   "cell_type": "code",
   "execution_count": 26,
   "metadata": {
    "id": "gQRgsgMKA7qg"
   },
   "outputs": [],
   "source": [
    "#Convert each of the testing data series to a Word2Vec embedding\n",
    "test = []\n",
    "\n",
    "for i in title_test:\n",
    "  temp = np.array(embed(i))\n",
    "  test.append(temp)\n",
    "  "
   ]
  },
  {
   "cell_type": "code",
   "execution_count": 27,
   "metadata": {
    "id": "Ki2QrD328y7S"
   },
   "outputs": [],
   "source": [
    "#Accounts for the different length of words in test data\n",
    "test = tf.keras.preprocessing.sequence.pad_sequences(test,dtype='float')"
   ]
  },
  {
   "cell_type": "code",
   "execution_count": 28,
   "metadata": {
    "id": "luS6v-qs9-c3"
   },
   "outputs": [],
   "source": [
    "#Sequential model has a 50 cell LSTM layer before Dense layers\n",
    "model = tf.keras.models.Sequential()\n",
    "\n",
    "\n",
    "model.add(tf.keras.layers.LSTM(50))\n",
    "model.add(tf.keras.layers.Dense(20,activation='relu'))\n",
    "model.add(tf.keras.layers.Dense(5,activation='relu'))\n",
    "\n",
    "model.add(tf.keras.layers.Dense(1,activation='sigmoid'))"
   ]
  },
  {
   "cell_type": "code",
   "execution_count": 29,
   "metadata": {
    "id": "qRMvJ1VgAP8A"
   },
   "outputs": [],
   "source": [
    "#Compile model with binary_crossentropy loss, Adam optimizer, and accuracy metrics\n",
    "model.compile(optimizer=tf.keras.optimizers.Adam(learning_rate = 1e-4),loss=\"binary_crossentropy\", metrics=['accuracy'])"
   ]
  },
  {
   "cell_type": "code",
   "execution_count": 50,
   "metadata": {
    "colab": {
     "base_uri": "https://localhost:8080/"
    },
    "id": "KZ3Y8DDJAdSq",
    "outputId": "b09389f0-37f5-4617-e568-5c5d7240eb3b"
   },
   "outputs": [
    {
     "name": "stdout",
     "output_type": "stream",
     "text": [
      "Epoch 1/20\n",
      "1123/1123 [==============================] - 44s 32ms/step - loss: 0.1491 - accuracy: 0.9407 - val_loss: 0.1685 - val_accuracy: 0.9345\n",
      "Epoch 2/20\n",
      "1123/1123 [==============================] - 17s 15ms/step - loss: 0.1469 - accuracy: 0.9412 - val_loss: 0.1648 - val_accuracy: 0.9344\n",
      "Epoch 3/20\n",
      "1123/1123 [==============================] - 19s 17ms/step - loss: 0.1447 - accuracy: 0.9428 - val_loss: 0.1649 - val_accuracy: 0.9351\n",
      "Epoch 4/20\n",
      "1123/1123 [==============================] - 18s 16ms/step - loss: 0.1426 - accuracy: 0.9440 - val_loss: 0.1616 - val_accuracy: 0.9365\n",
      "Epoch 5/20\n",
      "1123/1123 [==============================] - 18s 16ms/step - loss: 0.1419 - accuracy: 0.9437 - val_loss: 0.1740 - val_accuracy: 0.9306\n",
      "Epoch 6/20\n",
      "1123/1123 [==============================] - 17s 16ms/step - loss: 0.1396 - accuracy: 0.9457 - val_loss: 0.1711 - val_accuracy: 0.9313\n",
      "Epoch 7/20\n",
      "1123/1123 [==============================] - 17s 15ms/step - loss: 0.1370 - accuracy: 0.9467 - val_loss: 0.1755 - val_accuracy: 0.9313\n",
      "Epoch 8/20\n",
      "1123/1123 [==============================] - 16s 15ms/step - loss: 0.1356 - accuracy: 0.9476 - val_loss: 0.1765 - val_accuracy: 0.9296\n",
      "Epoch 9/20\n",
      "1123/1123 [==============================] - 18s 16ms/step - loss: 0.1341 - accuracy: 0.9471 - val_loss: 0.1575 - val_accuracy: 0.9373\n",
      "Epoch 10/20\n",
      "1123/1123 [==============================] - 18s 16ms/step - loss: 0.1318 - accuracy: 0.9480 - val_loss: 0.1622 - val_accuracy: 0.9360\n",
      "Epoch 11/20\n",
      "1123/1123 [==============================] - 16s 15ms/step - loss: 0.1305 - accuracy: 0.9478 - val_loss: 0.1563 - val_accuracy: 0.9388\n",
      "Epoch 12/20\n",
      "1123/1123 [==============================] - 17s 15ms/step - loss: 0.1284 - accuracy: 0.9506 - val_loss: 0.1545 - val_accuracy: 0.9406\n",
      "Epoch 13/20\n",
      "1123/1123 [==============================] - 16s 15ms/step - loss: 0.1271 - accuracy: 0.9503 - val_loss: 0.1540 - val_accuracy: 0.9413\n",
      "Epoch 14/20\n",
      "1123/1123 [==============================] - 17s 15ms/step - loss: 0.1258 - accuracy: 0.9507 - val_loss: 0.1582 - val_accuracy: 0.9386\n",
      "Epoch 15/20\n",
      "1123/1123 [==============================] - 18s 16ms/step - loss: 0.1236 - accuracy: 0.9512 - val_loss: 0.1534 - val_accuracy: 0.9420\n",
      "Epoch 16/20\n",
      "1123/1123 [==============================] - 17s 15ms/step - loss: 0.1229 - accuracy: 0.9510 - val_loss: 0.1528 - val_accuracy: 0.9425\n",
      "Epoch 17/20\n",
      "1123/1123 [==============================] - 16s 14ms/step - loss: 0.1212 - accuracy: 0.9519 - val_loss: 0.1696 - val_accuracy: 0.9339\n",
      "Epoch 18/20\n",
      "1123/1123 [==============================] - 16s 14ms/step - loss: 0.1205 - accuracy: 0.9534 - val_loss: 0.1493 - val_accuracy: 0.9432\n",
      "Epoch 19/20\n",
      "1123/1123 [==============================] - 16s 14ms/step - loss: 0.1179 - accuracy: 0.9534 - val_loss: 0.1499 - val_accuracy: 0.9430\n",
      "Epoch 20/20\n",
      "1123/1123 [==============================] - 16s 15ms/step - loss: 0.1169 - accuracy: 0.9543 - val_loss: 0.1497 - val_accuracy: 0.9441\n"
     ]
    }
   ],
   "source": [
    "epochs = 20\n",
    "hist = model.fit(indiv, y_train,validation_data=[test,y_test],epochs=epochs)"
   ]
  },
  {
   "cell_type": "code",
   "execution_count": 51,
   "metadata": {},
   "outputs": [],
   "source": [
    "hist_dict  = hist.history\n",
    "acc = hist_dict['accuracy']\n",
    "val_acc=hist_dict['val_accuracy']\n",
    "loss = hist_dict['loss']\n",
    "val_loss=hist_dict['val_loss']"
   ]
  },
  {
   "cell_type": "code",
   "execution_count": 52,
   "metadata": {},
   "outputs": [
    {
     "data": {
      "text/plain": [
       "<matplotlib.legend.Legend at 0x2884cf6c370>"
      ]
     },
     "execution_count": 52,
     "metadata": {},
     "output_type": "execute_result"
    },
    {
     "data": {
      "image/png": "[encoded data removed]",
      "text/plain": [
       "<Figure size 432x288 with 1 Axes>"
      ]
     },
     "metadata": {
      "needs_background": "light"
     },
     "output_type": "display_data"
    }
   ],
   "source": [
    "plt.subplot()\n",
    "plt.plot(loss,'r',label='Training Loss')\n",
    "plt.plot(val_loss,'b',label='Validation Loss')\n",
    "plt.title('Training and Validation Loss - LSTM')\n",
    "plt.ylabel('Loss')\n",
    "plt.legend()"
   ]
  },
  {
   "cell_type": "code",
   "execution_count": 53,
   "metadata": {},
   "outputs": [
    {
     "data": {
      "text/plain": [
       "<matplotlib.legend.Legend at 0x2884cdddf10>"
      ]
     },
     "execution_count": 53,
     "metadata": {},
     "output_type": "execute_result"
    },
    {
     "data": {
      "image/png": "[encoded data removed]",
      "text/plain": [
       "<Figure size 432x288 with 1 Axes>"
      ]
     },
     "metadata": {
      "needs_background": "light"
     },
     "output_type": "display_data"
    }
   ],
   "source": [
    "plt.subplot()\n",
    "plt.plot(acc,'r',label='Training Accuracy')\n",
    "plt.plot(val_acc,'b',label='Validation Accuracy')\n",
    "plt.title('Training and Validation Accuracy - LSTM')\n",
    "plt.ylabel('Accuracy')\n",
    "plt.legend()"
   ]
  },
  {
   "cell_type": "code",
   "execution_count": null,
   "metadata": {
    "id": "bZw11US12J25"
   },
   "outputs": [],
   "source": [
    "#Test sample -> preprocess to extract word vectors\n",
    "val = []\n",
    "\n",
    "sample = np.array([['vaccines','do','not','work']])\n",
    "for i in sample:\n",
    "  temp = np.array(embed(i))\n",
    "  val.append(temp)"
   ]
  },
  {
   "cell_type": "code",
   "execution_count": null,
   "metadata": {
    "colab": {
     "base_uri": "https://localhost:8080/"
    },
    "id": "BeWkSO553LOD",
    "outputId": "b979dda6-1633-48c0-de34-372199310785"
   },
   "outputs": [],
   "source": [
    "#Convert word vectors to a numpy array and run a prediction\n",
    "val = np.array(val)\n",
    "model.predict(val)"
   ]
  },
  {
   "cell_type": "code",
   "execution_count": null,
   "metadata": {},
   "outputs": [],
   "source": [
    "from keras.models import load_model\n",
    "model.save('lstm.h5')\n",
    "model_final = load_model('lstm.h5')"
   ]
  },
  {
   "cell_type": "code",
   "execution_count": null,
   "metadata": {
    "colab": {
     "base_uri": "https://localhost:8080/"
    },
    "id": "yMDQXPHL_1ss",
    "outputId": "4a2b756d-5529-4347-c270-12a3be7cb0de"
   },
   "outputs": [],
   "source": [
    "#Download with pickle\n",
    "import pickle \n",
    "\n",
    "pickle.dump(model, open('lstm.pkl','wb'))\n"
   ]
  }
 ],
 "metadata": {
  "accelerator": "GPU",
  "colab": {
   "collapsed_sections": [],
   "name": "fakeNewsLSTM.ipynb",
   "provenance": []
  },
  "kernelspec": {
   "display_name": "Python 3.9.10 64-bit",
   "language": "python",
   "name": "python3"
  },
  "language_info": {
   "codemirror_mode": {
    "name": "ipython",
    "version": 3
   },
   "file_extension": ".py",
   "mimetype": "text/x-python",
   "name": "python",
   "nbconvert_exporter": "python",
   "pygments_lexer": "ipython3",
   "version": "3.9.10"
  },
  "vscode": {
   "interpreter": {
    "hash": "f51df58419b4451633f1122dee53416a438e30ff6de9c36c325bc1a87ba5e597"
   }
  }
 },
 "nbformat": 4,
 "nbformat_minor": 4
}
