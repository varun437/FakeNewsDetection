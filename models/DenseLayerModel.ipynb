{
 "cells": [
  {
   "cell_type": "code",
   "execution_count": 1,
   "metadata": {
    "id": "uK3Ild0w5_Ou"
   },
   "outputs": [],
   "source": [
    "import numpy as np\n",
    "import pandas as pd\n",
    "import matplotlib.pyplot as plt"
   ]
  },
  {
   "cell_type": "code",
   "execution_count": 4,
   "metadata": {
    "id": "esiF9cmK8QLF"
   },
   "outputs": [],
   "source": [
    "real = pd.read_csv(\"True.csv\")\n",
    "fake = pd.read_csv(\"Fake.csv\")"
   ]
  },
  {
   "cell_type": "code",
   "execution_count": 5,
   "metadata": {
    "colab": {
     "base_uri": "https://localhost:8080/",
     "height": 206
    },
    "id": "5TYdNAHT8gE-",
    "outputId": "e0557d91-a067-4c30-c2a2-62f952a35ca4"
   },
   "outputs": [
    {
     "data": {
      "text/html": [
       "<div>\n",
       "<style scoped>\n",
       "    .dataframe tbody tr th:only-of-type {\n",
       "        vertical-align: middle;\n",
       "    }\n",
       "\n",
       "    .dataframe tbody tr th {\n",
       "        vertical-align: top;\n",
       "    }\n",
       "\n",
       "    .dataframe thead th {\n",
       "        text-align: right;\n",
       "    }\n",
       "</style>\n",
       "<table border=\"1\" class=\"dataframe\">\n",
       "  <thead>\n",
       "    <tr style=\"text-align: right;\">\n",
       "      <th></th>\n",
       "      <th>title</th>\n",
       "      <th>text</th>\n",
       "      <th>subject</th>\n",
       "      <th>date</th>\n",
       "    </tr>\n",
       "  </thead>\n",
       "  <tbody>\n",
       "    <tr>\n",
       "      <th>0</th>\n",
       "      <td>As U.S. budget fight looms, Republicans flip t...</td>\n",
       "      <td>WASHINGTON (Reuters) - The head of a conservat...</td>\n",
       "      <td>politicsNews</td>\n",
       "      <td>December 31, 2017</td>\n",
       "    </tr>\n",
       "    <tr>\n",
       "      <th>1</th>\n",
       "      <td>U.S. military to accept transgender recruits o...</td>\n",
       "      <td>WASHINGTON (Reuters) - Transgender people will...</td>\n",
       "      <td>politicsNews</td>\n",
       "      <td>December 29, 2017</td>\n",
       "    </tr>\n",
       "    <tr>\n",
       "      <th>2</th>\n",
       "      <td>Senior U.S. Republican senator: 'Let Mr. Muell...</td>\n",
       "      <td>WASHINGTON (Reuters) - The special counsel inv...</td>\n",
       "      <td>politicsNews</td>\n",
       "      <td>December 31, 2017</td>\n",
       "    </tr>\n",
       "    <tr>\n",
       "      <th>3</th>\n",
       "      <td>FBI Russia probe helped by Australian diplomat...</td>\n",
       "      <td>WASHINGTON (Reuters) - Trump campaign adviser ...</td>\n",
       "      <td>politicsNews</td>\n",
       "      <td>December 30, 2017</td>\n",
       "    </tr>\n",
       "    <tr>\n",
       "      <th>4</th>\n",
       "      <td>Trump wants Postal Service to charge 'much mor...</td>\n",
       "      <td>SEATTLE/WASHINGTON (Reuters) - President Donal...</td>\n",
       "      <td>politicsNews</td>\n",
       "      <td>December 29, 2017</td>\n",
       "    </tr>\n",
       "  </tbody>\n",
       "</table>\n",
       "</div>"
      ],
      "text/plain": [
       "                                               title  \\\n",
       "0  As U.S. budget fight looms, Republicans flip t...   \n",
       "1  U.S. military to accept transgender recruits o...   \n",
       "2  Senior U.S. Republican senator: 'Let Mr. Muell...   \n",
       "3  FBI Russia probe helped by Australian diplomat...   \n",
       "4  Trump wants Postal Service to charge 'much mor...   \n",
       "\n",
       "                                                text       subject  \\\n",
       "0  WASHINGTON (Reuters) - The head of a conservat...  politicsNews   \n",
       "1  WASHINGTON (Reuters) - Transgender people will...  politicsNews   \n",
       "2  WASHINGTON (Reuters) - The special counsel inv...  politicsNews   \n",
       "3  WASHINGTON (Reuters) - Trump campaign adviser ...  politicsNews   \n",
       "4  SEATTLE/WASHINGTON (Reuters) - President Donal...  politicsNews   \n",
       "\n",
       "                 date  \n",
       "0  December 31, 2017   \n",
       "1  December 29, 2017   \n",
       "2  December 31, 2017   \n",
       "3  December 30, 2017   \n",
       "4  December 29, 2017   "
      ]
     },
     "execution_count": 5,
     "metadata": {},
     "output_type": "execute_result"
    }
   ],
   "source": [
    "#Displayed the first 5 rows of the real news dataset\n",
    "real.head()"
   ]
  },
  {
   "cell_type": "code",
   "execution_count": 6,
   "metadata": {
    "colab": {
     "base_uri": "https://localhost:8080/",
     "height": 206
    },
    "id": "3eXvNTad8nx1",
    "outputId": "adb02bfc-33ce-40d2-b76e-50994cb366ed"
   },
   "outputs": [
    {
     "data": {
      "text/html": [
       "<div>\n",
       "<style scoped>\n",
       "    .dataframe tbody tr th:only-of-type {\n",
       "        vertical-align: middle;\n",
       "    }\n",
       "\n",
       "    .dataframe tbody tr th {\n",
       "        vertical-align: top;\n",
       "    }\n",
       "\n",
       "    .dataframe thead th {\n",
       "        text-align: right;\n",
       "    }\n",
       "</style>\n",
       "<table border=\"1\" class=\"dataframe\">\n",
       "  <thead>\n",
       "    <tr style=\"text-align: right;\">\n",
       "      <th></th>\n",
       "      <th>title</th>\n",
       "      <th>text</th>\n",
       "      <th>subject</th>\n",
       "      <th>date</th>\n",
       "    </tr>\n",
       "  </thead>\n",
       "  <tbody>\n",
       "    <tr>\n",
       "      <th>0</th>\n",
       "      <td>Donald Trump Sends Out Embarrassing New Year’...</td>\n",
       "      <td>Donald Trump just couldn t wish all Americans ...</td>\n",
       "      <td>News</td>\n",
       "      <td>December 31, 2017</td>\n",
       "    </tr>\n",
       "    <tr>\n",
       "      <th>1</th>\n",
       "      <td>Drunk Bragging Trump Staffer Started Russian ...</td>\n",
       "      <td>House Intelligence Committee Chairman Devin Nu...</td>\n",
       "      <td>News</td>\n",
       "      <td>December 31, 2017</td>\n",
       "    </tr>\n",
       "    <tr>\n",
       "      <th>2</th>\n",
       "      <td>Sheriff David Clarke Becomes An Internet Joke...</td>\n",
       "      <td>On Friday, it was revealed that former Milwauk...</td>\n",
       "      <td>News</td>\n",
       "      <td>December 30, 2017</td>\n",
       "    </tr>\n",
       "    <tr>\n",
       "      <th>3</th>\n",
       "      <td>Trump Is So Obsessed He Even Has Obama’s Name...</td>\n",
       "      <td>On Christmas day, Donald Trump announced that ...</td>\n",
       "      <td>News</td>\n",
       "      <td>December 29, 2017</td>\n",
       "    </tr>\n",
       "    <tr>\n",
       "      <th>4</th>\n",
       "      <td>Pope Francis Just Called Out Donald Trump Dur...</td>\n",
       "      <td>Pope Francis used his annual Christmas Day mes...</td>\n",
       "      <td>News</td>\n",
       "      <td>December 25, 2017</td>\n",
       "    </tr>\n",
       "  </tbody>\n",
       "</table>\n",
       "</div>"
      ],
      "text/plain": [
       "                                               title  \\\n",
       "0   Donald Trump Sends Out Embarrassing New Year’...   \n",
       "1   Drunk Bragging Trump Staffer Started Russian ...   \n",
       "2   Sheriff David Clarke Becomes An Internet Joke...   \n",
       "3   Trump Is So Obsessed He Even Has Obama’s Name...   \n",
       "4   Pope Francis Just Called Out Donald Trump Dur...   \n",
       "\n",
       "                                                text subject  \\\n",
       "0  Donald Trump just couldn t wish all Americans ...    News   \n",
       "1  House Intelligence Committee Chairman Devin Nu...    News   \n",
       "2  On Friday, it was revealed that former Milwauk...    News   \n",
       "3  On Christmas day, Donald Trump announced that ...    News   \n",
       "4  Pope Francis used his annual Christmas Day mes...    News   \n",
       "\n",
       "                date  \n",
       "0  December 31, 2017  \n",
       "1  December 31, 2017  \n",
       "2  December 30, 2017  \n",
       "3  December 29, 2017  \n",
       "4  December 25, 2017  "
      ]
     },
     "execution_count": 6,
     "metadata": {},
     "output_type": "execute_result"
    }
   ],
   "source": [
    "#Displayed the first 5 rows of the fake news dataset\n",
    "fake.head()"
   ]
  },
  {
   "cell_type": "code",
   "execution_count": 7,
   "metadata": {
    "colab": {
     "base_uri": "https://localhost:8080/"
    },
    "id": "nTK6nAm48yMd",
    "outputId": "34a1d5fb-9c3b-475c-e43f-fca366c08933"
   },
   "outputs": [
    {
     "name": "stdout",
     "output_type": "stream",
     "text": [
      "Real news:  (21417, 4)\n",
      "Fake News:  (23481, 4)\n"
     ]
    }
   ],
   "source": [
    "#Shape of real news dataset\n",
    "print(\"Real news: \",real.shape)\n",
    "#Shape of fake news dataset\n",
    "print(\"Fake News: \", fake.shape)"
   ]
  },
  {
   "cell_type": "code",
   "execution_count": 8,
   "metadata": {
    "id": "tr7dUhF6iniE"
   },
   "outputs": [],
   "source": [
    "#Assigning a value of 0 for all real news data and placing it in the dataframe\n",
    "class0 = []\n",
    "\n",
    "for i in range(21417):\n",
    "  class0.append(0)\n",
    "\n",
    "real.insert(4, \"class\", class0, True)"
   ]
  },
  {
   "cell_type": "code",
   "execution_count": 9,
   "metadata": {
    "id": "hBYIBWmmipB3"
   },
   "outputs": [],
   "source": [
    "#Assigning a value of 1 for all fake news data and placing it in the dataframe\n",
    "class1 = []\n",
    "\n",
    "for i in range(23481):\n",
    "  class1.append(1)\n",
    "\n",
    "fake.insert(4, \"class\", class1, True)"
   ]
  },
  {
   "cell_type": "code",
   "execution_count": 10,
   "metadata": {
    "id": "Q9BUEQMmEcuI"
   },
   "outputs": [],
   "source": [
    "#Concactenating fake news and real news into 1 total dataset\n",
    "total = pd.concat([real,fake])\n",
    "total = total.sample(frac = 1)"
   ]
  },
  {
   "cell_type": "code",
   "execution_count": 11,
   "metadata": {
    "colab": {
     "base_uri": "https://localhost:8080/"
    },
    "id": "SCJ6e9bQvMI6",
    "outputId": "6a39b306-30a1-4e11-ed3b-fa13c41cbc6a"
   },
   "outputs": [
    {
     "data": {
      "text/plain": [
       "(44898, 5)"
      ]
     },
     "execution_count": 11,
     "metadata": {},
     "output_type": "execute_result"
    }
   ],
   "source": [
    "#Shape of total\n",
    "total.shape"
   ]
  },
  {
   "cell_type": "code",
   "execution_count": 12,
   "metadata": {
    "colab": {
     "base_uri": "https://localhost:8080/",
     "height": 206
    },
    "id": "sw06yP3yfzjO",
    "outputId": "f71fbf80-e874-4245-d61d-e094d5aca3bb"
   },
   "outputs": [
    {
     "data": {
      "text/html": [
       "<div>\n",
       "<style scoped>\n",
       "    .dataframe tbody tr th:only-of-type {\n",
       "        vertical-align: middle;\n",
       "    }\n",
       "\n",
       "    .dataframe tbody tr th {\n",
       "        vertical-align: top;\n",
       "    }\n",
       "\n",
       "    .dataframe thead th {\n",
       "        text-align: right;\n",
       "    }\n",
       "</style>\n",
       "<table border=\"1\" class=\"dataframe\">\n",
       "  <thead>\n",
       "    <tr style=\"text-align: right;\">\n",
       "      <th></th>\n",
       "      <th>title</th>\n",
       "      <th>text</th>\n",
       "      <th>subject</th>\n",
       "      <th>date</th>\n",
       "      <th>class</th>\n",
       "    </tr>\n",
       "  </thead>\n",
       "  <tbody>\n",
       "    <tr>\n",
       "      <th>5549</th>\n",
       "      <td>Man Falsely ID’d As Dallas Shooter Says Cops ...</td>\n",
       "      <td>Whether you realize it or not, the Second Amen...</td>\n",
       "      <td>News</td>\n",
       "      <td>July 8, 2016</td>\n",
       "      <td>1</td>\n",
       "    </tr>\n",
       "    <tr>\n",
       "      <th>7879</th>\n",
       "      <td>Trump says he disagrees with his running mate ...</td>\n",
       "      <td>ST. LOUIS (Reuters) - Republican Donald Trump ...</td>\n",
       "      <td>politicsNews</td>\n",
       "      <td>October 10, 2016</td>\n",
       "      <td>0</td>\n",
       "    </tr>\n",
       "    <tr>\n",
       "      <th>16008</th>\n",
       "      <td>Brexit minister says 'basic' EU deal likely ev...</td>\n",
       "      <td>LONDON (Reuters) - Brexit minister David Davis...</td>\n",
       "      <td>worldnews</td>\n",
       "      <td>October 31, 2017</td>\n",
       "      <td>0</td>\n",
       "    </tr>\n",
       "    <tr>\n",
       "      <th>7627</th>\n",
       "      <td>State Department says FBI has not approached i...</td>\n",
       "      <td>WASHINGTON (Reuters) - A U.S. State Department...</td>\n",
       "      <td>politicsNews</td>\n",
       "      <td>October 31, 2016</td>\n",
       "      <td>0</td>\n",
       "    </tr>\n",
       "    <tr>\n",
       "      <th>20216</th>\n",
       "      <td>Give us some clarity on Brexit, French ministe...</td>\n",
       "      <td>LONDON (Reuters) - The British government need...</td>\n",
       "      <td>worldnews</td>\n",
       "      <td>September 13, 2017</td>\n",
       "      <td>0</td>\n",
       "    </tr>\n",
       "  </tbody>\n",
       "</table>\n",
       "</div>"
      ],
      "text/plain": [
       "                                                   title                                               text       subject                 date  class\n",
       "5549    Man Falsely ID’d As Dallas Shooter Says Cops ...  Whether you realize it or not, the Second Amen...          News         July 8, 2016      1\n",
       "7879   Trump says he disagrees with his running mate ...  ST. LOUIS (Reuters) - Republican Donald Trump ...  politicsNews    October 10, 2016       0\n",
       "16008  Brexit minister says 'basic' EU deal likely ev...  LONDON (Reuters) - Brexit minister David Davis...     worldnews    October 31, 2017       0\n",
       "7627   State Department says FBI has not approached i...  WASHINGTON (Reuters) - A U.S. State Department...  politicsNews    October 31, 2016       0\n",
       "20216  Give us some clarity on Brexit, French ministe...  LONDON (Reuters) - The British government need...     worldnews  September 13, 2017       0"
      ]
     },
     "execution_count": 12,
     "metadata": {},
     "output_type": "execute_result"
    }
   ],
   "source": [
    "#total = total.sample(frac=1)\n",
    "pd.set_option('display.width', total.shape[0])\n",
    "total.head()\n"
   ]
  },
  {
   "cell_type": "code",
   "execution_count": 13,
   "metadata": {
    "colab": {
     "base_uri": "https://localhost:8080/",
     "height": 206
    },
    "id": "bDr1m7hw82Z1",
    "outputId": "06cf1e8a-8bd9-4397-8d60-10db995f49f3"
   },
   "outputs": [
    {
     "data": {
      "text/html": [
       "<div>\n",
       "<style scoped>\n",
       "    .dataframe tbody tr th:only-of-type {\n",
       "        vertical-align: middle;\n",
       "    }\n",
       "\n",
       "    .dataframe tbody tr th {\n",
       "        vertical-align: top;\n",
       "    }\n",
       "\n",
       "    .dataframe thead th {\n",
       "        text-align: right;\n",
       "    }\n",
       "</style>\n",
       "<table border=\"1\" class=\"dataframe\">\n",
       "  <thead>\n",
       "    <tr style=\"text-align: right;\">\n",
       "      <th></th>\n",
       "      <th>title</th>\n",
       "      <th>class</th>\n",
       "    </tr>\n",
       "  </thead>\n",
       "  <tbody>\n",
       "    <tr>\n",
       "      <th>5549</th>\n",
       "      <td>Man Falsely ID’d As Dallas Shooter Says Cops ...</td>\n",
       "      <td>1</td>\n",
       "    </tr>\n",
       "    <tr>\n",
       "      <th>7879</th>\n",
       "      <td>Trump says he disagrees with his running mate ...</td>\n",
       "      <td>0</td>\n",
       "    </tr>\n",
       "    <tr>\n",
       "      <th>16008</th>\n",
       "      <td>Brexit minister says 'basic' EU deal likely ev...</td>\n",
       "      <td>0</td>\n",
       "    </tr>\n",
       "    <tr>\n",
       "      <th>7627</th>\n",
       "      <td>State Department says FBI has not approached i...</td>\n",
       "      <td>0</td>\n",
       "    </tr>\n",
       "    <tr>\n",
       "      <th>20216</th>\n",
       "      <td>Give us some clarity on Brexit, French ministe...</td>\n",
       "      <td>0</td>\n",
       "    </tr>\n",
       "  </tbody>\n",
       "</table>\n",
       "</div>"
      ],
      "text/plain": [
       "                                                   title  class\n",
       "5549    Man Falsely ID’d As Dallas Shooter Says Cops ...      1\n",
       "7879   Trump says he disagrees with his running mate ...      0\n",
       "16008  Brexit minister says 'basic' EU deal likely ev...      0\n",
       "7627   State Department says FBI has not approached i...      0\n",
       "20216  Give us some clarity on Brexit, French ministe...      0"
      ]
     },
     "execution_count": 13,
     "metadata": {},
     "output_type": "execute_result"
    }
   ],
   "source": [
    "#Extract only the values for title (input) and class (output)\n",
    "data = total[['title','class']]\n",
    "data.head()\n"
   ]
  },
  {
   "cell_type": "code",
   "execution_count": 14,
   "metadata": {
    "colab": {
     "base_uri": "https://localhost:8080/"
    },
    "id": "8x1FDiv1exdj",
    "outputId": "103dccd0-a99f-458d-9d25-06dd41becfa4"
   },
   "outputs": [
    {
     "name": "stdout",
     "output_type": "stream",
     "text": [
      "Mean Length 80.11171989843646\n",
      "Min Length 8\n",
      "Max Length 286\n"
     ]
    }
   ],
   "source": [
    "# Character Length of Titles - Min, Mean, Max\n",
    "print('Mean Length', data['title'].apply(len).mean())\n",
    "print('Min Length', data['title'].apply(len).min())\n",
    "print('Max Length', data['title'].apply(len).max())"
   ]
  },
  {
   "cell_type": "code",
   "execution_count": 15,
   "metadata": {
    "colab": {
     "base_uri": "https://localhost:8080/",
     "height": 265
    },
    "id": "F8hjRPYQfzPe",
    "outputId": "66045a98-66b1-4c52-a130-88a79ddd3f14"
   },
   "outputs": [
    {
     "data": {
      "image/png": "[encoded data removed]",
      "text/plain": [
       "<Figure size 432x288 with 1 Axes>"
      ]
     },
     "metadata": {
      "needs_background": "light"
     },
     "output_type": "display_data"
    }
   ],
   "source": [
    "#plotting the frequency of characters on a histogram\n",
    "import seaborn as sns\n",
    "\n",
    "x = data['title'].apply(len).plot.hist()"
   ]
  },
  {
   "cell_type": "code",
   "execution_count": 16,
   "metadata": {
    "colab": {
     "base_uri": "https://localhost:8080/",
     "height": 198
    },
    "id": "Db9A_aV5hgMd",
    "outputId": "5465495d-bdc7-404f-ad58-b32dc50d10e9"
   },
   "outputs": [
    {
     "data": {
      "image/png": "[encoded data removed]",
      "text/plain": [
       "<Figure size 432x288 with 1 Axes>"
      ]
     },
     "metadata": {
      "needs_background": "light"
     },
     "output_type": "display_data"
    }
   ],
   "source": [
    "#Word cloud of most common words from real news \n",
    "#For fake news, change [\"class\"] == 0 to 1\n",
    "from wordcloud import WordCloud, STOPWORDS\n",
    "\n",
    "#Note to self: fix for entire dataset\n",
    "text = data[data[\"class\"] == 0].values\n",
    "wc = WordCloud(stopwords=STOPWORDS).generate(str(text))\n",
    "plt.imshow(wc)\n",
    "plt.axis(\"off\")\n",
    "plt.show()"
   ]
  },
  {
   "cell_type": "code",
   "execution_count": 17,
   "metadata": {
    "id": "2zzpnCjhTGhV"
   },
   "outputs": [],
   "source": [
    "#Extracting numpy arrays for the title and classes\n",
    "titles = data[\"title\"].values\n",
    "labels = data[\"class\"].values"
   ]
  },
  {
   "cell_type": "code",
   "execution_count": 18,
   "metadata": {
    "colab": {
     "base_uri": "https://localhost:8080/",
     "height": 817
    },
    "id": "nOws8bK9iFZy",
    "outputId": "33c786d8-252d-4e5d-8910-9784b8a705f8"
   },
   "outputs": [
    {
     "name": "stderr",
     "output_type": "stream",
     "text": [
      "C:\\Users\\astro\\AppData\\Local\\Temp/ipykernel_15012/1705681334.py:5: SettingWithCopyWarning: \n",
      "A value is trying to be set on a copy of a slice from a DataFrame.\n",
      "Try using .loc[row_indexer,col_indexer] = value instead\n",
      "\n",
      "See the caveats in the documentation: https://pandas.pydata.org/pandas-docs/stable/user_guide/indexing.html#returning-a-view-versus-a-copy\n",
      "  data['title'] = data['title'].str.lower()\n",
      "C:\\Users\\astro\\AppData\\Local\\Temp/ipykernel_15012/1705681334.py:28: SettingWithCopyWarning: \n",
      "A value is trying to be set on a copy of a slice from a DataFrame.\n",
      "Try using .loc[row_indexer,col_indexer] = value instead\n",
      "\n",
      "See the caveats in the documentation: https://pandas.pydata.org/pandas-docs/stable/user_guide/indexing.html#returning-a-view-versus-a-copy\n",
      "  data['title'] = data['title'].apply(removePunc)\n"
     ]
    },
    {
     "name": "stdout",
     "output_type": "stream",
     "text": [
      "['!', '\"', '#', '$', '%', '&', \"'\", '(', ')', '*', '+', ',', '-', '.', '/', ':', ';', '<', '=', '>', '?', '@', '[', '\\\\', ']', '^', '_', '`', '{', '|', '}', '~', \"'\", '\"']\n"
     ]
    },
    {
     "name": "stderr",
     "output_type": "stream",
     "text": [
      "[nltk_data] Error loading punkt: <urlopen error [Errno 11001]\n",
      "[nltk_data]     getaddrinfo failed>\n",
      "[nltk_data] Error loading wordnet: <urlopen error [Errno 11001]\n",
      "[nltk_data]     getaddrinfo failed>\n",
      "[nltk_data] Error loading stopwords: <urlopen error [Errno 11001]\n",
      "[nltk_data]     getaddrinfo failed>\n",
      "C:\\Users\\astro\\AppData\\Local\\Temp/ipykernel_15012/1705681334.py:41: SettingWithCopyWarning: \n",
      "A value is trying to be set on a copy of a slice from a DataFrame.\n",
      "Try using .loc[row_indexer,col_indexer] = value instead\n",
      "\n",
      "See the caveats in the documentation: https://pandas.pydata.org/pandas-docs/stable/user_guide/indexing.html#returning-a-view-versus-a-copy\n",
      "  data['title'] = data.apply(lambda row: nltk.word_tokenize(row['title']), axis=1)\n",
      "C:\\Users\\astro\\AppData\\Local\\Temp/ipykernel_15012/1705681334.py:54: SettingWithCopyWarning: \n",
      "A value is trying to be set on a copy of a slice from a DataFrame.\n",
      "Try using .loc[row_indexer,col_indexer] = value instead\n",
      "\n",
      "See the caveats in the documentation: https://pandas.pydata.org/pandas-docs/stable/user_guide/indexing.html#returning-a-view-versus-a-copy\n",
      "  data['title'] = data['title'].apply(lemma)\n"
     ]
    },
    {
     "name": "stdout",
     "output_type": "stream",
     "text": [
      "<WordListCorpusReader in 'C:\\\\Users\\\\astro\\\\AppData\\\\Roaming\\\\nltk_data\\\\corpora\\\\stopwords'>\n"
     ]
    },
    {
     "name": "stderr",
     "output_type": "stream",
     "text": [
      "C:\\Users\\astro\\AppData\\Local\\Temp/ipykernel_15012/1705681334.py:66: SettingWithCopyWarning: \n",
      "A value is trying to be set on a copy of a slice from a DataFrame.\n",
      "Try using .loc[row_indexer,col_indexer] = value instead\n",
      "\n",
      "See the caveats in the documentation: https://pandas.pydata.org/pandas-docs/stable/user_guide/indexing.html#returning-a-view-versus-a-copy\n",
      "  data['title'] = data['title'].apply(lambda x: [i for i in x if i not in stop])\n"
     ]
    },
    {
     "data": {
      "text/html": [
       "<div>\n",
       "<style scoped>\n",
       "    .dataframe tbody tr th:only-of-type {\n",
       "        vertical-align: middle;\n",
       "    }\n",
       "\n",
       "    .dataframe tbody tr th {\n",
       "        vertical-align: top;\n",
       "    }\n",
       "\n",
       "    .dataframe thead th {\n",
       "        text-align: right;\n",
       "    }\n",
       "</style>\n",
       "<table border=\"1\" class=\"dataframe\">\n",
       "  <thead>\n",
       "    <tr style=\"text-align: right;\">\n",
       "      <th></th>\n",
       "      <th>title</th>\n",
       "      <th>class</th>\n",
       "    </tr>\n",
       "  </thead>\n",
       "  <tbody>\n",
       "    <tr>\n",
       "      <th>5549</th>\n",
       "      <td>[man, falsely, id, ’, dallas, shooter, say, co...</td>\n",
       "      <td>1</td>\n",
       "    </tr>\n",
       "    <tr>\n",
       "      <th>7879</th>\n",
       "      <td>[trump, say, disagrees, running, mate, syria]</td>\n",
       "      <td>0</td>\n",
       "    </tr>\n",
       "    <tr>\n",
       "      <th>16008</th>\n",
       "      <td>[brexit, minister, say, basic, eu, deal, likel...</td>\n",
       "      <td>0</td>\n",
       "    </tr>\n",
       "    <tr>\n",
       "      <th>7627</th>\n",
       "      <td>[state, department, say, fbi, ha, approached, ...</td>\n",
       "      <td>0</td>\n",
       "    </tr>\n",
       "    <tr>\n",
       "      <th>20216</th>\n",
       "      <td>[give, u, clarity, brexit, french, minister, g...</td>\n",
       "      <td>0</td>\n",
       "    </tr>\n",
       "  </tbody>\n",
       "</table>\n",
       "</div>"
      ],
      "text/plain": [
       "                                                   title  class\n",
       "5549   [man, falsely, id, ’, dallas, shooter, say, co...      1\n",
       "7879       [trump, say, disagrees, running, mate, syria]      0\n",
       "16008  [brexit, minister, say, basic, eu, deal, likel...      0\n",
       "7627   [state, department, say, fbi, ha, approached, ...      0\n",
       "20216  [give, u, clarity, brexit, french, minister, g...      0"
      ]
     },
     "execution_count": 18,
     "metadata": {},
     "output_type": "execute_result"
    }
   ],
   "source": [
    "#Data Preprocessing\n",
    "\n",
    "\n",
    "#Lowercase letters\n",
    "data['title'] = data['title'].str.lower()\n",
    "data.head()\n",
    "\n",
    "\n",
    "#Ensure that all necessary punctuations are in one list\n",
    "#Include ' and \" as they are not default\n",
    "\n",
    "import string\n",
    "#Fix this (note to self)\n",
    "punc = list(string.punctuation)\n",
    "punc.append('\\'')\n",
    "punc.append('\"')\n",
    "print(punc)\n",
    "\n",
    "\n",
    "#Loop through dataframe and remove all punctuations\n",
    "def removePunc(text):\n",
    "    for i in string.punctuation:\n",
    "        text = text.replace(i, '')\n",
    "    return text\n",
    "\n",
    "\n",
    "# Apply to the DF series\n",
    "data['title'] = data['title'].apply(removePunc)\n",
    "data.head()\n",
    "\n",
    "\n",
    "#Import nltk preprocessing library to convert text into a readable format\n",
    "import nltk\n",
    "nltk.download('punkt')\n",
    "nltk.download('wordnet')\n",
    "nltk.download('stopwords')\n",
    "from nltk.tokenize import sent_tokenize\n",
    "\n",
    "\n",
    "#Tokenize the string (create a list -> each index is a word)\n",
    "data['title'] = data.apply(lambda row: nltk.word_tokenize(row['title']), axis=1)\n",
    "data.head()\n",
    "\n",
    "#Define text lemmatization model (eg: walks will be changed to walk)\n",
    "from nltk.stem import WordNetLemmatizer \n",
    "lemmatizer = WordNetLemmatizer()\n",
    "\n",
    "\n",
    "#Loop through title dataframe and lemmatize each word\n",
    "def lemma(data):\n",
    "  return [lemmatizer.lemmatize(w) for w in data]\n",
    "\n",
    "#Apply to dataframe\n",
    "data['title'] = data['title'].apply(lemma)\n",
    "\n",
    "data.head()\n",
    "\n",
    "\n",
    "\n",
    "#Define all stopwords in the English language (it, was, for, etc.)\n",
    "from nltk.corpus import stopwords\n",
    "\n",
    "stop = stopwords.words('english')\n",
    "print(stopwords)\n",
    "#Remove them from our dataframe\n",
    "data['title'] = data['title'].apply(lambda x: [i for i in x if i not in stop])\n",
    "\n",
    "\n",
    "\n",
    "\n",
    "\n",
    "data.head()"
   ]
  },
  {
   "cell_type": "code",
   "execution_count": 19,
   "metadata": {
    "id": "zv8yxuoS11p4"
   },
   "outputs": [],
   "source": [
    "from sklearn.model_selection import train_test_split\n",
    "title_train, title_test, y_train, y_test = train_test_split(titles, labels, test_size=0.2, random_state=1000)"
   ]
  },
  {
   "cell_type": "code",
   "execution_count": 20,
   "metadata": {
    "colab": {
     "base_uri": "https://localhost:8080/"
    },
    "id": "S4lvpMYQyrNj",
    "outputId": "33b613d5-9413-470c-9561-840d312519e6"
   },
   "outputs": [],
   "source": [
    "from gensim.models import Word2Vec\n",
    "#Create a word2vec model\n",
    "vec = Word2Vec(min_count=1)\n",
    "#Build its vocabulary by looping through the title dataset\n",
    "vec.build_vocab([x for x in data['title'].values])"
   ]
  },
  {
   "cell_type": "code",
   "execution_count": 21,
   "metadata": {},
   "outputs": [
    {
     "name": "stdout",
     "output_type": "stream",
     "text": [
      "22951\n"
     ]
    },
    {
     "data": {
      "text/plain": [
       "(4040608, 4510640)"
      ]
     },
     "execution_count": 21,
     "metadata": {},
     "output_type": "execute_result"
    }
   ],
   "source": [
    "print(len(vec.wv.index_to_key))\n",
    "vec.train([x for x in data['title'].values],total_examples=vec.corpus_count,epochs=10)"
   ]
  },
  {
   "cell_type": "code",
   "execution_count": 22,
   "metadata": {
    "colab": {
     "base_uri": "https://localhost:8080/"
    },
    "id": "Nx4jz1w9OkQV",
    "outputId": "8522d385-5237-4c51-f014-624548b86d76"
   },
   "outputs": [],
   "source": [
    "#Word vectors for the selected word\n",
    "vec1 = vec.wv.key_to_index.keys()\n",
    "for word in vec1:\n",
    "    vec.wv.get_index(word)"
   ]
  },
  {
   "cell_type": "code",
   "execution_count": 23,
   "metadata": {
    "colab": {
     "base_uri": "https://localhost:8080/"
    },
    "id": "bxpWdmzzOYBU",
    "outputId": "3fa831a8-5334-46fc-89e5-d76c7714d6d9"
   },
   "outputs": [
    {
     "data": {
      "text/plain": [
       "[('virginia', 0.8573786616325378),\n",
       " ('michigan', 0.8501384854316711),\n",
       " ('va', 0.8170447945594788),\n",
       " ('louisiana', 0.8118878602981567),\n",
       " ('poisoning', 0.8054393529891968),\n",
       " ('mississippi', 0.8050315380096436),\n",
       " ('kansa', 0.8021742105484009),\n",
       " ('mln', 0.7976198792457581),\n",
       " ('california', 0.7921932339668274),\n",
       " ('stresstest', 0.7893022298812866)]"
      ]
     },
     "execution_count": 23,
     "metadata": {},
     "output_type": "execute_result"
    }
   ],
   "source": [
    "#Most similar word vectors to another one\n",
    "vec.wv.most_similar(\"florida\")"
   ]
  },
  {
   "cell_type": "code",
   "execution_count": 24,
   "metadata": {
    "colab": {
     "base_uri": "https://localhost:8080/"
    },
    "id": "cRkjAOEon5i5",
    "outputId": "77c358cc-cd4e-402c-c295-f41c57420c7d"
   },
   "outputs": [
    {
     "data": {
      "text/plain": [
       "(22951, 100)"
      ]
     },
     "execution_count": 24,
     "metadata": {},
     "output_type": "execute_result"
    }
   ],
   "source": [
    "#Shape of the word vectors\n",
    "vec.wv.vectors.shape"
   ]
  },
  {
   "cell_type": "code",
   "execution_count": 25,
   "metadata": {
    "id": "HDd2gCpyyvY9"
   },
   "outputs": [],
   "source": [
    "from gensim.models import Doc2Vec\n",
    "from gensim.models.doc2vec import TaggedDocument\n",
    "\n",
    "tags = [TaggedDocument(doc, [i]) for i, doc in enumerate(title_train)]\n",
    "\n",
    "doc = Doc2Vec(tags,vector_size=100,min_count=1,epochs=5)\n",
    "doc.train(tags, total_examples=doc.corpus_count,epochs=doc.epochs)"
   ]
  },
  {
   "cell_type": "code",
   "execution_count": 26,
   "metadata": {
    "colab": {
     "base_uri": "https://localhost:8080/"
    },
    "id": "B6ijZaw65yhK",
    "outputId": "9516f471-97c8-455b-8098-abbc49e8f101"
   },
   "outputs": [
    {
     "name": "stdout",
     "output_type": "stream",
     "text": [
      "21284\n"
     ]
    }
   ],
   "source": [
    "print(len(doc.wv.key_to_index))"
   ]
  },
  {
   "cell_type": "code",
   "execution_count": 27,
   "metadata": {
    "id": "1dF6HWko5550"
   },
   "outputs": [],
   "source": [
    "train_vectors = [doc.infer_vector(i) for i in title_train]"
   ]
  },
  {
   "cell_type": "code",
   "execution_count": 28,
   "metadata": {
    "id": "wWt2DOAPAmvT"
   },
   "outputs": [],
   "source": [
    "test_vectors = [doc.infer_vector(i) for i in title_test]"
   ]
  },
  {
   "cell_type": "code",
   "execution_count": 29,
   "metadata": {
    "id": "zEIle8UHC98V"
   },
   "outputs": [],
   "source": [
    "train_vectors = np.array(train_vectors)\n",
    "test_vectors = np.array(test_vectors)"
   ]
  },
  {
   "cell_type": "code",
   "execution_count": 31,
   "metadata": {
    "colab": {
     "base_uri": "https://localhost:8080/"
    },
    "id": "Xrk5SiRZFzQk",
    "outputId": "cc5c6581-a60f-4743-90d9-def6a1a534b9"
   },
   "outputs": [
    {
     "data": {
      "text/plain": [
       "21284"
      ]
     },
     "execution_count": 31,
     "metadata": {},
     "output_type": "execute_result"
    }
   ],
   "source": [
    "len(doc.wv.key_to_index)"
   ]
  },
  {
   "cell_type": "code",
   "execution_count": 32,
   "metadata": {
    "colab": {
     "base_uri": "https://localhost:8080/"
    },
    "id": "CjQ_Nl9XME_K",
    "outputId": "71f46e1f-32d2-4042-8c70-e56827741273"
   },
   "outputs": [
    {
     "data": {
      "text/plain": [
       "(35918, 100)"
      ]
     },
     "execution_count": 32,
     "metadata": {},
     "output_type": "execute_result"
    }
   ],
   "source": [
    "train_vectors.shape"
   ]
  },
  {
   "cell_type": "code",
   "execution_count": 33,
   "metadata": {
    "colab": {
     "base_uri": "https://localhost:8080/"
    },
    "id": "wVwvgzBXMOno",
    "outputId": "99c4b829-7a82-49d8-d84b-395793222431"
   },
   "outputs": [
    {
     "name": "stdout",
     "output_type": "stream",
     "text": [
      "[[-1.2687032e-02  3.3692263e-02 -5.9313835e-03 ... -1.8528955e-02\n",
      "  -7.0406096e-03 -8.1080422e-03]\n",
      " [-5.0100237e-02  2.1701345e-02  3.4052137e-02 ...  4.8337325e-02\n",
      "   9.8391436e-03  3.5004709e-02]\n",
      " [ 2.7317720e-02  1.7247578e-02  1.0375360e-02 ... -1.9414272e-05\n",
      "  -7.4244547e-03  1.2316409e-02]\n",
      " ...\n",
      " [-3.2660137e-03  1.1527349e-02  6.9064563e-03 ...  7.5897314e-03\n",
      "   2.8070230e-02 -6.4790840e-03]\n",
      " [-4.1477955e-03 -4.6266220e-03 -1.4940746e-02 ... -7.5933291e-03\n",
      "   1.7463337e-04 -3.3406332e-02]\n",
      " [ 2.9243058e-02  3.1473268e-02 -2.2618653e-02 ... -1.2114157e-02\n",
      "   1.3258511e-02  4.4709284e-02]]\n"
     ]
    }
   ],
   "source": [
    "print(train_vectors)"
   ]
  },
  {
   "cell_type": "code",
   "execution_count": 34,
   "metadata": {
    "colab": {
     "base_uri": "https://localhost:8080/"
    },
    "id": "ADtbGuSAhF0p",
    "outputId": "7c25f3eb-569a-42d9-9d67-b9e965dd8b4b"
   },
   "outputs": [],
   "source": [
    "import tensorflow as tf\n",
    "model = tf.keras.Sequential()\n",
    "\n",
    "model.add(tf.keras.layers.Dense(128,input_shape=[100],activation='relu'))\n",
    "model.add(tf.keras.layers.Dropout(0.5))\n",
    "model.add(tf.keras.layers.Dense(64,activation='relu'))\n",
    "model.add(tf.keras.layers.Dense(32,activation='relu'))\n",
    "model.add(tf.keras.layers.Dense(16,activation='relu'))\n",
    "model.add(tf.keras.layers.Dense(1,activation='sigmoid'))\n",
    "\n",
    "model.compile(optimizer=tf.keras.optimizers.Adam(learning_rate = 1e-4),loss=\"binary_crossentropy\", metrics=['accuracy'])"
   ]
  },
  {
   "cell_type": "code",
   "execution_count": 35,
   "metadata": {},
   "outputs": [
    {
     "name": "stdout",
     "output_type": "stream",
     "text": [
      "Epoch 1/25\n",
      "1123/1123 [==============================] - 5s 3ms/step - loss: 0.5124 - accuracy: 0.7703 - val_loss: 0.4083 - val_accuracy: 0.8129\n",
      "Epoch 2/25\n",
      "1123/1123 [==============================] - 3s 3ms/step - loss: 0.4061 - accuracy: 0.8145 - val_loss: 0.3909 - val_accuracy: 0.8207\n",
      "Epoch 3/25\n",
      "1123/1123 [==============================] - 2s 2ms/step - loss: 0.3869 - accuracy: 0.8247 - val_loss: 0.3747 - val_accuracy: 0.8262\n",
      "Epoch 4/25\n",
      "1123/1123 [==============================] - 2s 2ms/step - loss: 0.3716 - accuracy: 0.8331 - val_loss: 0.3597 - val_accuracy: 0.8362\n",
      "Epoch 5/25\n",
      "1123/1123 [==============================] - 2s 2ms/step - loss: 0.3602 - accuracy: 0.8396 - val_loss: 0.3510 - val_accuracy: 0.8406\n",
      "Epoch 6/25\n",
      "1123/1123 [==============================] - 2s 2ms/step - loss: 0.3497 - accuracy: 0.8446 - val_loss: 0.3450 - val_accuracy: 0.8464\n",
      "Epoch 7/25\n",
      "1123/1123 [==============================] - 2s 2ms/step - loss: 0.3448 - accuracy: 0.8479 - val_loss: 0.3383 - val_accuracy: 0.8517\n",
      "Epoch 8/25\n",
      "1123/1123 [==============================] - 2s 2ms/step - loss: 0.3394 - accuracy: 0.8500 - val_loss: 0.3345 - val_accuracy: 0.8546\n",
      "Epoch 9/25\n",
      "1123/1123 [==============================] - 3s 3ms/step - loss: 0.3341 - accuracy: 0.8532 - val_loss: 0.3289 - val_accuracy: 0.8571\n",
      "Epoch 10/25\n",
      "1123/1123 [==============================] - 3s 3ms/step - loss: 0.3297 - accuracy: 0.8559 - val_loss: 0.3266 - val_accuracy: 0.8575\n",
      "Epoch 11/25\n",
      "1123/1123 [==============================] - 2s 2ms/step - loss: 0.3279 - accuracy: 0.8565 - val_loss: 0.3251 - val_accuracy: 0.8579\n",
      "Epoch 12/25\n",
      "1123/1123 [==============================] - 2s 2ms/step - loss: 0.3222 - accuracy: 0.8610 - val_loss: 0.3228 - val_accuracy: 0.8592\n",
      "Epoch 13/25\n",
      "1123/1123 [==============================] - 2s 2ms/step - loss: 0.3190 - accuracy: 0.8623 - val_loss: 0.3180 - val_accuracy: 0.8608\n",
      "Epoch 14/25\n",
      "1123/1123 [==============================] - 3s 3ms/step - loss: 0.3174 - accuracy: 0.8619 - val_loss: 0.3204 - val_accuracy: 0.8624\n",
      "Epoch 15/25\n",
      "1123/1123 [==============================] - 3s 3ms/step - loss: 0.3148 - accuracy: 0.8639 - val_loss: 0.3151 - val_accuracy: 0.8637\n",
      "Epoch 16/25\n",
      "1123/1123 [==============================] - 3s 2ms/step - loss: 0.3130 - accuracy: 0.8652 - val_loss: 0.3108 - val_accuracy: 0.8668\n",
      "Epoch 17/25\n",
      "1123/1123 [==============================] - 3s 3ms/step - loss: 0.3105 - accuracy: 0.8655 - val_loss: 0.3102 - val_accuracy: 0.8663\n",
      "Epoch 18/25\n",
      "1123/1123 [==============================] - 3s 3ms/step - loss: 0.3081 - accuracy: 0.8674 - val_loss: 0.3091 - val_accuracy: 0.8645\n",
      "Epoch 19/25\n",
      "1123/1123 [==============================] - 2s 2ms/step - loss: 0.3048 - accuracy: 0.8708 - val_loss: 0.3101 - val_accuracy: 0.8661\n",
      "Epoch 20/25\n",
      "1123/1123 [==============================] - 2s 2ms/step - loss: 0.3024 - accuracy: 0.8687 - val_loss: 0.3041 - val_accuracy: 0.8693\n",
      "Epoch 21/25\n",
      "1123/1123 [==============================] - 2s 2ms/step - loss: 0.2989 - accuracy: 0.8729 - val_loss: 0.3064 - val_accuracy: 0.8689\n",
      "Epoch 22/25\n",
      "1123/1123 [==============================] - 2s 2ms/step - loss: 0.2994 - accuracy: 0.8696 - val_loss: 0.3038 - val_accuracy: 0.8706\n",
      "Epoch 23/25\n",
      "1123/1123 [==============================] - 2s 2ms/step - loss: 0.2960 - accuracy: 0.8741 - val_loss: 0.2996 - val_accuracy: 0.8685\n",
      "Epoch 24/25\n",
      "1123/1123 [==============================] - 2s 2ms/step - loss: 0.2941 - accuracy: 0.8744 - val_loss: 0.3029 - val_accuracy: 0.8710\n",
      "Epoch 25/25\n",
      "1123/1123 [==============================] - 2s 2ms/step - loss: 0.2934 - accuracy: 0.8747 - val_loss: 0.2977 - val_accuracy: 0.8698\n"
     ]
    }
   ],
   "source": [
    "hist = model.fit(train_vectors,y_train,validation_data=[test_vectors,y_test],epochs=25)"
   ]
  },
  {
   "cell_type": "code",
   "execution_count": 36,
   "metadata": {},
   "outputs": [],
   "source": [
    "hist_dict  = hist.history\n",
    "acc = hist_dict['accuracy']\n",
    "val_acc=hist_dict['val_accuracy']\n",
    "loss = hist_dict['loss']\n",
    "val_loss=hist_dict['val_loss']"
   ]
  },
  {
   "cell_type": "code",
   "execution_count": 39,
   "metadata": {},
   "outputs": [
    {
     "data": {
      "text/plain": [
       "<matplotlib.legend.Legend at 0x258f72a6e50>"
      ]
     },
     "execution_count": 39,
     "metadata": {},
     "output_type": "execute_result"
    },
    {
     "data": {
      "image/png": "[encoded data removed]",
      "text/plain": [
       "<Figure size 432x288 with 1 Axes>"
      ]
     },
     "metadata": {
      "needs_background": "light"
     },
     "output_type": "display_data"
    }
   ],
   "source": [
    "plt.subplot()\n",
    "plt.plot(loss,'r',label='Training Loss')\n",
    "plt.plot(val_loss,'b',label='Validation Loss')\n",
    "plt.title('Training and Validation Loss - Dense with Word2Vec')\n",
    "plt.ylabel('Loss')\n",
    "plt.legend()"
   ]
  },
  {
   "cell_type": "code",
   "execution_count": 40,
   "metadata": {},
   "outputs": [
    {
     "data": {
      "text/plain": [
       "<matplotlib.legend.Legend at 0x258f93e76a0>"
      ]
     },
     "execution_count": 40,
     "metadata": {},
     "output_type": "execute_result"
    },
    {
     "data": {
      "image/png": "[encoded data removed]",
      "text/plain": [
       "<Figure size 432x288 with 1 Axes>"
      ]
     },
     "metadata": {
      "needs_background": "light"
     },
     "output_type": "display_data"
    }
   ],
   "source": [
    "plt.subplot()\n",
    "plt.plot(acc,'r',label='Training Accuracy')\n",
    "plt.plot(val_acc,'b',label='Validation Accuracy')\n",
    "plt.title('Training and Validation Accuracy - Dense with Word2Vec')\n",
    "plt.ylabel('Accuracy')\n",
    "plt.legend()"
   ]
  },
  {
   "cell_type": "code",
   "execution_count": 38,
   "metadata": {},
   "outputs": [
    {
     "ename": "ValueError",
     "evalue": "Failed to convert a NumPy array to a Tensor (Unsupported object type list).",
     "output_type": "error",
     "traceback": [
      "\u001b[1;31m---------------------------------------------------------------------------\u001b[0m",
      "\u001b[1;31mValueError\u001b[0m                                Traceback (most recent call last)",
      "\u001b[1;32m~\\AppData\\Local\\Temp/ipykernel_9512/3169226138.py\u001b[0m in \u001b[0;36m<module>\u001b[1;34m\u001b[0m\n\u001b[1;32m----> 1\u001b[1;33m \u001b[0mmodel\u001b[0m\u001b[1;33m.\u001b[0m\u001b[0mevaluate\u001b[0m\u001b[1;33m(\u001b[0m\u001b[0mtitle_train\u001b[0m\u001b[1;33m,\u001b[0m\u001b[0my_test\u001b[0m\u001b[1;33m)\u001b[0m\u001b[1;33m\u001b[0m\u001b[1;33m\u001b[0m\u001b[0m\n\u001b[0m",
      "\u001b[1;32md:\\Jupyter\\Python\\lib\\site-packages\\keras\\utils\\traceback_utils.py\u001b[0m in \u001b[0;36merror_handler\u001b[1;34m(*args, **kwargs)\u001b[0m\n\u001b[0;32m     68\u001b[0m             \u001b[1;31m# To get the full stack trace, call:\u001b[0m\u001b[1;33m\u001b[0m\u001b[1;33m\u001b[0m\u001b[0m\n\u001b[0;32m     69\u001b[0m             \u001b[1;31m# `tf.debugging.disable_traceback_filtering()`\u001b[0m\u001b[1;33m\u001b[0m\u001b[1;33m\u001b[0m\u001b[0m\n\u001b[1;32m---> 70\u001b[1;33m             \u001b[1;32mraise\u001b[0m \u001b[0me\u001b[0m\u001b[1;33m.\u001b[0m\u001b[0mwith_traceback\u001b[0m\u001b[1;33m(\u001b[0m\u001b[0mfiltered_tb\u001b[0m\u001b[1;33m)\u001b[0m \u001b[1;32mfrom\u001b[0m \u001b[1;32mNone\u001b[0m\u001b[1;33m\u001b[0m\u001b[1;33m\u001b[0m\u001b[0m\n\u001b[0m\u001b[0;32m     71\u001b[0m         \u001b[1;32mfinally\u001b[0m\u001b[1;33m:\u001b[0m\u001b[1;33m\u001b[0m\u001b[1;33m\u001b[0m\u001b[0m\n\u001b[0;32m     72\u001b[0m             \u001b[1;32mdel\u001b[0m \u001b[0mfiltered_tb\u001b[0m\u001b[1;33m\u001b[0m\u001b[1;33m\u001b[0m\u001b[0m\n",
      "\u001b[1;32m~\\AppData\\Roaming\\Python\\Python39\\site-packages\\tensorflow\\python\\framework\\constant_op.py\u001b[0m in \u001b[0;36mconvert_to_eager_tensor\u001b[1;34m(value, ctx, dtype)\u001b[0m\n\u001b[0;32m    100\u001b[0m       \u001b[0mdtype\u001b[0m \u001b[1;33m=\u001b[0m \u001b[0mdtypes\u001b[0m\u001b[1;33m.\u001b[0m\u001b[0mas_dtype\u001b[0m\u001b[1;33m(\u001b[0m\u001b[0mdtype\u001b[0m\u001b[1;33m)\u001b[0m\u001b[1;33m.\u001b[0m\u001b[0mas_datatype_enum\u001b[0m\u001b[1;33m\u001b[0m\u001b[1;33m\u001b[0m\u001b[0m\n\u001b[0;32m    101\u001b[0m   \u001b[0mctx\u001b[0m\u001b[1;33m.\u001b[0m\u001b[0mensure_initialized\u001b[0m\u001b[1;33m(\u001b[0m\u001b[1;33m)\u001b[0m\u001b[1;33m\u001b[0m\u001b[1;33m\u001b[0m\u001b[0m\n\u001b[1;32m--> 102\u001b[1;33m   \u001b[1;32mreturn\u001b[0m \u001b[0mops\u001b[0m\u001b[1;33m.\u001b[0m\u001b[0mEagerTensor\u001b[0m\u001b[1;33m(\u001b[0m\u001b[0mvalue\u001b[0m\u001b[1;33m,\u001b[0m \u001b[0mctx\u001b[0m\u001b[1;33m.\u001b[0m\u001b[0mdevice_name\u001b[0m\u001b[1;33m,\u001b[0m \u001b[0mdtype\u001b[0m\u001b[1;33m)\u001b[0m\u001b[1;33m\u001b[0m\u001b[1;33m\u001b[0m\u001b[0m\n\u001b[0m\u001b[0;32m    103\u001b[0m \u001b[1;33m\u001b[0m\u001b[0m\n\u001b[0;32m    104\u001b[0m \u001b[1;33m\u001b[0m\u001b[0m\n",
      "\u001b[1;31mValueError\u001b[0m: Failed to convert a NumPy array to a Tensor (Unsupported object type list)."
     ]
    }
   ],
   "source": [
    "model.evaluate(title_train,y_test)"
   ]
  },
  {
   "cell_type": "code",
   "execution_count": 35,
   "metadata": {
    "colab": {
     "base_uri": "https://localhost:8080/"
    },
    "id": "Qm--wfAsmTMF",
    "outputId": "dbf4297a-9ed8-41fd-ecda-fe88d133b6ab"
   },
   "outputs": [
    {
     "data": {
      "text/plain": [
       "(35918, 100)"
      ]
     },
     "execution_count": 35,
     "metadata": {},
     "output_type": "execute_result"
    }
   ],
   "source": [
    "train_vectors.shape"
   ]
  },
  {
   "cell_type": "code",
   "execution_count": 41,
   "metadata": {
    "colab": {
     "base_uri": "https://localhost:8080/"
    },
    "id": "d2Y1JudrJlBV",
    "outputId": "2fbe0089-72f6-4026-92ed-6cabb308e2d3"
   },
   "outputs": [
    {
     "name": "stdout",
     "output_type": "stream",
     "text": [
      "['!', '\"', '#', '$', '%', '&', \"'\", '(', ')', '*', '+', ',', '-', '.', '/', ':', ';', '<', '=', '>', '?', '@', '[', '\\\\', ']', '^', '_', '`', '{', '|', '}', '~', \"'\", '\"']\n",
      "[[-0.01511334  0.00969949  0.00123394  0.0009722   0.00292815 -0.02013228\n",
      "   0.01010535  0.02576808 -0.01912514 -0.00800835 -0.00342072 -0.02164701\n",
      "   0.00566118  0.01339273 -0.00356139 -0.01636184  0.00813936 -0.017919\n",
      "  -0.00181024 -0.0266919   0.0016277   0.00251131  0.01309513  0.00143541\n",
      "  -0.00065555  0.00121922 -0.01227597  0.00254465 -0.00983395  0.00078243\n",
      "   0.01896969  0.00480075  0.00359368  0.00011691  0.00057276  0.02182144\n",
      "   0.00238495 -0.00509769 -0.00600604 -0.0180552  -0.00378591 -0.00988749\n",
      "  -0.01092851 -0.00959692  0.00548008 -0.00208967 -0.02680216  0.00137726\n",
      "   0.00179629  0.00724519  0.0111428  -0.00911123 -0.0060609   0.00413089\n",
      "  -0.00559526  0.0016531   0.01533253 -0.00199702 -0.01596882  0.00453668\n",
      "  -0.00446004  0.00186994  0.00628194 -0.00118678 -0.01662509  0.00088774\n",
      "  -0.00020187  0.00707002 -0.01256518  0.01688942 -0.01084004  0.01092392\n",
      "   0.01672336  0.00393018  0.00770427  0.01201493 -0.00158549  0.0008407\n",
      "  -0.00577441  0.00308473 -0.01001419  0.00926452 -0.00787187  0.02128512\n",
      "  -0.01004523 -0.00344553 -0.0083558   0.01836684  0.02089117  0.01210994\n",
      "   0.01295036  0.01332665 -0.00444005  0.0040034   0.02413331  0.01514751\n",
      "   0.00873935 -0.01727443  0.00784842  0.00106475]]\n"
     ]
    }
   ],
   "source": [
    "#Algorithm used to preprocess a new sentence\n",
    "\n",
    "\n",
    "#New sentence for the model\n",
    "sentence = \"Jishnu is a student\"\n",
    "\n",
    "#Lowercase words\n",
    "sentence = sentence.lower()\n",
    "\n",
    "#Ensure that all necessary punctuations are in one list\n",
    "#Include ' and \" as they are not default\n",
    "punc = list(string.punctuation)\n",
    "punc.append('\\'')\n",
    "punc.append('\"')\n",
    "print(punc)\n",
    "\n",
    "#Loop through sentence and remove all punctuations\n",
    "for i in string.punctuation:\n",
    "  sentence = sentence.replace(i, '')\n",
    "    \n",
    "#Tokenize sentence -> all words in a new list\n",
    "tok = sentence.split(' ')\n",
    "\n",
    "#Define text lemmatization model (eg: walks will be changed to walk)\n",
    "lemmatizer = WordNetLemmatizer()\n",
    "\n",
    "#Lemmatize each word in the sentence\n",
    "for w in sentence:\n",
    "  lemmatizer.lemmatize(sentence)\n",
    "\n",
    "\n",
    "\n",
    "\n",
    "#Define all stopwords in the English language (it, was, for, etc.)\n",
    "stop = stopwords.words('english')\n",
    "\n",
    "\n",
    "\n",
    "\n",
    "#Remove them from our dataframe and store in a new list\n",
    "minStop = []\n",
    "\n",
    "for i in tok:\n",
    "  if i not in stop:\n",
    "    minStop.append(i)\n",
    "\n",
    "#Doc2Vec tags\n",
    "tag = [TaggedDocument(minStop,[0])]\n",
    "\n",
    "predVec = [doc.infer_vector(minStop)]\n",
    "predVec = np.array(predVec)\n",
    "\n",
    "print(predVec)"
   ]
  },
  {
   "cell_type": "code",
   "execution_count": 42,
   "metadata": {
    "colab": {
     "base_uri": "https://localhost:8080/"
    },
    "id": "HNK1ZSXyOL7F",
    "outputId": "cf60f0f5-3f55-44f5-cea4-87a73852afde"
   },
   "outputs": [
    {
     "data": {
      "text/plain": [
       "(1, 100)"
      ]
     },
     "execution_count": 42,
     "metadata": {},
     "output_type": "execute_result"
    }
   ],
   "source": [
    "predVec.shape"
   ]
  },
  {
   "cell_type": "code",
   "execution_count": 43,
   "metadata": {
    "id": "F7ZF1h6YOHiS"
   },
   "outputs": [
    {
     "name": "stdout",
     "output_type": "stream",
     "text": [
      "1/1 [==============================] - 0s 29ms/step\n",
      "[[0.14349943]]\n"
     ]
    }
   ],
   "source": [
    "#predicting the probability of fake news on our field data\n",
    "prediction = model.predict(predVec)\n",
    "print(prediction)\n",
    "\n"
   ]
  },
  {
   "cell_type": "code",
   "execution_count": 44,
   "metadata": {
    "colab": {
     "base_uri": "https://localhost:8080/"
    },
    "id": "x_o6-miBUffc",
    "outputId": "2a2db805-e289-4fd6-a709-97bb45771645"
   },
   "outputs": [
    {
     "name": "stdout",
     "output_type": "stream",
     "text": [
      "INFO:tensorflow:Assets written to: ram://be2483a9-258d-473d-95a0-a0e187fcebf4/assets\n"
     ]
    }
   ],
   "source": [
    "import pickle \n",
    "\n",
    "pickle.dump(model, open('model.pkl','wb'))"
   ]
  },
  {
   "cell_type": "code",
   "execution_count": 45,
   "metadata": {
    "id": "5JCcNO8o2O2g"
   },
   "outputs": [],
   "source": [
    "pickle.dump(doc,open('doc.pkl','wb'))\n"
   ]
  },
  {
   "cell_type": "code",
   "execution_count": 46,
   "metadata": {},
   "outputs": [],
   "source": [
    "from keras.models import load_model\n",
    "model.save('model(1).h5')\n",
    "model_final = load_model('model(1).h5')"
   ]
  }
 ],
 "metadata": {
  "accelerator": "GPU",
  "colab": {
   "collapsed_sections": [],
   "name": "FakeNewsDetection.ipynb",
   "provenance": []
  },
  "kernelspec": {
   "display_name": "Python 3.9.10 64-bit",
   "language": "python",
   "name": "python3"
  },
  "language_info": {
   "codemirror_mode": {
    "name": "ipython",
    "version": 3
   },
   "file_extension": ".py",
   "mimetype": "text/x-python",
   "name": "python",
   "nbconvert_exporter": "python",
   "pygments_lexer": "ipython3",
   "version": "3.9.10"
  },
  "vscode": {
   "interpreter": {
    "hash": "f51df58419b4451633f1122dee53416a438e30ff6de9c36c325bc1a87ba5e597"
   }
  }
 },
 "nbformat": 4,
 "nbformat_minor": 4
}
