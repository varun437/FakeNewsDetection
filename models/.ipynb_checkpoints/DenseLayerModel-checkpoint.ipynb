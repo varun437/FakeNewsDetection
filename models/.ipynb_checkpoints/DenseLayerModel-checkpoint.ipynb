{
 "cells": [
  {
   "cell_type": "code",
   "execution_count": 1,
   "metadata": {
    "id": "uK3Ild0w5_Ou"
   },
   "outputs": [],
   "source": [
    "import numpy as np\n",
    "import pandas as pd\n",
    "import matplotlib.pyplot as plt"
   ]
  },
  {
   "cell_type": "code",
   "execution_count": 2,
   "metadata": {
    "colab": {
     "base_uri": "https://localhost:8080/"
    },
    "id": "JznPiyqH7E7U",
    "outputId": "c3aa291b-7810-4bac-ad2d-72d8f852cb54"
   },
   "outputs": [
    {
     "name": "stdout",
     "output_type": "stream",
     "text": [
      "Mounted at /content/drive/\n"
     ]
    }
   ],
   "source": [
    "#from google.colab import drive\n",
    "#drive.mount(\"/content/drive/\")"
   ]
  },
  {
   "cell_type": "code",
   "execution_count": 3,
   "metadata": {
    "colab": {
     "base_uri": "https://localhost:8080/"
    },
    "id": "QpyoAzFd7lca",
    "outputId": "a03c9334-1c7f-497f-9c69-92c051962837"
   },
   "outputs": [
    {
     "name": "stdout",
     "output_type": "stream",
     "text": [
      "Fake.csv  True.csv\n"
     ]
    }
   ],
   "source": [
    "#!ls \"/content/drive/My Drive/News\""
   ]
  },
  {
   "cell_type": "code",
   "execution_count": 4,
   "metadata": {
    "id": "esiF9cmK8QLF"
   },
   "outputs": [],
   "source": [
    "real = pd.read_csv(\"True.csv\")\n",
    "fake = pd.read_csv(\"Fake.csv\")"
   ]
  },
  {
   "cell_type": "code",
   "execution_count": 5,
   "metadata": {
    "colab": {
     "base_uri": "https://localhost:8080/",
     "height": 206
    },
    "id": "5TYdNAHT8gE-",
    "outputId": "e0557d91-a067-4c30-c2a2-62f952a35ca4"
   },
   "outputs": [
    {
     "data": {
      "text/html": [
       "\n",
       "  <div id=\"df-39062780-34d3-4f82-a21a-fe7bcf12b51a\">\n",
       "    <div class=\"colab-df-container\">\n",
       "      <div>\n",
       "<style scoped>\n",
       "    .dataframe tbody tr th:only-of-type {\n",
       "        vertical-align: middle;\n",
       "    }\n",
       "\n",
       "    .dataframe tbody tr th {\n",
       "        vertical-align: top;\n",
       "    }\n",
       "\n",
       "    .dataframe thead th {\n",
       "        text-align: right;\n",
       "    }\n",
       "</style>\n",
       "<table border=\"1\" class=\"dataframe\">\n",
       "  <thead>\n",
       "    <tr style=\"text-align: right;\">\n",
       "      <th></th>\n",
       "      <th>title</th>\n",
       "      <th>text</th>\n",
       "      <th>subject</th>\n",
       "      <th>date</th>\n",
       "    </tr>\n",
       "  </thead>\n",
       "  <tbody>\n",
       "    <tr>\n",
       "      <th>0</th>\n",
       "      <td>As U.S. budget fight looms, Republicans flip t...</td>\n",
       "      <td>WASHINGTON (Reuters) - The head of a conservat...</td>\n",
       "      <td>politicsNews</td>\n",
       "      <td>December 31, 2017</td>\n",
       "    </tr>\n",
       "    <tr>\n",
       "      <th>1</th>\n",
       "      <td>U.S. military to accept transgender recruits o...</td>\n",
       "      <td>WASHINGTON (Reuters) - Transgender people will...</td>\n",
       "      <td>politicsNews</td>\n",
       "      <td>December 29, 2017</td>\n",
       "    </tr>\n",
       "    <tr>\n",
       "      <th>2</th>\n",
       "      <td>Senior U.S. Republican senator: 'Let Mr. Muell...</td>\n",
       "      <td>WASHINGTON (Reuters) - The special counsel inv...</td>\n",
       "      <td>politicsNews</td>\n",
       "      <td>December 31, 2017</td>\n",
       "    </tr>\n",
       "    <tr>\n",
       "      <th>3</th>\n",
       "      <td>FBI Russia probe helped by Australian diplomat...</td>\n",
       "      <td>WASHINGTON (Reuters) - Trump campaign adviser ...</td>\n",
       "      <td>politicsNews</td>\n",
       "      <td>December 30, 2017</td>\n",
       "    </tr>\n",
       "    <tr>\n",
       "      <th>4</th>\n",
       "      <td>Trump wants Postal Service to charge 'much mor...</td>\n",
       "      <td>SEATTLE/WASHINGTON (Reuters) - President Donal...</td>\n",
       "      <td>politicsNews</td>\n",
       "      <td>December 29, 2017</td>\n",
       "    </tr>\n",
       "  </tbody>\n",
       "</table>\n",
       "</div>\n",
       "      <button class=\"colab-df-convert\" onclick=\"convertToInteractive('df-39062780-34d3-4f82-a21a-fe7bcf12b51a')\"\n",
       "              title=\"Convert this dataframe to an interactive table.\"\n",
       "              style=\"display:none;\">\n",
       "        \n",
       "  <svg xmlns=\"http://www.w3.org/2000/svg\" height=\"24px\"viewBox=\"0 0 24 24\"\n",
       "       width=\"24px\">\n",
       "    <path d=\"M0 0h24v24H0V0z\" fill=\"none\"/>\n",
       "    <path d=\"M18.56 5.44l.94 2.06.94-2.06 2.06-.94-2.06-.94-.94-2.06-.94 2.06-2.06.94zm-11 1L8.5 8.5l.94-2.06 2.06-.94-2.06-.94L8.5 2.5l-.94 2.06-2.06.94zm10 10l.94 2.06.94-2.06 2.06-.94-2.06-.94-.94-2.06-.94 2.06-2.06.94z\"/><path d=\"M17.41 7.96l-1.37-1.37c-.4-.4-.92-.59-1.43-.59-.52 0-1.04.2-1.43.59L10.3 9.45l-7.72 7.72c-.78.78-.78 2.05 0 2.83L4 21.41c.39.39.9.59 1.41.59.51 0 1.02-.2 1.41-.59l7.78-7.78 2.81-2.81c.8-.78.8-2.07 0-2.86zM5.41 20L4 18.59l7.72-7.72 1.47 1.35L5.41 20z\"/>\n",
       "  </svg>\n",
       "      </button>\n",
       "      \n",
       "  <style>\n",
       "    .colab-df-container {\n",
       "      display:flex;\n",
       "      flex-wrap:wrap;\n",
       "      gap: 12px;\n",
       "    }\n",
       "\n",
       "    .colab-df-convert {\n",
       "      background-color: #E8F0FE;\n",
       "      border: none;\n",
       "      border-radius: 50%;\n",
       "      cursor: pointer;\n",
       "      display: none;\n",
       "      fill: #1967D2;\n",
       "      height: 32px;\n",
       "      padding: 0 0 0 0;\n",
       "      width: 32px;\n",
       "    }\n",
       "\n",
       "    .colab-df-convert:hover {\n",
       "      background-color: #E2EBFA;\n",
       "      box-shadow: 0px 1px 2px rgba(60, 64, 67, 0.3), 0px 1px 3px 1px rgba(60, 64, 67, 0.15);\n",
       "      fill: #174EA6;\n",
       "    }\n",
       "\n",
       "    [theme=dark] .colab-df-convert {\n",
       "      background-color: #3B4455;\n",
       "      fill: #D2E3FC;\n",
       "    }\n",
       "\n",
       "    [theme=dark] .colab-df-convert:hover {\n",
       "      background-color: #434B5C;\n",
       "      box-shadow: 0px 1px 3px 1px rgba(0, 0, 0, 0.15);\n",
       "      filter: drop-shadow(0px 1px 2px rgba(0, 0, 0, 0.3));\n",
       "      fill: #FFFFFF;\n",
       "    }\n",
       "  </style>\n",
       "\n",
       "      <script>\n",
       "        const buttonEl =\n",
       "          document.querySelector('#df-39062780-34d3-4f82-a21a-fe7bcf12b51a button.colab-df-convert');\n",
       "        buttonEl.style.display =\n",
       "          google.colab.kernel.accessAllowed ? 'block' : 'none';\n",
       "\n",
       "        async function convertToInteractive(key) {\n",
       "          const element = document.querySelector('#df-39062780-34d3-4f82-a21a-fe7bcf12b51a');\n",
       "          const dataTable =\n",
       "            await google.colab.kernel.invokeFunction('convertToInteractive',\n",
       "                                                     [key], {});\n",
       "          if (!dataTable) return;\n",
       "\n",
       "          const docLinkHtml = 'Like what you see? Visit the ' +\n",
       "            '<a target=\"_blank\" href=https://colab.research.google.com/notebooks/data_table.ipynb>data table notebook</a>'\n",
       "            + ' to learn more about interactive tables.';\n",
       "          element.innerHTML = '';\n",
       "          dataTable['output_type'] = 'display_data';\n",
       "          await google.colab.output.renderOutput(dataTable, element);\n",
       "          const docLink = document.createElement('div');\n",
       "          docLink.innerHTML = docLinkHtml;\n",
       "          element.appendChild(docLink);\n",
       "        }\n",
       "      </script>\n",
       "    </div>\n",
       "  </div>\n",
       "  "
      ],
      "text/plain": [
       "                                               title  ...                date\n",
       "0  As U.S. budget fight looms, Republicans flip t...  ...  December 31, 2017 \n",
       "1  U.S. military to accept transgender recruits o...  ...  December 29, 2017 \n",
       "2  Senior U.S. Republican senator: 'Let Mr. Muell...  ...  December 31, 2017 \n",
       "3  FBI Russia probe helped by Australian diplomat...  ...  December 30, 2017 \n",
       "4  Trump wants Postal Service to charge 'much mor...  ...  December 29, 2017 \n",
       "\n",
       "[5 rows x 4 columns]"
      ]
     },
     "execution_count": 5,
     "metadata": {},
     "output_type": "execute_result"
    }
   ],
   "source": [
    "#Displayed the first 5 rows of the real news dataset\n",
    "real.head()"
   ]
  },
  {
   "cell_type": "code",
   "execution_count": 6,
   "metadata": {
    "colab": {
     "base_uri": "https://localhost:8080/",
     "height": 206
    },
    "id": "3eXvNTad8nx1",
    "outputId": "adb02bfc-33ce-40d2-b76e-50994cb366ed"
   },
   "outputs": [
    {
     "data": {
      "text/html": [
       "\n",
       "  <div id=\"df-338d9baf-1955-49ab-a587-6a7c144f8372\">\n",
       "    <div class=\"colab-df-container\">\n",
       "      <div>\n",
       "<style scoped>\n",
       "    .dataframe tbody tr th:only-of-type {\n",
       "        vertical-align: middle;\n",
       "    }\n",
       "\n",
       "    .dataframe tbody tr th {\n",
       "        vertical-align: top;\n",
       "    }\n",
       "\n",
       "    .dataframe thead th {\n",
       "        text-align: right;\n",
       "    }\n",
       "</style>\n",
       "<table border=\"1\" class=\"dataframe\">\n",
       "  <thead>\n",
       "    <tr style=\"text-align: right;\">\n",
       "      <th></th>\n",
       "      <th>title</th>\n",
       "      <th>text</th>\n",
       "      <th>subject</th>\n",
       "      <th>date</th>\n",
       "    </tr>\n",
       "  </thead>\n",
       "  <tbody>\n",
       "    <tr>\n",
       "      <th>0</th>\n",
       "      <td>Donald Trump Sends Out Embarrassing New Year’...</td>\n",
       "      <td>Donald Trump just couldn t wish all Americans ...</td>\n",
       "      <td>News</td>\n",
       "      <td>December 31, 2017</td>\n",
       "    </tr>\n",
       "    <tr>\n",
       "      <th>1</th>\n",
       "      <td>Drunk Bragging Trump Staffer Started Russian ...</td>\n",
       "      <td>House Intelligence Committee Chairman Devin Nu...</td>\n",
       "      <td>News</td>\n",
       "      <td>December 31, 2017</td>\n",
       "    </tr>\n",
       "    <tr>\n",
       "      <th>2</th>\n",
       "      <td>Sheriff David Clarke Becomes An Internet Joke...</td>\n",
       "      <td>On Friday, it was revealed that former Milwauk...</td>\n",
       "      <td>News</td>\n",
       "      <td>December 30, 2017</td>\n",
       "    </tr>\n",
       "    <tr>\n",
       "      <th>3</th>\n",
       "      <td>Trump Is So Obsessed He Even Has Obama’s Name...</td>\n",
       "      <td>On Christmas day, Donald Trump announced that ...</td>\n",
       "      <td>News</td>\n",
       "      <td>December 29, 2017</td>\n",
       "    </tr>\n",
       "    <tr>\n",
       "      <th>4</th>\n",
       "      <td>Pope Francis Just Called Out Donald Trump Dur...</td>\n",
       "      <td>Pope Francis used his annual Christmas Day mes...</td>\n",
       "      <td>News</td>\n",
       "      <td>December 25, 2017</td>\n",
       "    </tr>\n",
       "  </tbody>\n",
       "</table>\n",
       "</div>\n",
       "      <button class=\"colab-df-convert\" onclick=\"convertToInteractive('df-338d9baf-1955-49ab-a587-6a7c144f8372')\"\n",
       "              title=\"Convert this dataframe to an interactive table.\"\n",
       "              style=\"display:none;\">\n",
       "        \n",
       "  <svg xmlns=\"http://www.w3.org/2000/svg\" height=\"24px\"viewBox=\"0 0 24 24\"\n",
       "       width=\"24px\">\n",
       "    <path d=\"M0 0h24v24H0V0z\" fill=\"none\"/>\n",
       "    <path d=\"M18.56 5.44l.94 2.06.94-2.06 2.06-.94-2.06-.94-.94-2.06-.94 2.06-2.06.94zm-11 1L8.5 8.5l.94-2.06 2.06-.94-2.06-.94L8.5 2.5l-.94 2.06-2.06.94zm10 10l.94 2.06.94-2.06 2.06-.94-2.06-.94-.94-2.06-.94 2.06-2.06.94z\"/><path d=\"M17.41 7.96l-1.37-1.37c-.4-.4-.92-.59-1.43-.59-.52 0-1.04.2-1.43.59L10.3 9.45l-7.72 7.72c-.78.78-.78 2.05 0 2.83L4 21.41c.39.39.9.59 1.41.59.51 0 1.02-.2 1.41-.59l7.78-7.78 2.81-2.81c.8-.78.8-2.07 0-2.86zM5.41 20L4 18.59l7.72-7.72 1.47 1.35L5.41 20z\"/>\n",
       "  </svg>\n",
       "      </button>\n",
       "      \n",
       "  <style>\n",
       "    .colab-df-container {\n",
       "      display:flex;\n",
       "      flex-wrap:wrap;\n",
       "      gap: 12px;\n",
       "    }\n",
       "\n",
       "    .colab-df-convert {\n",
       "      background-color: #E8F0FE;\n",
       "      border: none;\n",
       "      border-radius: 50%;\n",
       "      cursor: pointer;\n",
       "      display: none;\n",
       "      fill: #1967D2;\n",
       "      height: 32px;\n",
       "      padding: 0 0 0 0;\n",
       "      width: 32px;\n",
       "    }\n",
       "\n",
       "    .colab-df-convert:hover {\n",
       "      background-color: #E2EBFA;\n",
       "      box-shadow: 0px 1px 2px rgba(60, 64, 67, 0.3), 0px 1px 3px 1px rgba(60, 64, 67, 0.15);\n",
       "      fill: #174EA6;\n",
       "    }\n",
       "\n",
       "    [theme=dark] .colab-df-convert {\n",
       "      background-color: #3B4455;\n",
       "      fill: #D2E3FC;\n",
       "    }\n",
       "\n",
       "    [theme=dark] .colab-df-convert:hover {\n",
       "      background-color: #434B5C;\n",
       "      box-shadow: 0px 1px 3px 1px rgba(0, 0, 0, 0.15);\n",
       "      filter: drop-shadow(0px 1px 2px rgba(0, 0, 0, 0.3));\n",
       "      fill: #FFFFFF;\n",
       "    }\n",
       "  </style>\n",
       "\n",
       "      <script>\n",
       "        const buttonEl =\n",
       "          document.querySelector('#df-338d9baf-1955-49ab-a587-6a7c144f8372 button.colab-df-convert');\n",
       "        buttonEl.style.display =\n",
       "          google.colab.kernel.accessAllowed ? 'block' : 'none';\n",
       "\n",
       "        async function convertToInteractive(key) {\n",
       "          const element = document.querySelector('#df-338d9baf-1955-49ab-a587-6a7c144f8372');\n",
       "          const dataTable =\n",
       "            await google.colab.kernel.invokeFunction('convertToInteractive',\n",
       "                                                     [key], {});\n",
       "          if (!dataTable) return;\n",
       "\n",
       "          const docLinkHtml = 'Like what you see? Visit the ' +\n",
       "            '<a target=\"_blank\" href=https://colab.research.google.com/notebooks/data_table.ipynb>data table notebook</a>'\n",
       "            + ' to learn more about interactive tables.';\n",
       "          element.innerHTML = '';\n",
       "          dataTable['output_type'] = 'display_data';\n",
       "          await google.colab.output.renderOutput(dataTable, element);\n",
       "          const docLink = document.createElement('div');\n",
       "          docLink.innerHTML = docLinkHtml;\n",
       "          element.appendChild(docLink);\n",
       "        }\n",
       "      </script>\n",
       "    </div>\n",
       "  </div>\n",
       "  "
      ],
      "text/plain": [
       "                                               title  ...               date\n",
       "0   Donald Trump Sends Out Embarrassing New Year’...  ...  December 31, 2017\n",
       "1   Drunk Bragging Trump Staffer Started Russian ...  ...  December 31, 2017\n",
       "2   Sheriff David Clarke Becomes An Internet Joke...  ...  December 30, 2017\n",
       "3   Trump Is So Obsessed He Even Has Obama’s Name...  ...  December 29, 2017\n",
       "4   Pope Francis Just Called Out Donald Trump Dur...  ...  December 25, 2017\n",
       "\n",
       "[5 rows x 4 columns]"
      ]
     },
     "execution_count": 6,
     "metadata": {},
     "output_type": "execute_result"
    }
   ],
   "source": [
    "#Displayed the first 5 rows of the fake news dataset\n",
    "fake.head()"
   ]
  },
  {
   "cell_type": "code",
   "execution_count": 7,
   "metadata": {
    "colab": {
     "base_uri": "https://localhost:8080/"
    },
    "id": "nTK6nAm48yMd",
    "outputId": "34a1d5fb-9c3b-475c-e43f-fca366c08933"
   },
   "outputs": [
    {
     "name": "stdout",
     "output_type": "stream",
     "text": [
      "Real news:  (21417, 4)\n",
      "Fake News:  (23481, 4)\n"
     ]
    }
   ],
   "source": [
    "#Shape of real news dataset\n",
    "print(\"Real news: \",real.shape)\n",
    "#Shape of fake news dataset\n",
    "print(\"Fake News: \", fake.shape)"
   ]
  },
  {
   "cell_type": "code",
   "execution_count": 8,
   "metadata": {
    "id": "tr7dUhF6iniE"
   },
   "outputs": [],
   "source": [
    "#Assigning a value of 0 for all real news data and placing it in the dataframe\n",
    "class0 = []\n",
    "\n",
    "for i in range(21417):\n",
    "  class0.append(0)\n",
    "\n",
    "real.insert(4, \"class\", class0, True)"
   ]
  },
  {
   "cell_type": "code",
   "execution_count": 9,
   "metadata": {
    "id": "hBYIBWmmipB3"
   },
   "outputs": [],
   "source": [
    "#Assigning a value of 1 for all fake news data and placing it in the dataframe\n",
    "class1 = []\n",
    "\n",
    "for i in range(23481):\n",
    "  class1.append(1)\n",
    "\n",
    "fake.insert(4, \"class\", class1, True)"
   ]
  },
  {
   "cell_type": "code",
   "execution_count": 10,
   "metadata": {
    "id": "Q9BUEQMmEcuI"
   },
   "outputs": [],
   "source": [
    "#Concactenating fake news and real news into 1 total dataset\n",
    "total = pd.concat([real,fake])\n",
    "total = total.sample(frac = 1)"
   ]
  },
  {
   "cell_type": "code",
   "execution_count": 11,
   "metadata": {
    "colab": {
     "base_uri": "https://localhost:8080/"
    },
    "id": "SCJ6e9bQvMI6",
    "outputId": "6a39b306-30a1-4e11-ed3b-fa13c41cbc6a"
   },
   "outputs": [
    {
     "data": {
      "text/plain": [
       "(44898, 5)"
      ]
     },
     "execution_count": 11,
     "metadata": {},
     "output_type": "execute_result"
    }
   ],
   "source": [
    "#Shape of total\n",
    "total.shape"
   ]
  },
  {
   "cell_type": "code",
   "execution_count": 12,
   "metadata": {
    "colab": {
     "base_uri": "https://localhost:8080/",
     "height": 206
    },
    "id": "sw06yP3yfzjO",
    "outputId": "f71fbf80-e874-4245-d61d-e094d5aca3bb"
   },
   "outputs": [
    {
     "data": {
      "text/html": [
       "\n",
       "  <div id=\"df-8511b480-565f-4412-9f42-44be653db4c8\">\n",
       "    <div class=\"colab-df-container\">\n",
       "      <div>\n",
       "<style scoped>\n",
       "    .dataframe tbody tr th:only-of-type {\n",
       "        vertical-align: middle;\n",
       "    }\n",
       "\n",
       "    .dataframe tbody tr th {\n",
       "        vertical-align: top;\n",
       "    }\n",
       "\n",
       "    .dataframe thead th {\n",
       "        text-align: right;\n",
       "    }\n",
       "</style>\n",
       "<table border=\"1\" class=\"dataframe\">\n",
       "  <thead>\n",
       "    <tr style=\"text-align: right;\">\n",
       "      <th></th>\n",
       "      <th>title</th>\n",
       "      <th>text</th>\n",
       "      <th>subject</th>\n",
       "      <th>date</th>\n",
       "      <th>class</th>\n",
       "    </tr>\n",
       "  </thead>\n",
       "  <tbody>\n",
       "    <tr>\n",
       "      <th>10938</th>\n",
       "      <td>BREAKING: WOMEN, MEN ARRESTED After MAJOR BRAW...</td>\n",
       "      <td>The moral decay of our nation continues full s...</td>\n",
       "      <td>politics</td>\n",
       "      <td>May 9, 2017</td>\n",
       "      <td>1</td>\n",
       "    </tr>\n",
       "    <tr>\n",
       "      <th>1749</th>\n",
       "      <td>Hoping to change his luck in Congress, Trump t...</td>\n",
       "      <td>WASHINGTON (Reuters) - Fresh off striking a bu...</td>\n",
       "      <td>politicsNews</td>\n",
       "      <td>September 13, 2017</td>\n",
       "      <td>0</td>\n",
       "    </tr>\n",
       "    <tr>\n",
       "      <th>11238</th>\n",
       "      <td>MUSLIM BROTHERHOOD Peddling Sharia As “Social ...</td>\n",
       "      <td>THIRTEEN REASONS TO DECLARE MUSLIM BROTHERHOOD...</td>\n",
       "      <td>politics</td>\n",
       "      <td>Apr 1, 2017</td>\n",
       "      <td>1</td>\n",
       "    </tr>\n",
       "    <tr>\n",
       "      <th>2957</th>\n",
       "      <td>House panel presses White House for fuller res...</td>\n",
       "      <td>WASHINGTON (Reuters) - The leaders of the U.S....</td>\n",
       "      <td>politicsNews</td>\n",
       "      <td>June 29, 2017</td>\n",
       "      <td>0</td>\n",
       "    </tr>\n",
       "    <tr>\n",
       "      <th>730</th>\n",
       "      <td>Trump Gets HUMILIATED By His Own Joint Chiefs...</td>\n",
       "      <td>It appears Donald Trump jumped the gun when he...</td>\n",
       "      <td>News</td>\n",
       "      <td>July 27, 2017</td>\n",
       "      <td>1</td>\n",
       "    </tr>\n",
       "  </tbody>\n",
       "</table>\n",
       "</div>\n",
       "      <button class=\"colab-df-convert\" onclick=\"convertToInteractive('df-8511b480-565f-4412-9f42-44be653db4c8')\"\n",
       "              title=\"Convert this dataframe to an interactive table.\"\n",
       "              style=\"display:none;\">\n",
       "        \n",
       "  <svg xmlns=\"http://www.w3.org/2000/svg\" height=\"24px\"viewBox=\"0 0 24 24\"\n",
       "       width=\"24px\">\n",
       "    <path d=\"M0 0h24v24H0V0z\" fill=\"none\"/>\n",
       "    <path d=\"M18.56 5.44l.94 2.06.94-2.06 2.06-.94-2.06-.94-.94-2.06-.94 2.06-2.06.94zm-11 1L8.5 8.5l.94-2.06 2.06-.94-2.06-.94L8.5 2.5l-.94 2.06-2.06.94zm10 10l.94 2.06.94-2.06 2.06-.94-2.06-.94-.94-2.06-.94 2.06-2.06.94z\"/><path d=\"M17.41 7.96l-1.37-1.37c-.4-.4-.92-.59-1.43-.59-.52 0-1.04.2-1.43.59L10.3 9.45l-7.72 7.72c-.78.78-.78 2.05 0 2.83L4 21.41c.39.39.9.59 1.41.59.51 0 1.02-.2 1.41-.59l7.78-7.78 2.81-2.81c.8-.78.8-2.07 0-2.86zM5.41 20L4 18.59l7.72-7.72 1.47 1.35L5.41 20z\"/>\n",
       "  </svg>\n",
       "      </button>\n",
       "      \n",
       "  <style>\n",
       "    .colab-df-container {\n",
       "      display:flex;\n",
       "      flex-wrap:wrap;\n",
       "      gap: 12px;\n",
       "    }\n",
       "\n",
       "    .colab-df-convert {\n",
       "      background-color: #E8F0FE;\n",
       "      border: none;\n",
       "      border-radius: 50%;\n",
       "      cursor: pointer;\n",
       "      display: none;\n",
       "      fill: #1967D2;\n",
       "      height: 32px;\n",
       "      padding: 0 0 0 0;\n",
       "      width: 32px;\n",
       "    }\n",
       "\n",
       "    .colab-df-convert:hover {\n",
       "      background-color: #E2EBFA;\n",
       "      box-shadow: 0px 1px 2px rgba(60, 64, 67, 0.3), 0px 1px 3px 1px rgba(60, 64, 67, 0.15);\n",
       "      fill: #174EA6;\n",
       "    }\n",
       "\n",
       "    [theme=dark] .colab-df-convert {\n",
       "      background-color: #3B4455;\n",
       "      fill: #D2E3FC;\n",
       "    }\n",
       "\n",
       "    [theme=dark] .colab-df-convert:hover {\n",
       "      background-color: #434B5C;\n",
       "      box-shadow: 0px 1px 3px 1px rgba(0, 0, 0, 0.15);\n",
       "      filter: drop-shadow(0px 1px 2px rgba(0, 0, 0, 0.3));\n",
       "      fill: #FFFFFF;\n",
       "    }\n",
       "  </style>\n",
       "\n",
       "      <script>\n",
       "        const buttonEl =\n",
       "          document.querySelector('#df-8511b480-565f-4412-9f42-44be653db4c8 button.colab-df-convert');\n",
       "        buttonEl.style.display =\n",
       "          google.colab.kernel.accessAllowed ? 'block' : 'none';\n",
       "\n",
       "        async function convertToInteractive(key) {\n",
       "          const element = document.querySelector('#df-8511b480-565f-4412-9f42-44be653db4c8');\n",
       "          const dataTable =\n",
       "            await google.colab.kernel.invokeFunction('convertToInteractive',\n",
       "                                                     [key], {});\n",
       "          if (!dataTable) return;\n",
       "\n",
       "          const docLinkHtml = 'Like what you see? Visit the ' +\n",
       "            '<a target=\"_blank\" href=https://colab.research.google.com/notebooks/data_table.ipynb>data table notebook</a>'\n",
       "            + ' to learn more about interactive tables.';\n",
       "          element.innerHTML = '';\n",
       "          dataTable['output_type'] = 'display_data';\n",
       "          await google.colab.output.renderOutput(dataTable, element);\n",
       "          const docLink = document.createElement('div');\n",
       "          docLink.innerHTML = docLinkHtml;\n",
       "          element.appendChild(docLink);\n",
       "        }\n",
       "      </script>\n",
       "    </div>\n",
       "  </div>\n",
       "  "
      ],
      "text/plain": [
       "                                                   title  ... class\n",
       "10938  BREAKING: WOMEN, MEN ARRESTED After MAJOR BRAW...  ...     1\n",
       "1749   Hoping to change his luck in Congress, Trump t...  ...     0\n",
       "11238  MUSLIM BROTHERHOOD Peddling Sharia As “Social ...  ...     1\n",
       "2957   House panel presses White House for fuller res...  ...     0\n",
       "730     Trump Gets HUMILIATED By His Own Joint Chiefs...  ...     1\n",
       "\n",
       "[5 rows x 5 columns]"
      ]
     },
     "execution_count": 12,
     "metadata": {},
     "output_type": "execute_result"
    }
   ],
   "source": [
    "#total = total.sample(frac=1)\n",
    "pd.set_option('display.width', total.shape[0])\n",
    "total.head()\n"
   ]
  },
  {
   "cell_type": "code",
   "execution_count": 13,
   "metadata": {
    "colab": {
     "base_uri": "https://localhost:8080/",
     "height": 206
    },
    "id": "bDr1m7hw82Z1",
    "outputId": "06cf1e8a-8bd9-4397-8d60-10db995f49f3"
   },
   "outputs": [
    {
     "data": {
      "text/html": [
       "\n",
       "  <div id=\"df-4d0d11d0-9700-4316-af0b-3cf0584b6ef4\">\n",
       "    <div class=\"colab-df-container\">\n",
       "      <div>\n",
       "<style scoped>\n",
       "    .dataframe tbody tr th:only-of-type {\n",
       "        vertical-align: middle;\n",
       "    }\n",
       "\n",
       "    .dataframe tbody tr th {\n",
       "        vertical-align: top;\n",
       "    }\n",
       "\n",
       "    .dataframe thead th {\n",
       "        text-align: right;\n",
       "    }\n",
       "</style>\n",
       "<table border=\"1\" class=\"dataframe\">\n",
       "  <thead>\n",
       "    <tr style=\"text-align: right;\">\n",
       "      <th></th>\n",
       "      <th>title</th>\n",
       "      <th>class</th>\n",
       "    </tr>\n",
       "  </thead>\n",
       "  <tbody>\n",
       "    <tr>\n",
       "      <th>10938</th>\n",
       "      <td>BREAKING: WOMEN, MEN ARRESTED After MAJOR BRAW...</td>\n",
       "      <td>1</td>\n",
       "    </tr>\n",
       "    <tr>\n",
       "      <th>1749</th>\n",
       "      <td>Hoping to change his luck in Congress, Trump t...</td>\n",
       "      <td>0</td>\n",
       "    </tr>\n",
       "    <tr>\n",
       "      <th>11238</th>\n",
       "      <td>MUSLIM BROTHERHOOD Peddling Sharia As “Social ...</td>\n",
       "      <td>1</td>\n",
       "    </tr>\n",
       "    <tr>\n",
       "      <th>2957</th>\n",
       "      <td>House panel presses White House for fuller res...</td>\n",
       "      <td>0</td>\n",
       "    </tr>\n",
       "    <tr>\n",
       "      <th>730</th>\n",
       "      <td>Trump Gets HUMILIATED By His Own Joint Chiefs...</td>\n",
       "      <td>1</td>\n",
       "    </tr>\n",
       "  </tbody>\n",
       "</table>\n",
       "</div>\n",
       "      <button class=\"colab-df-convert\" onclick=\"convertToInteractive('df-4d0d11d0-9700-4316-af0b-3cf0584b6ef4')\"\n",
       "              title=\"Convert this dataframe to an interactive table.\"\n",
       "              style=\"display:none;\">\n",
       "        \n",
       "  <svg xmlns=\"http://www.w3.org/2000/svg\" height=\"24px\"viewBox=\"0 0 24 24\"\n",
       "       width=\"24px\">\n",
       "    <path d=\"M0 0h24v24H0V0z\" fill=\"none\"/>\n",
       "    <path d=\"M18.56 5.44l.94 2.06.94-2.06 2.06-.94-2.06-.94-.94-2.06-.94 2.06-2.06.94zm-11 1L8.5 8.5l.94-2.06 2.06-.94-2.06-.94L8.5 2.5l-.94 2.06-2.06.94zm10 10l.94 2.06.94-2.06 2.06-.94-2.06-.94-.94-2.06-.94 2.06-2.06.94z\"/><path d=\"M17.41 7.96l-1.37-1.37c-.4-.4-.92-.59-1.43-.59-.52 0-1.04.2-1.43.59L10.3 9.45l-7.72 7.72c-.78.78-.78 2.05 0 2.83L4 21.41c.39.39.9.59 1.41.59.51 0 1.02-.2 1.41-.59l7.78-7.78 2.81-2.81c.8-.78.8-2.07 0-2.86zM5.41 20L4 18.59l7.72-7.72 1.47 1.35L5.41 20z\"/>\n",
       "  </svg>\n",
       "      </button>\n",
       "      \n",
       "  <style>\n",
       "    .colab-df-container {\n",
       "      display:flex;\n",
       "      flex-wrap:wrap;\n",
       "      gap: 12px;\n",
       "    }\n",
       "\n",
       "    .colab-df-convert {\n",
       "      background-color: #E8F0FE;\n",
       "      border: none;\n",
       "      border-radius: 50%;\n",
       "      cursor: pointer;\n",
       "      display: none;\n",
       "      fill: #1967D2;\n",
       "      height: 32px;\n",
       "      padding: 0 0 0 0;\n",
       "      width: 32px;\n",
       "    }\n",
       "\n",
       "    .colab-df-convert:hover {\n",
       "      background-color: #E2EBFA;\n",
       "      box-shadow: 0px 1px 2px rgba(60, 64, 67, 0.3), 0px 1px 3px 1px rgba(60, 64, 67, 0.15);\n",
       "      fill: #174EA6;\n",
       "    }\n",
       "\n",
       "    [theme=dark] .colab-df-convert {\n",
       "      background-color: #3B4455;\n",
       "      fill: #D2E3FC;\n",
       "    }\n",
       "\n",
       "    [theme=dark] .colab-df-convert:hover {\n",
       "      background-color: #434B5C;\n",
       "      box-shadow: 0px 1px 3px 1px rgba(0, 0, 0, 0.15);\n",
       "      filter: drop-shadow(0px 1px 2px rgba(0, 0, 0, 0.3));\n",
       "      fill: #FFFFFF;\n",
       "    }\n",
       "  </style>\n",
       "\n",
       "      <script>\n",
       "        const buttonEl =\n",
       "          document.querySelector('#df-4d0d11d0-9700-4316-af0b-3cf0584b6ef4 button.colab-df-convert');\n",
       "        buttonEl.style.display =\n",
       "          google.colab.kernel.accessAllowed ? 'block' : 'none';\n",
       "\n",
       "        async function convertToInteractive(key) {\n",
       "          const element = document.querySelector('#df-4d0d11d0-9700-4316-af0b-3cf0584b6ef4');\n",
       "          const dataTable =\n",
       "            await google.colab.kernel.invokeFunction('convertToInteractive',\n",
       "                                                     [key], {});\n",
       "          if (!dataTable) return;\n",
       "\n",
       "          const docLinkHtml = 'Like what you see? Visit the ' +\n",
       "            '<a target=\"_blank\" href=https://colab.research.google.com/notebooks/data_table.ipynb>data table notebook</a>'\n",
       "            + ' to learn more about interactive tables.';\n",
       "          element.innerHTML = '';\n",
       "          dataTable['output_type'] = 'display_data';\n",
       "          await google.colab.output.renderOutput(dataTable, element);\n",
       "          const docLink = document.createElement('div');\n",
       "          docLink.innerHTML = docLinkHtml;\n",
       "          element.appendChild(docLink);\n",
       "        }\n",
       "      </script>\n",
       "    </div>\n",
       "  </div>\n",
       "  "
      ],
      "text/plain": [
       "                                                   title  class\n",
       "10938  BREAKING: WOMEN, MEN ARRESTED After MAJOR BRAW...      1\n",
       "1749   Hoping to change his luck in Congress, Trump t...      0\n",
       "11238  MUSLIM BROTHERHOOD Peddling Sharia As “Social ...      1\n",
       "2957   House panel presses White House for fuller res...      0\n",
       "730     Trump Gets HUMILIATED By His Own Joint Chiefs...      1"
      ]
     },
     "execution_count": 13,
     "metadata": {},
     "output_type": "execute_result"
    }
   ],
   "source": [
    "#Extract only the values for title (input) and class (output)\n",
    "data = total[['title','class']]\n",
    "data.head()\n"
   ]
  },
  {
   "cell_type": "code",
   "execution_count": 14,
   "metadata": {
    "colab": {
     "base_uri": "https://localhost:8080/"
    },
    "id": "8x1FDiv1exdj",
    "outputId": "103dccd0-a99f-458d-9d25-06dd41becfa4"
   },
   "outputs": [
    {
     "name": "stdout",
     "output_type": "stream",
     "text": [
      "Mean Length 80.11171989843646\n",
      "Min Length 8\n",
      "Max Length 286\n"
     ]
    }
   ],
   "source": [
    "# Character Length of Titles - Min, Mean, Max\n",
    "print('Mean Length', data['title'].apply(len).mean())\n",
    "print('Min Length', data['title'].apply(len).min())\n",
    "print('Max Length', data['title'].apply(len).max())\n",
    "\n"
   ]
  },
  {
   "cell_type": "code",
   "execution_count": 15,
   "metadata": {
    "colab": {
     "base_uri": "https://localhost:8080/",
     "height": 265
    },
    "id": "F8hjRPYQfzPe",
    "outputId": "66045a98-66b1-4c52-a130-88a79ddd3f14"
   },
   "outputs": [
    {
     "data": {
      "image/png": "[encoded data removed]",
      "text/plain": [
       "<Figure size 432x288 with 1 Axes>"
      ]
     },
     "metadata": {
      "needs_background": "light"
     },
     "output_type": "display_data"
    }
   ],
   "source": [
    "#plotting the frequency of characters on a histogram\n",
    "import seaborn as sns\n",
    "\n",
    "x = data['title'].apply(len).plot.hist()"
   ]
  },
  {
   "cell_type": "code",
   "execution_count": 16,
   "metadata": {
    "colab": {
     "base_uri": "https://localhost:8080/",
     "height": 198
    },
    "id": "Db9A_aV5hgMd",
    "outputId": "5465495d-bdc7-404f-ad58-b32dc50d10e9"
   },
   "outputs": [
    {
     "data": {
      "image/png": "[encoded data removed]",
      "text/plain": [
       "<Figure size 432x288 with 1 Axes>"
      ]
     },
     "metadata": {
      "needs_background": "light"
     },
     "output_type": "display_data"
    }
   ],
   "source": [
    "#Word cloud of most common words from real news \n",
    "#For fake news, change [\"class\"] == 0 to 1\n",
    "from wordcloud import WordCloud, STOPWORDS\n",
    "\n",
    "#Note to self: fix for entire dataset\n",
    "text = data[data[\"class\"] == 0].values\n",
    "wc = WordCloud(stopwords=STOPWORDS).generate(str(text))\n",
    "plt.imshow(wc)\n",
    "plt.axis(\"off\")\n",
    "plt.show()"
   ]
  },
  {
   "cell_type": "code",
   "execution_count": 17,
   "metadata": {
    "id": "2zzpnCjhTGhV"
   },
   "outputs": [],
   "source": [
    "#Extracting numpy arrays for the title and classes\n",
    "titles = data[\"title\"].values\n",
    "labels = data[\"class\"].values\n",
    "\n"
   ]
  },
  {
   "cell_type": "code",
   "execution_count": 18,
   "metadata": {
    "colab": {
     "base_uri": "https://localhost:8080/",
     "height": 817
    },
    "id": "nOws8bK9iFZy",
    "outputId": "33c786d8-252d-4e5d-8910-9784b8a705f8"
   },
   "outputs": [
    {
     "name": "stderr",
     "output_type": "stream",
     "text": [
      "/usr/local/lib/python3.7/dist-packages/ipykernel_launcher.py:5: SettingWithCopyWarning: \n",
      "A value is trying to be set on a copy of a slice from a DataFrame.\n",
      "Try using .loc[row_indexer,col_indexer] = value instead\n",
      "\n",
      "See the caveats in the documentation: https://pandas.pydata.org/pandas-docs/stable/user_guide/indexing.html#returning-a-view-versus-a-copy\n",
      "  \"\"\"\n"
     ]
    },
    {
     "name": "stdout",
     "output_type": "stream",
     "text": [
      "['!', '\"', '#', '$', '%', '&', \"'\", '(', ')', '*', '+', ',', '-', '.', '/', ':', ';', '<', '=', '>', '?', '@', '[', '\\\\', ']', '^', '_', '`', '{', '|', '}', '~', \"'\", '\"']\n"
     ]
    },
    {
     "name": "stderr",
     "output_type": "stream",
     "text": [
      "/usr/local/lib/python3.7/dist-packages/ipykernel_launcher.py:28: SettingWithCopyWarning: \n",
      "A value is trying to be set on a copy of a slice from a DataFrame.\n",
      "Try using .loc[row_indexer,col_indexer] = value instead\n",
      "\n",
      "See the caveats in the documentation: https://pandas.pydata.org/pandas-docs/stable/user_guide/indexing.html#returning-a-view-versus-a-copy\n"
     ]
    },
    {
     "name": "stdout",
     "output_type": "stream",
     "text": [
      "[nltk_data] Downloading package punkt to /root/nltk_data...\n",
      "[nltk_data]   Unzipping tokenizers/punkt.zip.\n",
      "[nltk_data] Downloading package wordnet to /root/nltk_data...\n",
      "[nltk_data]   Unzipping corpora/wordnet.zip.\n",
      "[nltk_data] Downloading package stopwords to /root/nltk_data...\n",
      "[nltk_data]   Unzipping corpora/stopwords.zip.\n"
     ]
    },
    {
     "name": "stderr",
     "output_type": "stream",
     "text": [
      "/usr/local/lib/python3.7/dist-packages/ipykernel_launcher.py:41: SettingWithCopyWarning: \n",
      "A value is trying to be set on a copy of a slice from a DataFrame.\n",
      "Try using .loc[row_indexer,col_indexer] = value instead\n",
      "\n",
      "See the caveats in the documentation: https://pandas.pydata.org/pandas-docs/stable/user_guide/indexing.html#returning-a-view-versus-a-copy\n",
      "/usr/local/lib/python3.7/dist-packages/ipykernel_launcher.py:54: SettingWithCopyWarning: \n",
      "A value is trying to be set on a copy of a slice from a DataFrame.\n",
      "Try using .loc[row_indexer,col_indexer] = value instead\n",
      "\n",
      "See the caveats in the documentation: https://pandas.pydata.org/pandas-docs/stable/user_guide/indexing.html#returning-a-view-versus-a-copy\n"
     ]
    },
    {
     "name": "stdout",
     "output_type": "stream",
     "text": [
      "<WordListCorpusReader in '/root/nltk_data/corpora/stopwords'>\n"
     ]
    },
    {
     "name": "stderr",
     "output_type": "stream",
     "text": [
      "/usr/local/lib/python3.7/dist-packages/ipykernel_launcher.py:66: SettingWithCopyWarning: \n",
      "A value is trying to be set on a copy of a slice from a DataFrame.\n",
      "Try using .loc[row_indexer,col_indexer] = value instead\n",
      "\n",
      "See the caveats in the documentation: https://pandas.pydata.org/pandas-docs/stable/user_guide/indexing.html#returning-a-view-versus-a-copy\n"
     ]
    },
    {
     "data": {
      "text/html": [
       "\n",
       "  <div id=\"df-9fbec26c-3960-4633-a9c4-a135f4eec881\">\n",
       "    <div class=\"colab-df-container\">\n",
       "      <div>\n",
       "<style scoped>\n",
       "    .dataframe tbody tr th:only-of-type {\n",
       "        vertical-align: middle;\n",
       "    }\n",
       "\n",
       "    .dataframe tbody tr th {\n",
       "        vertical-align: top;\n",
       "    }\n",
       "\n",
       "    .dataframe thead th {\n",
       "        text-align: right;\n",
       "    }\n",
       "</style>\n",
       "<table border=\"1\" class=\"dataframe\">\n",
       "  <thead>\n",
       "    <tr style=\"text-align: right;\">\n",
       "      <th></th>\n",
       "      <th>title</th>\n",
       "      <th>class</th>\n",
       "    </tr>\n",
       "  </thead>\n",
       "  <tbody>\n",
       "    <tr>\n",
       "      <th>10938</th>\n",
       "      <td>[breaking, woman, men, arrested, major, brawl,...</td>\n",
       "      <td>1</td>\n",
       "    </tr>\n",
       "    <tr>\n",
       "      <th>1749</th>\n",
       "      <td>[hoping, change, luck, congress, trump, turn, ...</td>\n",
       "      <td>0</td>\n",
       "    </tr>\n",
       "    <tr>\n",
       "      <th>11238</th>\n",
       "      <td>[muslim, brotherhood, peddling, sharia, “, soc...</td>\n",
       "      <td>1</td>\n",
       "    </tr>\n",
       "    <tr>\n",
       "      <th>2957</th>\n",
       "      <td>[house, panel, press, white, house, fuller, re...</td>\n",
       "      <td>0</td>\n",
       "    </tr>\n",
       "    <tr>\n",
       "      <th>730</th>\n",
       "      <td>[trump, get, humiliated, joint, chief, contrad...</td>\n",
       "      <td>1</td>\n",
       "    </tr>\n",
       "  </tbody>\n",
       "</table>\n",
       "</div>\n",
       "      <button class=\"colab-df-convert\" onclick=\"convertToInteractive('df-9fbec26c-3960-4633-a9c4-a135f4eec881')\"\n",
       "              title=\"Convert this dataframe to an interactive table.\"\n",
       "              style=\"display:none;\">\n",
       "        \n",
       "  <svg xmlns=\"http://www.w3.org/2000/svg\" height=\"24px\"viewBox=\"0 0 24 24\"\n",
       "       width=\"24px\">\n",
       "    <path d=\"M0 0h24v24H0V0z\" fill=\"none\"/>\n",
       "    <path d=\"M18.56 5.44l.94 2.06.94-2.06 2.06-.94-2.06-.94-.94-2.06-.94 2.06-2.06.94zm-11 1L8.5 8.5l.94-2.06 2.06-.94-2.06-.94L8.5 2.5l-.94 2.06-2.06.94zm10 10l.94 2.06.94-2.06 2.06-.94-2.06-.94-.94-2.06-.94 2.06-2.06.94z\"/><path d=\"M17.41 7.96l-1.37-1.37c-.4-.4-.92-.59-1.43-.59-.52 0-1.04.2-1.43.59L10.3 9.45l-7.72 7.72c-.78.78-.78 2.05 0 2.83L4 21.41c.39.39.9.59 1.41.59.51 0 1.02-.2 1.41-.59l7.78-7.78 2.81-2.81c.8-.78.8-2.07 0-2.86zM5.41 20L4 18.59l7.72-7.72 1.47 1.35L5.41 20z\"/>\n",
       "  </svg>\n",
       "      </button>\n",
       "      \n",
       "  <style>\n",
       "    .colab-df-container {\n",
       "      display:flex;\n",
       "      flex-wrap:wrap;\n",
       "      gap: 12px;\n",
       "    }\n",
       "\n",
       "    .colab-df-convert {\n",
       "      background-color: #E8F0FE;\n",
       "      border: none;\n",
       "      border-radius: 50%;\n",
       "      cursor: pointer;\n",
       "      display: none;\n",
       "      fill: #1967D2;\n",
       "      height: 32px;\n",
       "      padding: 0 0 0 0;\n",
       "      width: 32px;\n",
       "    }\n",
       "\n",
       "    .colab-df-convert:hover {\n",
       "      background-color: #E2EBFA;\n",
       "      box-shadow: 0px 1px 2px rgba(60, 64, 67, 0.3), 0px 1px 3px 1px rgba(60, 64, 67, 0.15);\n",
       "      fill: #174EA6;\n",
       "    }\n",
       "\n",
       "    [theme=dark] .colab-df-convert {\n",
       "      background-color: #3B4455;\n",
       "      fill: #D2E3FC;\n",
       "    }\n",
       "\n",
       "    [theme=dark] .colab-df-convert:hover {\n",
       "      background-color: #434B5C;\n",
       "      box-shadow: 0px 1px 3px 1px rgba(0, 0, 0, 0.15);\n",
       "      filter: drop-shadow(0px 1px 2px rgba(0, 0, 0, 0.3));\n",
       "      fill: #FFFFFF;\n",
       "    }\n",
       "  </style>\n",
       "\n",
       "      <script>\n",
       "        const buttonEl =\n",
       "          document.querySelector('#df-9fbec26c-3960-4633-a9c4-a135f4eec881 button.colab-df-convert');\n",
       "        buttonEl.style.display =\n",
       "          google.colab.kernel.accessAllowed ? 'block' : 'none';\n",
       "\n",
       "        async function convertToInteractive(key) {\n",
       "          const element = document.querySelector('#df-9fbec26c-3960-4633-a9c4-a135f4eec881');\n",
       "          const dataTable =\n",
       "            await google.colab.kernel.invokeFunction('convertToInteractive',\n",
       "                                                     [key], {});\n",
       "          if (!dataTable) return;\n",
       "\n",
       "          const docLinkHtml = 'Like what you see? Visit the ' +\n",
       "            '<a target=\"_blank\" href=https://colab.research.google.com/notebooks/data_table.ipynb>data table notebook</a>'\n",
       "            + ' to learn more about interactive tables.';\n",
       "          element.innerHTML = '';\n",
       "          dataTable['output_type'] = 'display_data';\n",
       "          await google.colab.output.renderOutput(dataTable, element);\n",
       "          const docLink = document.createElement('div');\n",
       "          docLink.innerHTML = docLinkHtml;\n",
       "          element.appendChild(docLink);\n",
       "        }\n",
       "      </script>\n",
       "    </div>\n",
       "  </div>\n",
       "  "
      ],
      "text/plain": [
       "                                                   title  class\n",
       "10938  [breaking, woman, men, arrested, major, brawl,...      1\n",
       "1749   [hoping, change, luck, congress, trump, turn, ...      0\n",
       "11238  [muslim, brotherhood, peddling, sharia, “, soc...      1\n",
       "2957   [house, panel, press, white, house, fuller, re...      0\n",
       "730    [trump, get, humiliated, joint, chief, contrad...      1"
      ]
     },
     "execution_count": 18,
     "metadata": {},
     "output_type": "execute_result"
    }
   ],
   "source": [
    "#Data Preprocessing\n",
    "\n",
    "\n",
    "#Lowercase letters\n",
    "data['title'] = data['title'].str.lower()\n",
    "data.head()\n",
    "\n",
    "\n",
    "#Ensure that all necessary punctuations are in one list\n",
    "#Include ' and \" as they are not default\n",
    "\n",
    "import string\n",
    "#Fix this (note to self)\n",
    "punc = list(string.punctuation)\n",
    "punc.append('\\'')\n",
    "punc.append('\"')\n",
    "print(punc)\n",
    "\n",
    "\n",
    "#Loop through dataframe and remove all punctuations\n",
    "def removePunc(text):\n",
    "    for i in string.punctuation:\n",
    "        text = text.replace(i, '')\n",
    "    return text\n",
    "\n",
    "\n",
    "# Apply to the DF series\n",
    "data['title'] = data['title'].apply(removePunc)\n",
    "data.head()\n",
    "\n",
    "\n",
    "#Import nltk preprocessing library to convert text into a readable format\n",
    "import nltk\n",
    "nltk.download('punkt')\n",
    "nltk.download('wordnet')\n",
    "nltk.download('stopwords')\n",
    "from nltk.tokenize import sent_tokenize\n",
    "\n",
    "\n",
    "#Tokenize the string (create a list -> each index is a word)\n",
    "data['title'] = data.apply(lambda row: nltk.word_tokenize(row['title']), axis=1)\n",
    "data.head()\n",
    "\n",
    "#Define text lemmatization model (eg: walks will be changed to walk)\n",
    "from nltk.stem import WordNetLemmatizer \n",
    "lemmatizer = WordNetLemmatizer()\n",
    "\n",
    "\n",
    "#Loop through title dataframe and lemmatize each word\n",
    "def lemma(data):\n",
    "  return [lemmatizer.lemmatize(w) for w in data]\n",
    "\n",
    "#Apply to dataframe\n",
    "data['title'] = data['title'].apply(lemma)\n",
    "\n",
    "data.head()\n",
    "\n",
    "\n",
    "\n",
    "#Define all stopwords in the English language (it, was, for, etc.)\n",
    "from nltk.corpus import stopwords\n",
    "\n",
    "stop = stopwords.words('english')\n",
    "print(stopwords)\n",
    "#Remove them from our dataframe\n",
    "data['title'] = data['title'].apply(lambda x: [i for i in x if i not in stop])\n",
    "\n",
    "\n",
    "\n",
    "\n",
    "\n",
    "data.head()"
   ]
  },
  {
   "cell_type": "code",
   "execution_count": 19,
   "metadata": {
    "id": "zv8yxuoS11p4"
   },
   "outputs": [],
   "source": [
    "from sklearn.model_selection import train_test_split\n",
    "\n",
    "#Split data into training and testing dataset\n",
    "#We teach our model based on the training set (including the labels)\n",
    "#We take the labels away to test our model with the testing set\n",
    "title_train, title_test, y_train, y_test = train_test_split(titles, labels, test_size=0.2, random_state=1000)\n",
    "\n"
   ]
  },
  {
   "cell_type": "code",
   "execution_count": 20,
   "metadata": {
    "colab": {
     "base_uri": "https://localhost:8080/"
    },
    "id": "S4lvpMYQyrNj",
    "outputId": "33b613d5-9413-470c-9561-840d312519e6"
   },
   "outputs": [
    {
     "name": "stdout",
     "output_type": "stream",
     "text": [
      "22951\n"
     ]
    },
    {
     "data": {
      "text/plain": [
       "(2020590, 2255320)"
      ]
     },
     "execution_count": 20,
     "metadata": {},
     "output_type": "execute_result"
    }
   ],
   "source": [
    "from gensim.models import Word2Vec\n",
    "#Create a word2vec model\n",
    "vec = Word2Vec(min_count=1)\n",
    "#Build its vocabulary by looping through the title dataset\n",
    "vec.build_vocab([x for x in data['title'].values])\n",
    "#Print the vocabulary size\n",
    "print(len(vec.wv.vocab))\n",
    "#Train our word2vec model on all titles for 5 epochs\n",
    "vec.train([x for x in data['title'].values],total_examples=vec.corpus_count,epochs=5)"
   ]
  },
  {
   "cell_type": "code",
   "execution_count": 21,
   "metadata": {
    "colab": {
     "base_uri": "https://localhost:8080/"
    },
    "id": "Nx4jz1w9OkQV",
    "outputId": "8522d385-5237-4c51-f014-624548b86d76"
   },
   "outputs": [
    {
     "name": "stderr",
     "output_type": "stream",
     "text": [
      "/usr/local/lib/python3.7/dist-packages/ipykernel_launcher.py:2: DeprecationWarning: Call to deprecated `__getitem__` (Method will be removed in 4.0.0, use self.wv.__getitem__() instead).\n",
      "  \n"
     ]
    },
    {
     "data": {
      "text/plain": [
       "array([ 1.04349181e-01, -1.95309579e-01,  3.70148182e-01,  9.67159122e-02,\n",
       "        1.29540870e-02,  6.59113824e-01,  5.75157940e-01, -4.92670149e-01,\n",
       "        2.72421390e-01, -1.24665785e+00, -4.87865627e-01, -4.71730560e-01,\n",
       "       -3.83109823e-02, -4.09607925e-02,  6.27469942e-02,  4.33625996e-01,\n",
       "       -9.02657211e-03,  1.01116195e-01,  6.78008571e-02,  2.02461794e-01,\n",
       "       -2.29451939e-01, -1.93794742e-01, -2.09343642e-01,  2.55079597e-01,\n",
       "        3.96494746e-01, -4.89410106e-03, -1.94954768e-01, -6.20425045e-02,\n",
       "       -3.95742878e-02,  2.81510979e-01,  1.16525330e-01,  4.31790620e-01,\n",
       "        3.00148815e-01, -4.44640875e-01, -3.71433884e-01, -2.11279511e-01,\n",
       "        7.80969337e-02, -2.99238563e-01,  1.37462214e-01,  3.21516534e-03,\n",
       "        2.24138591e-02,  2.11270690e-01,  5.20017564e-01, -3.48720789e-01,\n",
       "        1.39712885e-01,  7.10904300e-01,  2.06573486e-01, -3.50827456e-01,\n",
       "       -3.65823925e-01,  4.23026353e-01, -4.87947352e-02,  3.43736112e-02,\n",
       "        6.71820104e-01, -1.21916458e-01,  6.04093015e-01,  1.52146235e-01,\n",
       "        3.90916497e-01, -2.52062708e-01, -5.27951419e-01, -1.02002501e+00,\n",
       "       -5.68059564e-01, -3.67202796e-02,  3.03740978e-01, -2.54504085e-01,\n",
       "       -5.47453523e-01,  2.11049424e-04, -4.19813156e-01,  2.37926200e-01,\n",
       "        4.22967494e-01, -5.11651516e-01, -2.40740046e-01, -3.95490021e-01,\n",
       "       -1.99930996e-01, -2.43608892e-01, -2.70717174e-01, -3.11360300e-01,\n",
       "        5.10762393e-01, -2.48912141e-01,  2.06367970e-01, -8.09244156e-01,\n",
       "       -1.65757373e-01,  1.42789230e-01,  7.18810484e-02, -2.92301714e-01,\n",
       "        8.37689698e-01,  6.58393681e-01,  6.82783350e-02,  1.81910709e-01,\n",
       "        5.74323870e-02,  2.40496188e-01,  1.62096798e-01,  4.24098611e-01,\n",
       "       -1.10562935e-01, -6.35971069e-01, -3.01875472e-01,  1.86657459e-01,\n",
       "       -8.09770703e-01,  6.88902915e-01, -6.88972712e-01, -4.46670771e-01],\n",
       "      dtype=float32)"
      ]
     },
     "execution_count": 21,
     "metadata": {},
     "output_type": "execute_result"
    }
   ],
   "source": [
    "#Word vectors for the selected word\n",
    "vec['car']"
   ]
  },
  {
   "cell_type": "code",
   "execution_count": 22,
   "metadata": {
    "colab": {
     "base_uri": "https://localhost:8080/"
    },
    "id": "bxpWdmzzOYBU",
    "outputId": "3fa831a8-5334-46fc-89e5-d76c7714d6d9"
   },
   "outputs": [
    {
     "name": "stderr",
     "output_type": "stream",
     "text": [
      "/usr/local/lib/python3.7/dist-packages/ipykernel_launcher.py:2: DeprecationWarning: Call to deprecated `most_similar` (Method will be removed in 4.0.0, use self.wv.most_similar() instead).\n",
      "  \n"
     ]
    },
    {
     "data": {
      "text/plain": [
       "[('antigay', 0.9977872967720032),\n",
       " ('clerk', 0.9948059916496277),\n",
       " ('leftwing', 0.9943658113479614),\n",
       " ('argues', 0.9943347573280334),\n",
       " ('rank', 0.9937988519668579),\n",
       " ('debbie', 0.9936710596084595),\n",
       " ('discrimination', 0.9932295680046082),\n",
       " ('cophating', 0.9926937818527222),\n",
       " ('sheila', 0.9926355481147766),\n",
       " ('progun', 0.992597222328186)]"
      ]
     },
     "execution_count": 22,
     "metadata": {},
     "output_type": "execute_result"
    }
   ],
   "source": [
    "#Most similar word vectors to another one\n",
    "vec.most_similar(\"florida\")"
   ]
  },
  {
   "cell_type": "code",
   "execution_count": 23,
   "metadata": {
    "colab": {
     "base_uri": "https://localhost:8080/"
    },
    "id": "cRkjAOEon5i5",
    "outputId": "77c358cc-cd4e-402c-c295-f41c57420c7d"
   },
   "outputs": [
    {
     "data": {
      "text/plain": [
       "(22951, 100)"
      ]
     },
     "execution_count": 23,
     "metadata": {},
     "output_type": "execute_result"
    }
   ],
   "source": [
    "#Shape of the word vectors\n",
    "vec.wv.vectors.shape"
   ]
  },
  {
   "cell_type": "code",
   "execution_count": 24,
   "metadata": {
    "id": "HDd2gCpyyvY9"
   },
   "outputs": [],
   "source": [
    "#Import Doc2Vec to get a vector for each individual title\n",
    "from gensim.models import Doc2Vec\n",
    "from gensim.models.doc2vec import TaggedDocument\n",
    "#Add a tag which denotes a new document everytime a new dataset is seen\n",
    "#Example: [[word1,word2,word3,word4],document0]\n",
    "tags = [TaggedDocument(doc, [i]) for i, doc in enumerate(title_train)]\n",
    "\n",
    "#Define the Doc2Vec model\n",
    "doc = Doc2Vec(tags,vector_size=100,min_count=1,epochs=5)\n",
    "#Build the vocabulary based on the tag structures defined above\n",
    "#doc.build_vocab(tags)\n",
    "#Train the doc2vec model\n",
    "doc.train(tags, total_examples=doc.corpus_count,epochs=doc.epochs)"
   ]
  },
  {
   "cell_type": "code",
   "execution_count": 26,
   "metadata": {
    "colab": {
     "base_uri": "https://localhost:8080/"
    },
    "id": "B6ijZaw65yhK",
    "outputId": "9516f471-97c8-455b-8098-abbc49e8f101"
   },
   "outputs": [
    {
     "name": "stdout",
     "output_type": "stream",
     "text": [
      "21221\n"
     ]
    }
   ],
   "source": [
    "#Derive the length of the vocabulary\n",
    "print(len(doc.wv.vocab))"
   ]
  },
  {
   "cell_type": "code",
   "execution_count": 27,
   "metadata": {
    "id": "1dF6HWko5550"
   },
   "outputs": [],
   "source": [
    "#Derive vectors for each of the documents\n",
    "train_vectors = [doc.infer_vector(i) for i in title_train]"
   ]
  },
  {
   "cell_type": "code",
   "execution_count": 28,
   "metadata": {
    "id": "wWt2DOAPAmvT"
   },
   "outputs": [],
   "source": [
    "test_vectors = [doc.infer_vector(i) for i in title_test]"
   ]
  },
  {
   "cell_type": "code",
   "execution_count": 29,
   "metadata": {
    "id": "zEIle8UHC98V"
   },
   "outputs": [],
   "source": [
    "train_vectors = np.array(train_vectors)\n",
    "test_vectors = np.array(test_vectors)"
   ]
  },
  {
   "cell_type": "code",
   "execution_count": 30,
   "metadata": {
    "colab": {
     "base_uri": "https://localhost:8080/"
    },
    "id": "Xrk5SiRZFzQk",
    "outputId": "cc5c6581-a60f-4743-90d9-def6a1a534b9"
   },
   "outputs": [
    {
     "data": {
      "text/plain": [
       "21221"
      ]
     },
     "execution_count": 30,
     "metadata": {},
     "output_type": "execute_result"
    }
   ],
   "source": [
    "len(doc.wv.vocab)"
   ]
  },
  {
   "cell_type": "code",
   "execution_count": 31,
   "metadata": {
    "colab": {
     "base_uri": "https://localhost:8080/"
    },
    "id": "CjQ_Nl9XME_K",
    "outputId": "71f46e1f-32d2-4042-8c70-e56827741273"
   },
   "outputs": [
    {
     "data": {
      "text/plain": [
       "(35918, 100)"
      ]
     },
     "execution_count": 31,
     "metadata": {},
     "output_type": "execute_result"
    }
   ],
   "source": [
    "train_vectors.shape"
   ]
  },
  {
   "cell_type": "code",
   "execution_count": 32,
   "metadata": {
    "colab": {
     "base_uri": "https://localhost:8080/"
    },
    "id": "wVwvgzBXMOno",
    "outputId": "99c4b829-7a82-49d8-d84b-395793222431"
   },
   "outputs": [
    {
     "name": "stdout",
     "output_type": "stream",
     "text": [
      "[[ 9.2193186e-03 -1.4956165e-02  3.6244802e-02 ...  1.1397374e-02\n",
      "  -1.1436724e-02 -7.2662387e-04]\n",
      " [ 1.1165487e-02  1.0127307e-02  5.7624909e-03 ...  3.4135336e-03\n",
      "  -2.3055119e-02 -1.2651797e-02]\n",
      " [ 4.6519981e-05  1.7949004e-02  1.9925794e-02 ...  2.9980298e-02\n",
      "  -8.8224038e-03 -2.3920793e-02]\n",
      " ...\n",
      " [-5.8834185e-03  6.1994236e-02  1.8414546e-02 ...  4.2487748e-02\n",
      "  -1.4358572e-02 -3.0729558e-02]\n",
      " [ 1.1889640e-02 -3.6250602e-03  2.7054173e-03 ...  2.2165226e-02\n",
      "  -8.5012615e-03 -2.2587448e-03]\n",
      " [ 4.7435503e-02  3.1063996e-02  2.6118455e-02 ... -7.6135434e-03\n",
      "  -2.0956349e-02 -3.3690661e-02]]\n"
     ]
    }
   ],
   "source": [
    "print(train_vectors)"
   ]
  },
  {
   "cell_type": "code",
   "execution_count": 33,
   "metadata": {
    "colab": {
     "base_uri": "https://localhost:8080/"
    },
    "id": "ADtbGuSAhF0p",
    "outputId": "7c25f3eb-569a-42d9-9d67-b9e965dd8b4b"
   },
   "outputs": [
    {
     "name": "stdout",
     "output_type": "stream",
     "text": [
      "Epoch 1/25\n",
      "1123/1123 [==============================] - 9s 5ms/step - loss: 0.5187 - accuracy: 0.7689 - val_loss: 0.4166 - val_accuracy: 0.8134\n",
      "Epoch 2/25\n",
      "1123/1123 [==============================] - 5s 5ms/step - loss: 0.4070 - accuracy: 0.8137 - val_loss: 0.3995 - val_accuracy: 0.8187\n",
      "Epoch 3/25\n",
      "1123/1123 [==============================] - 5s 5ms/step - loss: 0.3911 - accuracy: 0.8223 - val_loss: 0.3886 - val_accuracy: 0.8214\n",
      "Epoch 4/25\n",
      "1123/1123 [==============================] - 5s 5ms/step - loss: 0.3765 - accuracy: 0.8276 - val_loss: 0.3727 - val_accuracy: 0.8307\n",
      "Epoch 5/25\n",
      "1123/1123 [==============================] - 5s 5ms/step - loss: 0.3651 - accuracy: 0.8368 - val_loss: 0.3623 - val_accuracy: 0.8363\n",
      "Epoch 6/25\n",
      "1123/1123 [==============================] - 5s 5ms/step - loss: 0.3574 - accuracy: 0.8405 - val_loss: 0.3537 - val_accuracy: 0.8378\n",
      "Epoch 7/25\n",
      "1123/1123 [==============================] - 5s 5ms/step - loss: 0.3510 - accuracy: 0.8417 - val_loss: 0.3465 - val_accuracy: 0.8425\n",
      "Epoch 8/25\n",
      "1123/1123 [==============================] - 5s 5ms/step - loss: 0.3445 - accuracy: 0.8481 - val_loss: 0.3430 - val_accuracy: 0.8443\n",
      "Epoch 9/25\n",
      "1123/1123 [==============================] - 5s 5ms/step - loss: 0.3406 - accuracy: 0.8500 - val_loss: 0.3402 - val_accuracy: 0.8453\n",
      "Epoch 10/25\n",
      "1123/1123 [==============================] - 5s 5ms/step - loss: 0.3365 - accuracy: 0.8508 - val_loss: 0.3352 - val_accuracy: 0.8483\n",
      "Epoch 11/25\n",
      "1123/1123 [==============================] - 5s 5ms/step - loss: 0.3313 - accuracy: 0.8557 - val_loss: 0.3309 - val_accuracy: 0.8536\n",
      "Epoch 12/25\n",
      "1123/1123 [==============================] - 6s 5ms/step - loss: 0.3298 - accuracy: 0.8552 - val_loss: 0.3288 - val_accuracy: 0.8545\n",
      "Epoch 13/25\n",
      "1123/1123 [==============================] - 6s 5ms/step - loss: 0.3253 - accuracy: 0.8580 - val_loss: 0.3255 - val_accuracy: 0.8550\n",
      "Epoch 14/25\n",
      "1123/1123 [==============================] - 5s 5ms/step - loss: 0.3228 - accuracy: 0.8596 - val_loss: 0.3214 - val_accuracy: 0.8562\n",
      "Epoch 15/25\n",
      "1123/1123 [==============================] - 5s 5ms/step - loss: 0.3189 - accuracy: 0.8633 - val_loss: 0.3211 - val_accuracy: 0.8565\n",
      "Epoch 16/25\n",
      "1123/1123 [==============================] - 5s 5ms/step - loss: 0.3153 - accuracy: 0.8623 - val_loss: 0.3168 - val_accuracy: 0.8601\n",
      "Epoch 17/25\n",
      "1123/1123 [==============================] - 5s 5ms/step - loss: 0.3146 - accuracy: 0.8627 - val_loss: 0.3191 - val_accuracy: 0.8590\n",
      "Epoch 18/25\n",
      "1123/1123 [==============================] - 5s 5ms/step - loss: 0.3124 - accuracy: 0.8645 - val_loss: 0.3131 - val_accuracy: 0.8628\n",
      "Epoch 19/25\n",
      "1123/1123 [==============================] - 6s 5ms/step - loss: 0.3100 - accuracy: 0.8657 - val_loss: 0.3105 - val_accuracy: 0.8633\n",
      "Epoch 20/25\n",
      "1123/1123 [==============================] - 5s 5ms/step - loss: 0.3054 - accuracy: 0.8676 - val_loss: 0.3095 - val_accuracy: 0.8639\n",
      "Epoch 21/25\n",
      "1123/1123 [==============================] - 5s 5ms/step - loss: 0.3051 - accuracy: 0.8687 - val_loss: 0.3070 - val_accuracy: 0.8656\n",
      "Epoch 22/25\n",
      "1123/1123 [==============================] - 5s 5ms/step - loss: 0.3027 - accuracy: 0.8703 - val_loss: 0.3065 - val_accuracy: 0.8656\n",
      "Epoch 23/25\n",
      "1123/1123 [==============================] - 5s 5ms/step - loss: 0.3006 - accuracy: 0.8700 - val_loss: 0.3067 - val_accuracy: 0.8655\n",
      "Epoch 24/25\n",
      "1123/1123 [==============================] - 6s 5ms/step - loss: 0.2997 - accuracy: 0.8690 - val_loss: 0.3022 - val_accuracy: 0.8685\n",
      "Epoch 25/25\n",
      "1123/1123 [==============================] - 6s 5ms/step - loss: 0.2980 - accuracy: 0.8714 - val_loss: 0.3006 - val_accuracy: 0.8699\n",
      "Model: \"sequential\"\n",
      "_________________________________________________________________\n",
      " Layer (type)                Output Shape              Param #   \n",
      "=================================================================\n",
      " dense (Dense)               (None, 128)               12928     \n",
      "                                                                 \n",
      " dropout (Dropout)           (None, 128)               0         \n",
      "                                                                 \n",
      " dense_1 (Dense)             (None, 64)                8256      \n",
      "                                                                 \n",
      " dense_2 (Dense)             (None, 32)                2080      \n",
      "                                                                 \n",
      " dense_3 (Dense)             (None, 16)                528       \n",
      "                                                                 \n",
      " dense_4 (Dense)             (None, 1)                 17        \n",
      "                                                                 \n",
      "=================================================================\n",
      "Total params: 23,809\n",
      "Trainable params: 23,809\n",
      "Non-trainable params: 0\n",
      "_________________________________________________________________\n"
     ]
    }
   ],
   "source": [
    "#Tensorflow neural network\n",
    "import tensorflow as tf\n",
    "#Sequential model\n",
    "model = tf.keras.Sequential()\n",
    "\n",
    "#Dense layer - 128 units -input shape is for the 100 vector length, relu activation\n",
    "model.add(tf.keras.layers.Dense(128,input_shape=[100],activation='relu'))\n",
    "#'Turn off' half the neurons (reduce overfitting - model will not memorize data and will understand patterns)\n",
    "model.add(tf.keras.layers.Dropout(0.5))\n",
    "#Dense layer - 64 units, relu activation\n",
    "model.add(tf.keras.layers.Dense(64,activation='relu'))\n",
    "#Dense layer - 32 units, relu activation\n",
    "model.add(tf.keras.layers.Dense(32,activation='relu'))\n",
    "#Dense layer - 16 units, relu activation\n",
    "model.add(tf.keras.layers.Dense(16,activation='relu'))\n",
    "#Dense layer - 1 units, sigmoid activation\n",
    "#Binary problem - probability of 1 class - derived with sigmoid\n",
    "model.add(tf.keras.layers.Dense(1,activation='sigmoid'))\n",
    "\n",
    "#Train on Adam optimizer with 1e-4 learning rate, loss of binary crossentropy, accuracy tracked\n",
    "model.compile(optimizer=tf.keras.optimizers.Adam(learning_rate = 1e-4),loss=\"binary_crossentropy\", metrics=['accuracy'])\n",
    "\n",
    "#Train on training set, test on testing set, for 5 epochs\n",
    "model.fit(train_vectors,y_train,validation_data=[test_vectors,y_test],epochs=25)\n",
    "\n",
    "#Show model architecture\n",
    "model.summary()"
   ]
  },
  {
   "cell_type": "code",
   "execution_count": 34,
   "metadata": {
    "colab": {
     "base_uri": "https://localhost:8080/"
    },
    "id": "Qm--wfAsmTMF",
    "outputId": "dbf4297a-9ed8-41fd-ecda-fe88d133b6ab"
   },
   "outputs": [
    {
     "data": {
      "text/plain": [
       "(35918, 100)"
      ]
     },
     "execution_count": 34,
     "metadata": {},
     "output_type": "execute_result"
    }
   ],
   "source": [
    "train_vectors.shape"
   ]
  },
  {
   "cell_type": "code",
   "execution_count": 35,
   "metadata": {
    "colab": {
     "base_uri": "https://localhost:8080/"
    },
    "id": "d2Y1JudrJlBV",
    "outputId": "2fbe0089-72f6-4026-92ed-6cabb308e2d3"
   },
   "outputs": [
    {
     "name": "stdout",
     "output_type": "stream",
     "text": [
      "['!', '\"', '#', '$', '%', '&', \"'\", '(', ')', '*', '+', ',', '-', '.', '/', ':', ';', '<', '=', '>', '?', '@', '[', '\\\\', ']', '^', '_', '`', '{', '|', '}', '~', \"'\", '\"']\n",
      "[[ 1.03027187e-02 -5.42743038e-03  6.43382128e-03  2.09822580e-02\n",
      "  -8.51052534e-03  1.21739842e-02  9.82273556e-03 -1.44921122e-02\n",
      "  -2.57635303e-03 -1.81201659e-02 -1.20418640e-02 -2.36000605e-02\n",
      "  -2.27599945e-02 -1.32404547e-02 -2.03780476e-02 -8.92835297e-03\n",
      "   3.42324413e-02 -7.02111563e-03 -9.41620022e-03 -1.13500077e-02\n",
      "  -3.74559164e-02  6.11764332e-03 -1.81380734e-02  1.19039090e-02\n",
      "   4.53117536e-03  2.13256925e-02 -2.34392732e-02 -7.14403111e-03\n",
      "  -4.90000471e-03  2.17065960e-02 -2.57414617e-02  7.09117623e-03\n",
      "  -1.93828754e-02 -3.35035436e-02 -2.22773720e-02 -2.13526487e-02\n",
      "   6.40426353e-02 -5.98212006e-03  3.25885378e-02  2.50625350e-02\n",
      "   2.35947017e-02 -1.28168277e-02 -1.70601800e-03 -1.50656665e-03\n",
      "  -4.38452698e-03  2.56673957e-06 -3.18136439e-02 -2.63421377e-03\n",
      "  -3.68154794e-02  2.52813613e-03 -1.05263973e-02 -4.52750921e-02\n",
      "   5.75289037e-03  1.32393390e-02 -1.65320444e-03 -1.58509631e-02\n",
      "  -9.71216615e-03  2.06757076e-02 -3.24366963e-04  1.00942217e-02\n",
      "  -5.25160059e-02 -1.78408474e-02  4.01903838e-02  2.92466916e-02\n",
      "  -7.12736603e-03  2.47380566e-02  1.15941055e-02 -1.05108926e-02\n",
      "   1.90023445e-02 -1.49607658e-02 -8.04921798e-03 -1.37793552e-02\n",
      "   7.29869865e-03 -2.25996394e-02  9.82528180e-03 -2.00628191e-02\n",
      "   1.95363201e-02 -1.54643441e-02 -4.01832489e-03  2.04022303e-02\n",
      "  -8.98236036e-03 -2.32981015e-02  4.67406586e-02  2.94468105e-02\n",
      "   1.15220230e-02  3.49847996e-03 -3.39776813e-03  1.60553716e-02\n",
      "  -1.83263607e-02  2.05619098e-03  1.57367419e-02  6.08268939e-03\n",
      "  -1.73587799e-02 -5.77012189e-02 -4.91072610e-02 -4.54490520e-02\n",
      "  -2.15132143e-02 -3.03366617e-03 -2.83730291e-02 -5.84829459e-03]]\n"
     ]
    }
   ],
   "source": [
    "#Algorithm used to preprocess a new sentence\n",
    "\n",
    "\n",
    "#New sentence for the model\n",
    "sentence = \"California governor says he will use legal tactics of Texas abortion ban to implement gun control\"\n",
    "\n",
    "#Lowercase words\n",
    "sentence = sentence.lower()\n",
    "\n",
    "#Ensure that all necessary punctuations are in one list\n",
    "#Include ' and \" as they are not default\n",
    "punc = list(string.punctuation)\n",
    "punc.append('\\'')\n",
    "punc.append('\"')\n",
    "print(punc)\n",
    "\n",
    "#Loop through sentence and remove all punctuations\n",
    "for i in string.punctuation:\n",
    "  sentence = sentence.replace(i, '')\n",
    "    \n",
    "#Tokenize sentence -> all words in a new list\n",
    "tok = sentence.split(' ')\n",
    "\n",
    "#Define text lemmatization model (eg: walks will be changed to walk)\n",
    "lemmatizer = WordNetLemmatizer()\n",
    "\n",
    "#Lemmatize each word in the sentence\n",
    "for w in sentence:\n",
    "  lemmatizer.lemmatize(sentence)\n",
    "\n",
    "\n",
    "\n",
    "\n",
    "#Define all stopwords in the English language (it, was, for, etc.)\n",
    "stop = stopwords.words('english')\n",
    "\n",
    "\n",
    "\n",
    "\n",
    "#Remove them from our dataframe and store in a new list\n",
    "minStop = []\n",
    "\n",
    "for i in tok:\n",
    "  if i not in stop:\n",
    "    minStop.append(i)\n",
    "\n",
    "#Doc2Vec tags\n",
    "tag = [TaggedDocument(minStop,[0])]\n",
    "\n",
    "predVec = [doc.infer_vector(minStop)]\n",
    "predVec = np.array(predVec)\n",
    "\n",
    "print(predVec)\n",
    "\n"
   ]
  },
  {
   "cell_type": "code",
   "execution_count": 36,
   "metadata": {
    "colab": {
     "base_uri": "https://localhost:8080/"
    },
    "id": "HNK1ZSXyOL7F",
    "outputId": "cf60f0f5-3f55-44f5-cea4-87a73852afde"
   },
   "outputs": [
    {
     "data": {
      "text/plain": [
       "(1, 100)"
      ]
     },
     "execution_count": 36,
     "metadata": {},
     "output_type": "execute_result"
    }
   ],
   "source": [
    "predVec.shape"
   ]
  },
  {
   "cell_type": "code",
   "execution_count": 37,
   "metadata": {
    "id": "F7ZF1h6YOHiS"
   },
   "outputs": [],
   "source": [
    "#predicting the probability of fake news on our field data\n",
    "prediction = model.predict(predVec)\n",
    "\n"
   ]
  },
  {
   "cell_type": "code",
   "execution_count": 38,
   "metadata": {
    "colab": {
     "base_uri": "https://localhost:8080/"
    },
    "id": "EpqWT3JFft2-",
    "outputId": "41bd95fb-254b-42c6-8952-93a7b4d8a0ed"
   },
   "outputs": [
    {
     "name": "stdout",
     "output_type": "stream",
     "text": [
      "[[0.28030127]]\n"
     ]
    }
   ],
   "source": [
    "#Printing the prediction\n",
    "print(prediction)"
   ]
  },
  {
   "cell_type": "code",
   "execution_count": 39,
   "metadata": {
    "colab": {
     "base_uri": "https://localhost:8080/"
    },
    "id": "x_o6-miBUffc",
    "outputId": "2a2db805-e289-4fd6-a709-97bb45771645"
   },
   "outputs": [
    {
     "name": "stdout",
     "output_type": "stream",
     "text": [
      "INFO:tensorflow:Assets written to: ram://0b4af3ae-0c92-406a-aef6-502dd543a979/assets\n"
     ]
    }
   ],
   "source": [
    "import pickle \n",
    "\n",
    "pickle.dump(model, open('model.pkl','wb'))\n",
    "\n"
   ]
  },
  {
   "cell_type": "code",
   "execution_count": 40,
   "metadata": {
    "id": "5JCcNO8o2O2g"
   },
   "outputs": [],
   "source": [
    "pickle.dump(doc,open('doc.pkl','wb'))\n"
   ]
  }
 ],
 "metadata": {
  "accelerator": "GPU",
  "colab": {
   "collapsed_sections": [],
   "name": "FakeNewsDetection.ipynb",
   "provenance": []
  },
  "kernelspec": {
   "display_name": "Python 3 (ipykernel)",
   "language": "python",
   "name": "python3"
  },
  "language_info": {
   "codemirror_mode": {
    "name": "ipython",
    "version": 3
   },
   "file_extension": ".py",
   "mimetype": "text/x-python",
   "name": "python",
   "nbconvert_exporter": "python",
   "pygments_lexer": "ipython3",
   "version": "3.9.10"
  }
 },
 "nbformat": 4,
 "nbformat_minor": 4
}
