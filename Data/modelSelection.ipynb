{
 "cells": [
  {
   "cell_type": "code",
   "execution_count": 2,
   "metadata": {},
   "outputs": [],
   "source": [
    "from lazypredict.Supervised import LazyClassifier\n",
    "from sklearn.model_selection import train_test_split\n",
    "import pandas as pd\n",
    "from sklearn.datasets import load_breast_cancer"
   ]
  },
  {
   "cell_type": "code",
   "execution_count": 7,
   "metadata": {},
   "outputs": [],
   "source": [
    "real = pd.read_csv('true.csv')\n",
    "fake = pd.read_csv('fake.csv')"
   ]
  },
  {
   "cell_type": "code",
   "execution_count": 8,
   "metadata": {},
   "outputs": [],
   "source": [
    "class0 = []\n",
    "\n",
    "for i in range(real.shape[0]):\n",
    "  class0.append(0)\n",
    "\n",
    "real.insert(4, \"class\", class0, True)\n",
    "\n",
    "class1 = []\n",
    "\n",
    "for i in range(fake.shape[0]):\n",
    "  class1.append(1)\n",
    "\n",
    "fake.insert(4, \"class\", class1, True)"
   ]
  },
  {
   "cell_type": "code",
   "execution_count": 9,
   "metadata": {},
   "outputs": [
    {
     "data": {
      "text/html": [
       "<div>\n",
       "<style scoped>\n",
       "    .dataframe tbody tr th:only-of-type {\n",
       "        vertical-align: middle;\n",
       "    }\n",
       "\n",
       "    .dataframe tbody tr th {\n",
       "        vertical-align: top;\n",
       "    }\n",
       "\n",
       "    .dataframe thead th {\n",
       "        text-align: right;\n",
       "    }\n",
       "</style>\n",
       "<table border=\"1\" class=\"dataframe\">\n",
       "  <thead>\n",
       "    <tr style=\"text-align: right;\">\n",
       "      <th></th>\n",
       "      <th>title</th>\n",
       "      <th>class</th>\n",
       "    </tr>\n",
       "  </thead>\n",
       "  <tbody>\n",
       "    <tr>\n",
       "      <th>16257</th>\n",
       "      <td>MIC DROP MOMENT: Veteran Senator Asked By A Te...</td>\n",
       "      <td>1</td>\n",
       "    </tr>\n",
       "    <tr>\n",
       "      <th>19089</th>\n",
       "      <td>Netanyahu muzzles Israeli officials on Kurdish...</td>\n",
       "      <td>0</td>\n",
       "    </tr>\n",
       "    <tr>\n",
       "      <th>8852</th>\n",
       "      <td>Barbaric Bullies Set Disabled 13-Year-Old Boy...</td>\n",
       "      <td>1</td>\n",
       "    </tr>\n",
       "    <tr>\n",
       "      <th>8237</th>\n",
       "      <td>Watch The Moment A White Teacher Gets SCHOOLE...</td>\n",
       "      <td>1</td>\n",
       "    </tr>\n",
       "    <tr>\n",
       "      <th>3900</th>\n",
       "      <td>White Grievance Queen Tomi Lahren Gets OWNED ...</td>\n",
       "      <td>1</td>\n",
       "    </tr>\n",
       "  </tbody>\n",
       "</table>\n",
       "</div>"
      ],
      "text/plain": [
       "                                                   title  class\n",
       "16257  MIC DROP MOMENT: Veteran Senator Asked By A Te...      1\n",
       "19089  Netanyahu muzzles Israeli officials on Kurdish...      0\n",
       "8852    Barbaric Bullies Set Disabled 13-Year-Old Boy...      1\n",
       "8237    Watch The Moment A White Teacher Gets SCHOOLE...      1\n",
       "3900    White Grievance Queen Tomi Lahren Gets OWNED ...      1"
      ]
     },
     "execution_count": 9,
     "metadata": {},
     "output_type": "execute_result"
    }
   ],
   "source": [
    "total = pd.concat([real,fake])\n",
    "total = total.sample(frac=1)\n",
    "data = total[['title','class']]\n",
    "data.head()"
   ]
  },
  {
   "cell_type": "code",
   "execution_count": 10,
   "metadata": {},
   "outputs": [],
   "source": [
    "titles = data['title'].values\n",
    "classes = data['class'].values"
   ]
  },
  {
   "cell_type": "code",
   "execution_count": 12,
   "metadata": {},
   "outputs": [],
   "source": [
    "X_train, X_test, y_train, y_test = train_test_split(titles, classes, test_size=0.25, random_state=123)"
   ]
  },
  {
   "cell_type": "code",
   "execution_count": 16,
   "metadata": {},
   "outputs": [
    {
     "data": {
      "text/plain": [
       "array([1, 0, 1, ..., 0, 0, 1], dtype=int64)"
      ]
     },
     "execution_count": 16,
     "metadata": {},
     "output_type": "execute_result"
    }
   ],
   "source": [
    "y_train"
   ]
  },
  {
   "cell_type": "code",
   "execution_count": 17,
   "metadata": {},
   "outputs": [
    {
     "name": "stderr",
     "output_type": "stream",
     "text": [
      " 38%|███▊      | 11/29 [00:09<00:09,  1.87it/s]"
     ]
    }
   ],
   "source": [
    "clf = LazyClassifier(verbose=0, ignore_warnings=True, custom_metric=None)\n",
    "models, predictions = clf.fit(X_train, X_test, y_train, y_test)"
   ]
  },
  {
   "cell_type": "code",
   "execution_count": 6,
   "metadata": {},
   "outputs": [
    {
     "name": "stdout",
     "output_type": "stream",
     "text": [
      "                               Accuracy  Balanced Accuracy  ROC AUC  F1 Score  \\\n",
      "Model                                                                           \n",
      "LogisticRegression                 0.99               0.99     0.99      0.99   \n",
      "RandomForestClassifier             0.99               0.99     0.99      0.99   \n",
      "QuadraticDiscriminantAnalysis      0.99               0.99     0.99      0.99   \n",
      "LinearSVC                          0.99               0.98     0.98      0.99   \n",
      "SVC                                0.99               0.98     0.98      0.99   \n",
      "RidgeClassifierCV                  0.99               0.98     0.98      0.99   \n",
      "RidgeClassifier                    0.99               0.98     0.98      0.99   \n",
      "ExtraTreesClassifier               0.99               0.98     0.98      0.99   \n",
      "LabelPropagation                   0.98               0.98     0.98      0.98   \n",
      "LabelSpreading                     0.98               0.98     0.98      0.98   \n",
      "SGDClassifier                      0.98               0.98     0.98      0.98   \n",
      "Perceptron                         0.98               0.98     0.98      0.98   \n",
      "LGBMClassifier                     0.98               0.98     0.98      0.98   \n",
      "KNeighborsClassifier               0.98               0.98     0.98      0.98   \n",
      "DecisionTreeClassifier             0.98               0.98     0.98      0.98   \n",
      "BernoulliNB                        0.98               0.98     0.98      0.98   \n",
      "LinearDiscriminantAnalysis         0.98               0.97     0.97      0.98   \n",
      "CalibratedClassifierCV             0.98               0.97     0.97      0.98   \n",
      "AdaBoostClassifier                 0.97               0.97     0.97      0.97   \n",
      "PassiveAggressiveClassifier        0.97               0.97     0.97      0.97   \n",
      "XGBClassifier                      0.97               0.97     0.97      0.97   \n",
      "NearestCentroid                    0.97               0.95     0.95      0.96   \n",
      "NuSVC                              0.97               0.95     0.95      0.96   \n",
      "GaussianNB                         0.97               0.95     0.95      0.96   \n",
      "BaggingClassifier                  0.95               0.95     0.95      0.95   \n",
      "ExtraTreeClassifier                0.94               0.94     0.94      0.94   \n",
      "DummyClassifier                    0.57               0.53     0.53      0.56   \n",
      "\n",
      "                               Time Taken  \n",
      "Model                                      \n",
      "LogisticRegression                   0.04  \n",
      "RandomForestClassifier               0.16  \n",
      "QuadraticDiscriminantAnalysis        0.07  \n",
      "LinearSVC                            0.01  \n",
      "SVC                                  0.01  \n",
      "RidgeClassifierCV                    0.01  \n",
      "RidgeClassifier                      0.11  \n",
      "ExtraTreesClassifier                 0.10  \n",
      "LabelPropagation                     0.02  \n",
      "LabelSpreading                       0.02  \n",
      "SGDClassifier                        0.01  \n",
      "Perceptron                           0.01  \n",
      "LGBMClassifier                       0.28  \n",
      "KNeighborsClassifier                 0.02  \n",
      "DecisionTreeClassifier               0.01  \n",
      "BernoulliNB                          0.07  \n",
      "LinearDiscriminantAnalysis           0.12  \n",
      "CalibratedClassifierCV               0.03  \n",
      "AdaBoostClassifier                   0.31  \n",
      "PassiveAggressiveClassifier          0.06  \n",
      "XGBClassifier                        0.60  \n",
      "NearestCentroid                      0.01  \n",
      "NuSVC                                0.04  \n",
      "GaussianNB                           0.01  \n",
      "BaggingClassifier                    0.05  \n",
      "ExtraTreeClassifier                  0.01  \n",
      "DummyClassifier                      0.10  \n"
     ]
    }
   ],
   "source": [
    "print(models)"
   ]
  }
 ],
 "metadata": {
  "kernelspec": {
   "display_name": "Python 3.9.10 64-bit",
   "language": "python",
   "name": "python3"
  },
  "language_info": {
   "codemirror_mode": {
    "name": "ipython",
    "version": 3
   },
   "file_extension": ".py",
   "mimetype": "text/x-python",
   "name": "python",
   "nbconvert_exporter": "python",
   "pygments_lexer": "ipython3",
   "version": "3.9.10 (tags/v3.9.10:f2f3f53, Jan 17 2022, 15:14:21) [MSC v.1929 64 bit (AMD64)]"
  },
  "orig_nbformat": 4,
  "vscode": {
   "interpreter": {
    "hash": "f51df58419b4451633f1122dee53416a438e30ff6de9c36c325bc1a87ba5e597"
   }
  }
 },
 "nbformat": 4,
 "nbformat_minor": 2
}
